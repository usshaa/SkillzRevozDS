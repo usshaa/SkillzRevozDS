{
 "cells": [
  {
   "cell_type": "code",
   "execution_count": 2,
   "metadata": {},
   "outputs": [],
   "source": [
    "import numpy as np\n",
    "import pandas as pd\n",
    "import matplotlib.pyplot as plt"
   ]
  },
  {
   "cell_type": "code",
   "execution_count": 3,
   "metadata": {},
   "outputs": [],
   "source": [
    "# Step 2: Create Sample Data\n",
    "data = {\n",
    "    'Name': ['John', 'Alice', 'Bob', 'Alice', 'Charlie'],\n",
    "    'Age': [25, 30, np.nan, 30, 35],\n",
    "    'Salary': [50000, 60000, 70000, np.nan, 80000]\n",
    "}\n",
    "\n",
    "df = pd.DataFrame(data)"
   ]
  },
  {
   "cell_type": "code",
   "execution_count": 4,
   "metadata": {},
   "outputs": [],
   "source": [
    "# Step 3: Handling Missing Values\n",
    "df['Age'].fillna(df['Age'].mean(), inplace=True)\n",
    "df.dropna(subset=['Salary'], inplace=True)"
   ]
  },
  {
   "cell_type": "code",
   "execution_count": 5,
   "metadata": {},
   "outputs": [],
   "source": [
    "# Step 4: Remove Duplicates\n",
    "df.drop_duplicates(inplace=True)"
   ]
  },
  {
   "cell_type": "code",
   "execution_count": 6,
   "metadata": {},
   "outputs": [],
   "source": [
    "# Step 5: Data Transformation\n",
    "df['Age_Category'] = np.where(df['Age'] < 30, 'Young', 'Old')\n",
    "df['Salary'] = df['Salary'] / 1000"
   ]
  },
  {
   "cell_type": "code",
   "execution_count": 7,
   "metadata": {},
   "outputs": [],
   "source": [
    "# Step 6: Data Aggregation\n",
    "avg_salary_by_age = df.groupby('Age_Category')['Salary'].mean()"
   ]
  },
  {
   "cell_type": "code",
   "execution_count": 8,
   "metadata": {},
   "outputs": [],
   "source": [
    "# Step 7: Data Sorting\n",
    "df.sort_values(by='Age', inplace=True)"
   ]
  },
  {
   "cell_type": "code",
   "execution_count": 9,
   "metadata": {},
   "outputs": [],
   "source": [
    "# Step 8: Data Filtering\n",
    "high_salary_df = df[df['Salary'] > 60]"
   ]
  },
  {
   "cell_type": "code",
   "execution_count": 10,
   "metadata": {},
   "outputs": [],
   "source": [
    "# Step 9: Data Merging\n",
    "data2 = {'Name': ['Alice', 'Bob', 'Charlie'], 'Department': ['HR', 'IT', 'Marketing']}\n",
    "df2 = pd.DataFrame(data2)\n",
    "merged_df = pd.merge(df, df2, on='Name', how='left')"
   ]
  },
  {
   "cell_type": "code",
   "execution_count": 11,
   "metadata": {},
   "outputs": [
    {
     "data": {
      "image/png": "[encoded data removed]",
      "text/plain": [
       "<Figure size 432x288 with 1 Axes>"
      ]
     },
     "metadata": {
      "needs_background": "light"
     },
     "output_type": "display_data"
    }
   ],
   "source": [
    "# Step 10: Data Visualization (Optional)\n",
    "avg_salary_by_age.plot(kind='bar', rot=0)\n",
    "plt.title('Average Salary by Age Category')\n",
    "plt.xlabel('Age Category')\n",
    "plt.ylabel('Average Salary (in thousands)')\n",
    "plt.show()"
   ]
  },
  {
   "cell_type": "code",
   "execution_count": 12,
   "metadata": {},
   "outputs": [],
   "source": [
    "# Additional Operations\n",
    "# Slicing\n",
    "sliced_df = df.loc[1:2, ['Name', 'Salary']]"
   ]
  },
  {
   "cell_type": "code",
   "execution_count": 13,
   "metadata": {},
   "outputs": [],
   "source": [
    "# Grouping\n",
    "grouped_df = df.groupby('Age')['Salary'].mean().reset_index()"
   ]
  },
  {
   "cell_type": "code",
   "execution_count": 14,
   "metadata": {},
   "outputs": [],
   "source": [
    "# Concatenation\n",
    "concatenated_df = pd.concat([df, df2], ignore_index=True)"
   ]
  },
  {
   "cell_type": "code",
   "execution_count": 15,
   "metadata": {},
   "outputs": [],
   "source": [
    "# Removing Duplicates\n",
    "df_no_duplicates = df.drop_duplicates(subset='Name')"
   ]
  },
  {
   "cell_type": "code",
   "execution_count": 16,
   "metadata": {},
   "outputs": [],
   "source": [
    "# Replacing Null Values\n",
    "mean_salary = df['Salary'].mean()\n",
    "df['Salary'].fillna(mean_salary, inplace=True)"
   ]
  },
  {
   "cell_type": "code",
   "execution_count": 17,
   "metadata": {},
   "outputs": [],
   "source": [
    "# Sorting\n",
    "df_sorted = df.sort_values(by='Age', ascending=False)"
   ]
  },
  {
   "cell_type": "code",
   "execution_count": 18,
   "metadata": {},
   "outputs": [
    {
     "name": "stdout",
     "output_type": "stream",
     "text": [
      "Original DataFrame:\n",
      "      Name   Age  Salary Age_Category\n",
      "0     John  25.0    50.0        Young\n",
      "1    Alice  30.0    60.0          Old\n",
      "2      Bob  30.0    70.0          Old\n",
      "4  Charlie  35.0    80.0          Old\n",
      "\n",
      "Sliced DataFrame:\n",
      "    Name  Salary\n",
      "1  Alice    60.0\n",
      "2    Bob    70.0\n",
      "\n",
      "Grouped DataFrame:\n",
      "    Age  Salary\n",
      "0  25.0    50.0\n",
      "1  30.0    65.0\n",
      "2  35.0    80.0\n",
      "\n",
      "Concatenated DataFrame:\n",
      "      Name   Age  Salary Age_Category Department\n",
      "0     John  25.0    50.0        Young        NaN\n",
      "1    Alice  30.0    60.0          Old        NaN\n",
      "2      Bob  30.0    70.0          Old        NaN\n",
      "3  Charlie  35.0    80.0          Old        NaN\n",
      "4    Alice   NaN     NaN          NaN         HR\n",
      "5      Bob   NaN     NaN          NaN         IT\n",
      "6  Charlie   NaN     NaN          NaN  Marketing\n",
      "\n",
      "DataFrame with No Duplicates:\n",
      "      Name   Age  Salary Age_Category\n",
      "0     John  25.0    50.0        Young\n",
      "1    Alice  30.0    60.0          Old\n",
      "2      Bob  30.0    70.0          Old\n",
      "4  Charlie  35.0    80.0          Old\n",
      "\n",
      "DataFrame with Null Values Replaced:\n",
      "      Name   Age  Salary Age_Category\n",
      "0     John  25.0    50.0        Young\n",
      "1    Alice  30.0    60.0          Old\n",
      "2      Bob  30.0    70.0          Old\n",
      "4  Charlie  35.0    80.0          Old\n",
      "\n",
      "Sorted DataFrame:\n",
      "      Name   Age  Salary Age_Category\n",
      "4  Charlie  35.0    80.0          Old\n",
      "1    Alice  30.0    60.0          Old\n",
      "2      Bob  30.0    70.0          Old\n",
      "0     John  25.0    50.0        Young\n"
     ]
    }
   ],
   "source": [
    "# Display Results\n",
    "print(\"Original DataFrame:\")\n",
    "print(df)\n",
    "\n",
    "print(\"\\nSliced DataFrame:\")\n",
    "print(sliced_df)\n",
    "\n",
    "print(\"\\nGrouped DataFrame:\")\n",
    "print(grouped_df)\n",
    "\n",
    "print(\"\\nConcatenated DataFrame:\")\n",
    "print(concatenated_df)\n",
    "\n",
    "print(\"\\nDataFrame with No Duplicates:\")\n",
    "print(df_no_duplicates)\n",
    "\n",
    "print(\"\\nDataFrame with Null Values Replaced:\")\n",
    "print(df)\n",
    "\n",
    "print(\"\\nSorted DataFrame:\")\n",
    "print(df_sorted)"
   ]
  }
 ],
 "metadata": {
  "kernelspec": {
   "display_name": "Python 3",
   "language": "python",
   "name": "python3"
  },
  "language_info": {
   "codemirror_mode": {
    "name": "ipython",
    "version": 3
   },
   "file_extension": ".py",
   "mimetype": "text/x-python",
   "name": "python",
   "nbconvert_exporter": "python",
   "pygments_lexer": "ipython3",
   "version": "3.7.4"
  }
 },
 "nbformat": 4,
 "nbformat_minor": 4
}
