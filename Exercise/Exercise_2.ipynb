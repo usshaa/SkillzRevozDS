{
  "nbformat": 4,
  "nbformat_minor": 0,
  "metadata": {
    "colab": {
      "provenance": []
    },
    "kernelspec": {
      "name": "python3",
      "display_name": "Python 3"
    },
    "language_info": {
      "name": "python"
    }
  },
  "cells": [
    {
      "cell_type": "markdown",
      "source": [
        "### ✅ **Exercise 1: LMS Attendance Analyzer**\n",
        "\n",
        "#### 👩‍🎓 Concepts: list, float, indexing, for loop, if-else\n",
        "\n",
        "**Scenario:** You are tracking weekly attendance for 5 students in a course.\n",
        "\n",
        "> ✅ Hint: Use a `for` loop or list comprehension.\n",
        "\n",
        "#### 🔧 Task:"
      ],
      "metadata": {
        "id": "mcqmLHMAatBA"
      }
    },
    {
      "cell_type": "markdown",
      "source": [
        "1. Ask the user to input 5 attendance percentages (float values) and store them in a list.\n"
      ],
      "metadata": {
        "id": "gqZmzO-ibZUy"
      }
    },
    {
      "cell_type": "code",
      "source": [
        "attendance = []\n",
        "for i in range(5):\n",
        "    percent = float(input(f\"Enter attendance percentage for student {i+1}: \"))\n",
        "    attendance.append(percent)"
      ],
      "metadata": {
        "id": "u91UqJEFa_c8",
        "colab": {
          "base_uri": "https://localhost:8080/"
        },
        "outputId": "8670b90a-0c4c-4490-84ec-e6d0ebbfb6f6"
      },
      "execution_count": null,
      "outputs": [
        {
          "name": "stdout",
          "output_type": "stream",
          "text": [
            "Enter attendance percentage for student 1: 76\n",
            "Enter attendance percentage for student 2: 74\n",
            "Enter attendance percentage for student 3: 88\n",
            "Enter attendance percentage for student 4: 85\n",
            "Enter attendance percentage for student 5: 90\n"
          ]
        }
      ]
    },
    {
      "cell_type": "markdown",
      "source": [
        "2. Print how many students had **>=75% attendance**."
      ],
      "metadata": {
        "id": "c3REeVETbb5o"
      }
    },
    {
      "cell_type": "code",
      "source": [
        "eligible_count = 0\n",
        "for a in attendance:\n",
        "    if a >= 75.0:\n",
        "        eligible_count += 1"
      ],
      "metadata": {
        "id": "1QJpYkWjbe0G"
      },
      "execution_count": null,
      "outputs": []
    },
    {
      "cell_type": "markdown",
      "source": [
        "3. If all students had >=75%, print `\"All students are eligible for exam\"` else print `\"Some students need to improve attendance\"`."
      ],
      "metadata": {
        "id": "9cKUwfembfOR"
      }
    },
    {
      "cell_type": "code",
      "source": [
        "print(f\"\\nEligible students: {eligible_count}\")\n",
        "if eligible_count == 5:\n",
        "    print(\"All students are eligible for exam.\")\n",
        "else:\n",
        "    print(\"Some students need to improve attendance.\")"
      ],
      "metadata": {
        "id": "LtD_DX5obgNK",
        "colab": {
          "base_uri": "https://localhost:8080/"
        },
        "outputId": "d41efca7-a502-4b39-ed82-6a013fcea15e"
      },
      "execution_count": null,
      "outputs": [
        {
          "output_type": "stream",
          "name": "stdout",
          "text": [
            "\n",
            "Eligible students: 4\n",
            "Some students need to improve attendance.\n"
          ]
        }
      ]
    },
    {
      "cell_type": "markdown",
      "source": [
        "### ✅ **Exercise 2: Course Dictionary Builder**\n",
        "\n",
        "#### 📘 Concepts: dictionary, input(), string, int, dictionary comprehension\n",
        "\n",
        "**Scenario:** You’re creating a course tracker with course names and the number of modules.\n",
        "\n",
        "> ✅ Hint: `new_dict = {k.upper(): v*2 for k, v in old_dict.items()}`\n",
        "\n",
        "#### 🔧 Task:\n",
        "\n"
      ],
      "metadata": {
        "id": "YsprwA7-axIz"
      }
    },
    {
      "cell_type": "markdown",
      "source": [
        "1. Ask the user how many courses they want to enter.\n"
      ],
      "metadata": {
        "id": "biEe6Rrsb4aD"
      }
    },
    {
      "cell_type": "code",
      "source": [
        "n = int(input(\"How many courses do you want to enter? \"))\n",
        "courses = {}"
      ],
      "metadata": {
        "id": "8TZkihsbb6dZ",
        "colab": {
          "base_uri": "https://localhost:8080/"
        },
        "outputId": "1920053e-89b9-49c2-e338-c8176d9253fa"
      },
      "execution_count": null,
      "outputs": [
        {
          "name": "stdout",
          "output_type": "stream",
          "text": [
            "How many courses do you want to enter? 3\n"
          ]
        }
      ]
    },
    {
      "cell_type": "markdown",
      "source": [
        "2. Use a `for` loop and `input()` to build a dictionary:\n",
        "   **Keys**: Course name (string)\n",
        "   **Values**: No. of modules (int)"
      ],
      "metadata": {
        "id": "ILEp8zA1b62t"
      }
    },
    {
      "cell_type": "code",
      "source": [
        "for i in range(n):\n",
        "    name = input(f\"Enter course {i+1} name: \")\n",
        "    modules = int(input(f\"Enter number of modules in {name}: \"))\n",
        "    courses[name] = modules"
      ],
      "metadata": {
        "id": "zPQSyPmvb84t",
        "colab": {
          "base_uri": "https://localhost:8080/"
        },
        "outputId": "0f554acd-88f9-4c80-a8d5-914c2bdb241c"
      },
      "execution_count": null,
      "outputs": [
        {
          "name": "stdout",
          "output_type": "stream",
          "text": [
            "Enter course 1 name: Python\n",
            "Enter number of modules in Python: 5\n",
            "Enter course 2 name: Data Manipulation\n",
            "Enter number of modules in Data Manipulation: 2\n",
            "Enter course 3 name: Data Visualization\n",
            "Enter number of modules in Data Visualization: 2\n"
          ]
        }
      ]
    },
    {
      "cell_type": "code",
      "source": [
        "print(\"\\nOriginal Course Dictionary:\", courses)"
      ],
      "metadata": {
        "colab": {
          "base_uri": "https://localhost:8080/"
        },
        "id": "TLhlyDCfST51",
        "outputId": "a552fe81-f4dc-4e70-b148-3b659bed865b"
      },
      "execution_count": null,
      "outputs": [
        {
          "output_type": "stream",
          "name": "stdout",
          "text": [
            "\n",
            "Original Course Dictionary: {'Python': 5, 'Data Manipulation': 2, 'Data Visualization': 2}\n"
          ]
        }
      ]
    },
    {
      "cell_type": "markdown",
      "source": [
        "3. Use dictionary comprehension to create a new dictionary with course names in UPPERCASE and number of modules \\* 2."
      ],
      "metadata": {
        "id": "uyAGzyPbb9gB"
      }
    },
    {
      "cell_type": "code",
      "source": [
        "updated_courses = {k.upper(): v * 2 for k, v in courses.items()}\n",
        "\n",
        "print(\"Updated Course Dictionary:\", updated_courses)"
      ],
      "metadata": {
        "id": "Fr4PEW7Mble0",
        "colab": {
          "base_uri": "https://localhost:8080/"
        },
        "outputId": "81ed29d9-0543-4ccb-c5bb-066b04f39646"
      },
      "execution_count": null,
      "outputs": [
        {
          "output_type": "stream",
          "name": "stdout",
          "text": [
            "Updated Course Dictionary: {'PYTHON': 10, 'DATA MANIPULATION': 4, 'DATA VISUALIZATION': 4}\n"
          ]
        }
      ]
    },
    {
      "cell_type": "markdown",
      "source": [
        "### ✅ **Exercise 3: Unique Skills Collector**\n",
        "\n",
        "#### 🎓 Concepts: sets, input(), for loop\n",
        "\n",
        "**Scenario:** Students enter their top 3 skills. You want to find out **unique skills** across all entries.\n",
        "\n",
        "> ✅ Hint: Use `.split(',')` and `.strip()`.\n",
        "\n",
        "#### 🔧 Task:\n",
        "\n"
      ],
      "metadata": {
        "id": "Veg15EGja2ib"
      }
    },
    {
      "cell_type": "markdown",
      "source": [
        "1. Ask the user how many students will input their skills."
      ],
      "metadata": {
        "id": "ubQT0t8DcDzR"
      }
    },
    {
      "cell_type": "code",
      "source": [
        "n = int(input(\"Enter number of students: \"))\n",
        "unique_skills = set()"
      ],
      "metadata": {
        "colab": {
          "base_uri": "https://localhost:8080/"
        },
        "id": "CIo5BRwUa1H_",
        "outputId": "55c4ff61-40a8-4749-950e-ccc84d7103e3"
      },
      "execution_count": null,
      "outputs": [
        {
          "name": "stdout",
          "output_type": "stream",
          "text": [
            "Enter number of students: 3\n"
          ]
        }
      ]
    },
    {
      "cell_type": "markdown",
      "source": [
        "2. For each student, ask them to input 3 skills (comma-separated)."
      ],
      "metadata": {
        "id": "h19ca-_XcFqw"
      }
    },
    {
      "cell_type": "code",
      "source": [
        "for i in range(n):\n",
        "    skills = input(f\"Enter 3 skills for student {i+1} (comma-separated): \")\n",
        "    skill_list = [skill.strip().lower() for skill in skills.split(\",\")]\n",
        "    unique_skills.update(skill_list)"
      ],
      "metadata": {
        "colab": {
          "base_uri": "https://localhost:8080/"
        },
        "id": "iKxF6RYFcHhP",
        "outputId": "1bce9616-c264-407f-8cd9-627912547e3b"
      },
      "execution_count": null,
      "outputs": [
        {
          "name": "stdout",
          "output_type": "stream",
          "text": [
            "Enter 3 skills for student 1 (comma-separated): Python,Data Manipulation,Data Visualization\n",
            "Enter 3 skills for student 2 (comma-separated): Python,Data Manipulation,Machine Learning, Deep Learning\n",
            "Enter 3 skills for student 3 (comma-separated): Python, Data Visualization, Power BI\n"
          ]
        }
      ]
    },
    {
      "cell_type": "markdown",
      "source": [
        "3. Use a `set` to store and display all **unique skills** in the class."
      ],
      "metadata": {
        "id": "iU6l9t59cIAU"
      }
    },
    {
      "cell_type": "code",
      "source": [
        "print(\"\\nUnique skills in the class:\")\n",
        "for skill in unique_skills:\n",
        "    print(\"-\", skill)"
      ],
      "metadata": {
        "colab": {
          "base_uri": "https://localhost:8080/"
        },
        "id": "NVOKG1TLcL7o",
        "outputId": "d6a93d1c-4b45-44c4-9f76-a0fce866d7f7"
      },
      "execution_count": null,
      "outputs": [
        {
          "output_type": "stream",
          "name": "stdout",
          "text": [
            "\n",
            "Unique skills in the class:\n",
            "- data visualization\n",
            "- data manipulation\n",
            "- power bi\n",
            "- python\n",
            "- machine learning\n",
            "- deep learning\n"
          ]
        }
      ]
    },
    {
      "cell_type": "markdown",
      "source": [
        "### ✅ **Exercise 4: Feedback Sentiment Counter**\n",
        "\n",
        "#### 🧠 Concepts: list, string, for loop, if-else, list comprehension, indexing\n",
        "\n",
        "**Scenario:** You are analyzing LMS feedback using keyword sentiment.\n",
        "\n",
        "> ✅ Output the total count and print the positive feedbacks list.\n",
        "\n",
        "#### 🔧 Task:\n",
        "\n"
      ],
      "metadata": {
        "id": "Kj2b1froa73C"
      }
    },
    {
      "cell_type": "markdown",
      "source": [
        "1. Ask the user to enter a list of feedback strings (comma-separated)."
      ],
      "metadata": {
        "id": "gV4rIrincTKR"
      }
    },
    {
      "cell_type": "code",
      "source": [
        "#good course, bad interface, average experience, good support, bad video quality, good pacing, average materials"
      ],
      "metadata": {
        "id": "jYaoXXdDUbv-"
      },
      "execution_count": null,
      "outputs": []
    },
    {
      "cell_type": "code",
      "source": [
        "feedback_input = input(\"Enter feedbacks (comma-separated): \")\n",
        "feedback_list = [fb.strip().lower() for fb in feedback_input.split(\",\")]"
      ],
      "metadata": {
        "id": "LuVJHfM9cVLX",
        "colab": {
          "base_uri": "https://localhost:8080/"
        },
        "outputId": "b77d64d5-ff74-40fa-9ea2-dfa408a934b7"
      },
      "execution_count": null,
      "outputs": [
        {
          "name": "stdout",
          "output_type": "stream",
          "text": [
            "Enter feedbacks (comma-separated): good session, very good session, session is in average level, not bad, can be improved average level, bad\n"
          ]
        }
      ]
    },
    {
      "cell_type": "markdown",
      "source": [
        "2. Count the number of times `\"good\"`, `\"bad\"`, and `\"average\"` appear in total."
      ],
      "metadata": {
        "id": "DivxieUJcV1W"
      }
    },
    {
      "cell_type": "code",
      "source": [
        "good_count = 0\n",
        "bad_count = 0\n",
        "average_count = 0"
      ],
      "metadata": {
        "id": "cq5N2OL_cXV6"
      },
      "execution_count": null,
      "outputs": []
    },
    {
      "cell_type": "code",
      "source": [
        "for fb in feedback_list:\n",
        "    if \"good\" in fb:\n",
        "        good_count += 1\n",
        "    if \"bad\" in fb:\n",
        "        bad_count += 1\n",
        "    if \"average\" in fb:\n",
        "        average_count += 1"
      ],
      "metadata": {
        "id": "lKb4q-qBTdC5"
      },
      "execution_count": null,
      "outputs": []
    },
    {
      "cell_type": "markdown",
      "source": [
        "3. Use a list comprehension to store only positive feedbacks (`\"good\"` in text)."
      ],
      "metadata": {
        "id": "Yp6HqQi9cXx0"
      }
    },
    {
      "cell_type": "code",
      "source": [
        "positive_feedbacks = [fb for fb in feedback_list if \"good\" in fb]"
      ],
      "metadata": {
        "id": "Rm6DLppHcZs5"
      },
      "execution_count": null,
      "outputs": []
    },
    {
      "cell_type": "code",
      "source": [
        "print(\"\\nSentiment Summary:\")\n",
        "print(\"Good:\", good_count)\n",
        "print(\"Bad:\", bad_count)\n",
        "print(\"Average:\", average_count)\n",
        "\n",
        "print(\"\\nPositive Feedbacks:\")\n",
        "for fb in positive_feedbacks:\n",
        "    print(\"-\", fb)"
      ],
      "metadata": {
        "colab": {
          "base_uri": "https://localhost:8080/"
        },
        "id": "Er9MXbl3Tge7",
        "outputId": "b31f2f92-fd9a-4df8-d781-35c375f15e05"
      },
      "execution_count": null,
      "outputs": [
        {
          "output_type": "stream",
          "name": "stdout",
          "text": [
            "\n",
            "Sentiment Summary:\n",
            "Good: 2\n",
            "Bad: 2\n",
            "Average: 2\n",
            "\n",
            "Positive Feedbacks:\n",
            "- good session\n",
            "- very good session\n"
          ]
        }
      ]
    },
    {
      "cell_type": "code",
      "source": [],
      "metadata": {
        "id": "DUoZ1SEMTlGH"
      },
      "execution_count": null,
      "outputs": []
    }
  ]
}