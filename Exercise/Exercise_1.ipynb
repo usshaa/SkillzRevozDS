{
  "nbformat": 4,
  "nbformat_minor": 0,
  "metadata": {
    "colab": {
      "provenance": []
    },
    "kernelspec": {
      "name": "python3",
      "display_name": "Python 3"
    },
    "language_info": {
      "name": "python"
    }
  },
  "cells": [
    {
      "cell_type": "markdown",
      "source": [
        "## ✅ **Exercise 1: LMS Login Validator**\n",
        "\n",
        "### 🎯 Goal:\n",
        "\n",
        "Check if a student's password is too similar to their username."
      ],
      "metadata": {
        "id": "TNj90Pqm-p-l"
      }
    },
    {
      "cell_type": "markdown",
      "source": [
        "### 🔶 Step 1: Get user input\n",
        "\n",
        "Ask the user to input their **username** and **password**."
      ],
      "metadata": {
        "id": "8K-wDaNi-s4N"
      }
    },
    {
      "cell_type": "code",
      "execution_count": null,
      "metadata": {
        "id": "GaoYvh_p-OTY",
        "colab": {
          "base_uri": "https://localhost:8080/"
        },
        "outputId": "539acdd9-ad72-4937-e81e-5fe42165f93e"
      },
      "outputs": [
        {
          "name": "stdout",
          "output_type": "stream",
          "text": [
            "Enter your username: Nandhini\n",
            "Enter your password: Nandh\n"
          ]
        }
      ],
      "source": [
        "username = input(\"Enter your username: \")\n",
        "password = input(\"Enter your password: \")"
      ]
    },
    {
      "cell_type": "markdown",
      "source": [
        "\n",
        "\n",
        "### 🔶 Step 2: Check similarity\n",
        "\n",
        "Check if the **first three characters** of the username appear in the password (case-sensitive)."
      ],
      "metadata": {
        "id": "E2fQFRjI-uuH"
      }
    },
    {
      "cell_type": "code",
      "source": [
        "n = \"Guido Van Rossum\"\n",
        "'g' in n"
      ],
      "metadata": {
        "colab": {
          "base_uri": "https://localhost:8080/"
        },
        "id": "OtxyZFGhBFpt",
        "outputId": "7b8305ad-0dc3-46b8-d3d7-d79763528545"
      },
      "execution_count": null,
      "outputs": [
        {
          "output_type": "execute_result",
          "data": {
            "text/plain": [
              "False"
            ]
          },
          "metadata": {},
          "execution_count": 23
        }
      ]
    },
    {
      "cell_type": "code",
      "source": [
        "#membership - in not in\n",
        "#relational - <, >, <=, >=, ==, !=\n",
        "username[:3] in password"
      ],
      "metadata": {
        "colab": {
          "base_uri": "https://localhost:8080/"
        },
        "id": "xTZ9ov2--16M",
        "outputId": "12b8a23b-0589-43fc-d88a-e7e9a48be718"
      },
      "execution_count": null,
      "outputs": [
        {
          "output_type": "execute_result",
          "data": {
            "text/plain": [
              "True"
            ]
          },
          "metadata": {},
          "execution_count": 18
        }
      ]
    },
    {
      "cell_type": "code",
      "source": [
        "if username[:3] in password:\n",
        "  print(\"Password is too similar to the username.\")\n",
        "else:\n",
        "  print(\"Password is valid.\")"
      ],
      "metadata": {
        "id": "YeErIJet-oAr",
        "colab": {
          "base_uri": "https://localhost:8080/"
        },
        "outputId": "33ebbc7d-331c-4bd9-8069-0a1d44ee8e7e"
      },
      "execution_count": null,
      "outputs": [
        {
          "output_type": "stream",
          "name": "stdout",
          "text": [
            "Password is too similar to the username.\n"
          ]
        }
      ]
    },
    {
      "cell_type": "markdown",
      "source": [
        "## ✅ **Exercise 2: Course Credit Calculator**\n",
        "\n",
        "### 🎯 Goal:\n",
        "\n",
        "Calculate a student's weekly credit score based on study hours per course.\n",
        "\n",
        "### 🧾 Credit Weights:\n",
        "\n",
        "* **Python:** 2.5 credits/hour\n",
        "* **Data Science:** 3.0 credits/hour\n",
        "* **AI:** 4.0 credits/hour\n"
      ],
      "metadata": {
        "id": "1ET5Bsp5-0KA"
      }
    },
    {
      "cell_type": "markdown",
      "source": [
        "### 🔶 Step 1: Input study hours\n",
        "\n",
        "Ask the user how many hours they studied each course."
      ],
      "metadata": {
        "id": "_6q6u1U--1FY"
      }
    },
    {
      "cell_type": "code",
      "source": [
        "python_hours = float(input(\"Enter hours studied for Python: \"))\n",
        "data_science_hours = float(input(\"Enter hours studied for Data Science: \"))\n",
        "ai_hours = float(input(\"Enter hours studied for AI: \"))"
      ],
      "metadata": {
        "id": "JTaZfxpr-c39",
        "colab": {
          "base_uri": "https://localhost:8080/"
        },
        "outputId": "3e295c85-f32d-483f-8747-aa78faec57d6"
      },
      "execution_count": null,
      "outputs": [
        {
          "name": "stdout",
          "output_type": "stream",
          "text": [
            "Enter hours studied for Python: 1\n",
            "Enter hours studied for Data Science: 1\n",
            "Enter hours studied for AI: 1\n"
          ]
        }
      ]
    },
    {
      "cell_type": "markdown",
      "source": [
        "### 🔶 Step 2: Calculate total credits\n",
        "\n",
        "Multiply the hours by their corresponding credit values.\n"
      ],
      "metadata": {
        "id": "MaTO3gXg-5TR"
      }
    },
    {
      "cell_type": "code",
      "source": [
        "python_credits = python_hours * 2.5\n",
        "data_science_credits = data_science_hours * 3.0\n",
        "ai_credits = ai_hours * 4.0\n",
        "\n",
        "total_credits = python_credits + data_science_credits + ai_credits"
      ],
      "metadata": {
        "id": "0RhUFl7M-619"
      },
      "execution_count": null,
      "outputs": []
    },
    {
      "cell_type": "markdown",
      "source": [
        "\n",
        "### 🔶 Step 3: Check eligibility\n",
        "\n",
        "Print a message based on the total credits."
      ],
      "metadata": {
        "id": "7QnNTVwF-7V2"
      }
    },
    {
      "cell_type": "code",
      "source": [
        "print(\"{1} {0} {2}\".format(2,3,4))\n",
        "print(f\"Total weekly {python_credits} credits earned: {total_credits}\")\n",
        "print(\"Total weekly {python_credits} credits earned:\",total_credits)\n"
      ],
      "metadata": {
        "colab": {
          "base_uri": "https://localhost:8080/"
        },
        "id": "u9fAP1zzFbsp",
        "outputId": "bba6c992-4cec-4acd-e851-e99e6eee3933"
      },
      "execution_count": null,
      "outputs": [
        {
          "output_type": "stream",
          "name": "stdout",
          "text": [
            "3 2 4\n",
            "Total weekly 2.5 credits earned: 9.5\n",
            "Total weekly {python_credits} credits earned: 9.5\n"
          ]
        }
      ]
    },
    {
      "cell_type": "code",
      "source": [
        "print(\"Total weekly {python_credits} credits earned:\",total_credits)\n",
        "print(f\"Total weekly {4} credits earned: {total_credits}\")\n",
        "print(\"Total weekly credits earned: {}\".format(2,3,4))\n",
        "\n",
        "if total_credits >= 20:\n",
        "  print(\"Eligible for certification.\")\n",
        "else:\n",
        "  print(\"More credits needed for certification.\")"
      ],
      "metadata": {
        "id": "A897NAdD-75e",
        "colab": {
          "base_uri": "https://localhost:8080/"
        },
        "outputId": "f6d69470-103c-4e03-8c28-680038cbbb40"
      },
      "execution_count": null,
      "outputs": [
        {
          "output_type": "stream",
          "name": "stdout",
          "text": [
            "Total weekly {python_credits} credits earned: 9.5\n",
            "Total weekly 4 credits earned: 9.5\n",
            "Total weekly credits earned: 2\n",
            "More credits needed for certification.\n"
          ]
        }
      ]
    },
    {
      "cell_type": "code",
      "source": [],
      "metadata": {
        "id": "j1AVTz2HC2Lb"
      },
      "execution_count": null,
      "outputs": []
    }
  ]
}