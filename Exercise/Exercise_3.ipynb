{
  "nbformat": 4,
  "nbformat_minor": 0,
  "metadata": {
    "colab": {
      "provenance": []
    },
    "kernelspec": {
      "name": "python3",
      "display_name": "Python 3"
    },
    "language_info": {
      "name": "python"
    }
  },
  "cells": [
    {
      "cell_type": "markdown",
      "source": [
        "## ✅ **Exercise 1: Data Cleaning Utility with Functions**\n",
        "\n",
        "### **Scenario**: As a data analyst, you're cleaning a CSV file with inconsistent user data."
      ],
      "metadata": {
        "id": "nl_HSM5pU7IN"
      }
    },
    {
      "cell_type": "markdown",
      "source": [
        "### **Tasks**:\n",
        "\n",
        "1. **Define a function** `clean_name(name)` that:\n",
        "\n",
        "   * Removes extra spaces\n",
        "   * Capitalizes first letters (e.g., `\"  john doe \"` → `\"John Doe\"`)"
      ],
      "metadata": {
        "id": "zVD2Jvp6VBX7"
      }
    },
    {
      "cell_type": "code",
      "execution_count": null,
      "metadata": {
        "id": "5iZHxvjEU5wd",
        "colab": {
          "base_uri": "https://localhost:8080/"
        },
        "outputId": "9b365dd6-c362-4f96-ef6c-971c7901c1e2"
      },
      "outputs": [
        {
          "output_type": "stream",
          "name": "stdout",
          "text": [
            "John Doe\n"
          ]
        }
      ],
      "source": [
        "def clean_name(name):\n",
        "    # Remove extra spaces and capitalize each word\n",
        "    cleaned = name.strip().title()\n",
        "    return cleaned\n",
        "\n",
        "# Example usage\n",
        "print(clean_name(\"  john doe \"))  # Output: John Doe"
      ]
    },
    {
      "cell_type": "markdown",
      "source": [
        "2. Use **`map()`** to clean a list of names:\n",
        "   `[\"  alice \", \"BOB\", \"   Charlie brown \"]`"
      ],
      "metadata": {
        "id": "dcgG0FIZVGlj"
      }
    },
    {
      "cell_type": "code",
      "source": [
        "names = [\"  alice \", \"BOB\", \"   Charlie brown \"]\n",
        "cleaned_names = list(map(clean_name, names))\n",
        "print(cleaned_names)"
      ],
      "metadata": {
        "id": "FIP9Zd4rVIEr",
        "colab": {
          "base_uri": "https://localhost:8080/"
        },
        "outputId": "75024ff1-411e-4468-c2e1-f9fe636ac080"
      },
      "execution_count": null,
      "outputs": [
        {
          "output_type": "stream",
          "name": "stdout",
          "text": [
            "['Alice', 'Bob', 'Charlie Brown']\n"
          ]
        }
      ]
    },
    {
      "cell_type": "markdown",
      "source": [
        "3. Write a **lambda function** to check if cleaned names are longer than 5 characters. Use **`filter()`** to return only those names."
      ],
      "metadata": {
        "id": "9ZE1cVVBVJc4"
      }
    },
    {
      "cell_type": "code",
      "source": [
        "long_names = list(filter(lambda n: len(n) > 5, cleaned_names))\n",
        "print(long_names)"
      ],
      "metadata": {
        "id": "DPg17ImZVMtc",
        "colab": {
          "base_uri": "https://localhost:8080/"
        },
        "outputId": "59e3fbbc-0ef4-4083-dd53-f5821bb7e135"
      },
      "execution_count": null,
      "outputs": [
        {
          "output_type": "stream",
          "name": "stdout",
          "text": [
            "['Charlie Brown']\n"
          ]
        }
      ]
    },
    {
      "cell_type": "markdown",
      "source": [
        "## ✅ **Exercise 2: Sales Data Summary Using Lambda, Map, and Reduce**\n",
        "\n",
        "### **Scenario**: You are working with weekly sales data for a retail client."
      ],
      "metadata": {
        "id": "0powb6nRVNfW"
      }
    },
    {
      "cell_type": "markdown",
      "source": [
        "### **Tasks**:\n",
        "\n",
        "1. You have a list:\n",
        "   `sales = [1200, 1500, 800, 950, 1000, 1100, 900]`\n",
        "   Use **`map()`** with a **lambda** to convert this to profit by applying a 10% margin."
      ],
      "metadata": {
        "id": "tMR2r1LZVQAs"
      }
    },
    {
      "cell_type": "code",
      "source": [
        "sales = [1200, 1500, 800, 950, 1000, 1100, 900]"
      ],
      "metadata": {
        "id": "2n4QQmw-VPVo"
      },
      "execution_count": null,
      "outputs": []
    },
    {
      "cell_type": "code",
      "source": [
        "profits = list(map(lambda x: x * 0.10, sales))\n",
        "print(\"Profits:\", profits)"
      ],
      "metadata": {
        "colab": {
          "base_uri": "https://localhost:8080/"
        },
        "id": "3eMZZHByHgRm",
        "outputId": "eaa782d4-4cd6-42cc-b7c9-3369e5a93c8d"
      },
      "execution_count": null,
      "outputs": [
        {
          "output_type": "stream",
          "name": "stdout",
          "text": [
            "Profits: [120.0, 150.0, 80.0, 95.0, 100.0, 110.0, 90.0]\n"
          ]
        }
      ]
    },
    {
      "cell_type": "markdown",
      "source": [
        "2. Use **`filter()`** with a lambda to extract sales greater than or equal to 1000."
      ],
      "metadata": {
        "id": "n66zPLfVVUZW"
      }
    },
    {
      "cell_type": "code",
      "source": [
        "big_sales = list(filter(lambda x: x >= 1000, sales))\n",
        "print(\"Big sales:\", big_sales)"
      ],
      "metadata": {
        "id": "UsUpXtRrVV3u",
        "colab": {
          "base_uri": "https://localhost:8080/"
        },
        "outputId": "dbee5598-e3e7-4f99-865f-8b451f7bec86"
      },
      "execution_count": null,
      "outputs": [
        {
          "output_type": "stream",
          "name": "stdout",
          "text": [
            "Big sales: [1200, 1500, 1000, 1100]\n"
          ]
        }
      ]
    },
    {
      "cell_type": "markdown",
      "source": [
        "3. Use **`reduce()`** from `functools` to calculate total profit."
      ],
      "metadata": {
        "id": "Hw61xDkWVWVr"
      }
    },
    {
      "cell_type": "code",
      "source": [
        "from functools import reduce\n",
        "total_profit = reduce(lambda x, y: x + y, profits)\n",
        "print(\"Total profit:\", total_profit)"
      ],
      "metadata": {
        "id": "Djq_NTQ5VYXB",
        "colab": {
          "base_uri": "https://localhost:8080/"
        },
        "outputId": "2dea78b8-b584-4cb6-ecec-dc66d6499d22"
      },
      "execution_count": null,
      "outputs": [
        {
          "output_type": "stream",
          "name": "stdout",
          "text": [
            "Total profit: 745.0\n"
          ]
        }
      ]
    },
    {
      "cell_type": "markdown",
      "source": [
        "## ✅ **Exercise 3: Customer Profile Class Builder**\n",
        "\n",
        "### **Scenario**: You're building a customer segmentation tool using OOP."
      ],
      "metadata": {
        "id": "UdTvYQQfVYsC"
      }
    },
    {
      "cell_type": "markdown",
      "source": [
        "### **Tasks**:\n",
        "\n",
        "1. Define a class `Customer` with attributes: `name`, `age`, and `spending`."
      ],
      "metadata": {
        "id": "xoKwmyZ8VaaQ"
      }
    },
    {
      "cell_type": "code",
      "source": [
        "class Customer:\n",
        "    def __init__(self, name, age, spending):\n",
        "        self.name = name\n",
        "        self.age = age\n",
        "        self.spending = spending\n",
        "\n",
        "    def is_high_value(self):\n",
        "        return self.spending > 5000\n"
      ],
      "metadata": {
        "id": "4dpoMBXWVaG7"
      },
      "execution_count": null,
      "outputs": []
    },
    {
      "cell_type": "markdown",
      "source": [
        "2. Create a **constructor (`__init__`)** that initializes these values."
      ],
      "metadata": {
        "id": "40TuknFKVgsb"
      }
    },
    {
      "cell_type": "code",
      "source": [
        "# Create customers\n",
        "cust1 = Customer(\"Alice\", 30, 6000)\n",
        "cust2 = Customer(\"Bob\", 22, 4500)\n",
        "cust3 = Customer(\"Charlie\", 40, 7000)"
      ],
      "metadata": {
        "id": "VOna23jFViCC"
      },
      "execution_count": null,
      "outputs": []
    },
    {
      "cell_type": "markdown",
      "source": [
        "3. Add a method `is_high_value()` that returns `True` if spending is above 5000.\n",
        "   Create 3 customer objects and test this method."
      ],
      "metadata": {
        "id": "mouqZcX5ViYY"
      }
    },
    {
      "cell_type": "code",
      "source": [
        "print(cust1.name, \"High Value:\", cust1.is_high_value())\n",
        "print(cust2.name, \"High Value:\", cust2.is_high_value())\n",
        "print(cust3.name, \"High Value:\", cust3.is_high_value())"
      ],
      "metadata": {
        "id": "f2rR5nn7VkRx",
        "colab": {
          "base_uri": "https://localhost:8080/"
        },
        "outputId": "2f271c64-376f-42c3-da5f-82ae1046bbb0"
      },
      "execution_count": null,
      "outputs": [
        {
          "output_type": "stream",
          "name": "stdout",
          "text": [
            "Alice High Value: True\n",
            "Bob High Value: False\n",
            "Charlie High Value: True\n"
          ]
        }
      ]
    },
    {
      "cell_type": "markdown",
      "source": [
        "## ✅ **Exercise 4: Inherited Analytics Report Generator**\n",
        "\n",
        "### **Scenario**: You are developing a reporting module that summarizes sales and customer behavior."
      ],
      "metadata": {
        "id": "n0zsEMkqVkpb"
      }
    },
    {
      "cell_type": "markdown",
      "source": [
        "### **Tasks**:\n",
        "\n",
        "1. Define a base class `Report` with a method `generate_summary()` that prints a generic message."
      ],
      "metadata": {
        "id": "G7W-AeurVndO"
      }
    },
    {
      "cell_type": "code",
      "source": [
        "class Report:\n",
        "    def generate_summary(self):\n",
        "        print(\"Generating a generic report summary.\")"
      ],
      "metadata": {
        "id": "wcs4DbCcVmCs"
      },
      "execution_count": null,
      "outputs": []
    },
    {
      "cell_type": "markdown",
      "source": [
        "2. Create a child class `SalesReport` that inherits from `Report`, and overrides `generate_summary()` to show:\n",
        "\n",
        "   * Total sales\n",
        "   * Average sales per customer"
      ],
      "metadata": {
        "id": "rRtD0w7QVpXW"
      }
    },
    {
      "cell_type": "code",
      "source": [
        "class SalesReport(Report):\n",
        "    def __init__(self, sales):\n",
        "        self.sales = sales\n",
        "\n",
        "    def generate_summary(self):\n",
        "        total_sales = sum(self.sales)\n",
        "        avg_sales = total_sales / len(self.sales)\n",
        "        print(f\"Total Sales: {total_sales}\")\n",
        "        print(f\"Average Sales per Customer: {avg_sales:.2f}\")"
      ],
      "metadata": {
        "id": "cc57YFaoVqtd"
      },
      "execution_count": null,
      "outputs": []
    },
    {
      "cell_type": "markdown",
      "source": [
        "3. Instantiate the class with sample data like:\n",
        "   `sales = [1200, 1000, 800, 1300]`, and generate the summary."
      ],
      "metadata": {
        "id": "4bq73S3pVrFH"
      }
    },
    {
      "cell_type": "code",
      "source": [
        "# Sample data\n",
        "sales_data = [1200, 1000, 800, 1300]\n",
        "\n",
        "report = SalesReport(sales_data)\n",
        "report.generate_summary()"
      ],
      "metadata": {
        "id": "51f3ZrGWVtEf",
        "colab": {
          "base_uri": "https://localhost:8080/"
        },
        "outputId": "849c5f3d-8a07-45e9-f6e1-bfa8931a8212"
      },
      "execution_count": null,
      "outputs": [
        {
          "output_type": "stream",
          "name": "stdout",
          "text": [
            "Total Sales: 4300\n",
            "Average Sales per Customer: 1075.00\n"
          ]
        }
      ]
    },
    {
      "cell_type": "markdown",
      "source": [
        "## **Exercise 5: Employee Performance Filter**\n",
        "\n",
        "### **Scenario**: You’re filtering employee records to find top performers for a bonus.\n"
      ],
      "metadata": {
        "id": "t00NQSreVusk"
      }
    },
    {
      "cell_type": "markdown",
      "source": [
        "### **Tasks**:\n",
        "\n",
        "1. Create a `Employee` class with attributes: `name`, `department`, and `performance_score` (0-100)."
      ],
      "metadata": {
        "id": "1GyjU_QFVwv0"
      }
    },
    {
      "cell_type": "code",
      "source": [
        "class Employee:\n",
        "    def __init__(self, name, department, performance_score):\n",
        "        self.name = name\n",
        "        self.department = department\n",
        "        self.performance_score = performance_score\n",
        "\n",
        "    def top_performers(self, threshold):\n",
        "        return self.performance_score > threshold"
      ],
      "metadata": {
        "id": "7BcxURfuVwMH"
      },
      "execution_count": null,
      "outputs": []
    },
    {
      "cell_type": "markdown",
      "source": [
        "2. Using **list comprehension**, get a list of all employees in the \"Sales\" department with a performance score above 85."
      ],
      "metadata": {
        "id": "gkxF9ckBVyoN"
      }
    },
    {
      "cell_type": "code",
      "source": [
        "# Sample employee list\n",
        "employees = [\n",
        "    Employee(\"Alice\", \"Sales\", 92),\n",
        "    Employee(\"Bob\", \"Sales\", 80),\n",
        "    Employee(\"Charlie\", \"HR\", 88),\n",
        "    Employee(\"David\", \"Sales\", 87),\n",
        "    Employee(\"Eve\", \"IT\", 95),\n",
        "]"
      ],
      "metadata": {
        "id": "nGvMYJJjVz8e"
      },
      "execution_count": null,
      "outputs": []
    },
    {
      "cell_type": "code",
      "source": [
        "high_performers = [e.name for e in employees if e.department == \"Sales\" and e.performance_score > 85]\n",
        "print(\"High Performers in Sales:\", high_performers)"
      ],
      "metadata": {
        "colab": {
          "base_uri": "https://localhost:8080/"
        },
        "id": "5XeMNqxWIY85",
        "outputId": "c2c7aab6-336b-43e7-eea2-8586b4143bde"
      },
      "execution_count": null,
      "outputs": [
        {
          "output_type": "stream",
          "name": "stdout",
          "text": [
            "High Performers in Sales: ['Alice', 'David']\n"
          ]
        }
      ]
    },
    {
      "cell_type": "markdown",
      "source": [
        "3. Add a regular method `top_performers(self, threshold)` (not classmethod) that returns `True` if an employee’s `performance_score` is above `threshold`. Use this method in a loop to print names of employees qualifying as top performers with threshold 90."
      ],
      "metadata": {
        "id": "3JijkXdyV0Tt"
      }
    },
    {
      "cell_type": "code",
      "source": [
        "print(\"Top Performers with score > 90:\")\n",
        "for emp in employees:\n",
        "    if emp.top_performers(90):\n",
        "        print(emp.name)\n"
      ],
      "metadata": {
        "id": "Sovl_ZDsXRMc",
        "colab": {
          "base_uri": "https://localhost:8080/"
        },
        "outputId": "214c95c6-c3ba-4212-ced2-ed8a8abb7efc"
      },
      "execution_count": null,
      "outputs": [
        {
          "output_type": "stream",
          "name": "stdout",
          "text": [
            "Top Performers with score > 90:\n",
            "Alice\n",
            "Eve\n"
          ]
        }
      ]
    },
    {
      "cell_type": "code",
      "source": [],
      "metadata": {
        "id": "RFXDk1XcZRiz"
      },
      "execution_count": null,
      "outputs": []
    }
  ]
}