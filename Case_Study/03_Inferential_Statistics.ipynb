{
  "nbformat": 4,
  "nbformat_minor": 0,
  "metadata": {
    "colab": {
      "provenance": []
    },
    "kernelspec": {
      "name": "python3",
      "display_name": "Python 3"
    },
    "language_info": {
      "name": "python"
    }
  },
  "cells": [
    {
      "cell_type": "markdown",
      "source": [
        "## ✅ Topic 3: Inferential Statistics\n",
        "\n",
        "Using the **Social Media Addiction vs Relationships** dataset, this notebook demonstrates key inferential statistics concepts through **hypothesis testing**, confidence intervals, and conclusions drawn from sample data.\n",
        "\n",
        "---\n",
        "\n",
        "## 🎯 Goals:\n",
        "\n",
        "* Estimate population parameters using sample data.\n",
        "* Construct **confidence intervals**.\n",
        "* Perform **hypothesis testing**:\n",
        "\n",
        "  * **One-sample t-test**\n",
        "  * **Two-sample t-test**\n",
        "  * **Chi-square test**\n",
        "  * **One-way ANOVA**\n",
        "  * **F-test for variance**\n",
        "* Interpret p-values and statistical significance."
      ],
      "metadata": {
        "id": "uwWwxMKmVkwG"
      }
    },
    {
      "cell_type": "code",
      "source": [
        "import pandas as pd\n",
        "import numpy as np\n",
        "import seaborn as sns\n",
        "import matplotlib.pyplot as plt\n",
        "from scipy import stats\n",
        "import statsmodels.api as sm\n",
        "from statsmodels.formula.api import ols"
      ],
      "metadata": {
        "id": "2PXNECXdVqDD"
      },
      "execution_count": 1,
      "outputs": []
    },
    {
      "cell_type": "code",
      "source": [
        "#!/bin/bash\n",
        "!curl -L -o social-media-addiction-vs-relationships.zip\\\n",
        "  https://www.kaggle.com/api/v1/datasets/download/adilshamim8/social-media-addiction-vs-relationships\n",
        "!unzip social-media-addiction-vs-relationships.zip"
      ],
      "metadata": {
        "colab": {
          "base_uri": "https://localhost:8080/"
        },
        "id": "ZD_QgymbV2hX",
        "outputId": "cf8f7082-b90e-4b53-ad9c-7d44ea2764c8"
      },
      "execution_count": 2,
      "outputs": [
        {
          "output_type": "stream",
          "name": "stdout",
          "text": [
            "  % Total    % Received % Xferd  Average Speed   Time    Time     Time  Current\n",
            "                                 Dload  Upload   Total   Spent    Left  Speed\n",
            "  0     0    0     0    0     0      0      0 --:--:-- --:--:-- --:--:--     0\n",
            "100  7851  100  7851    0     0  20785      0 --:--:-- --:--:-- --:--:-- 20785\n",
            "Archive:  social-media-addiction-vs-relationships.zip\n",
            "  inflating: Students Social Media Addiction.csv  \n"
          ]
        }
      ]
    },
    {
      "cell_type": "code",
      "source": [
        "# Load dataset\n",
        "df = pd.read_csv(\"Students Social Media Addiction.csv\")"
      ],
      "metadata": {
        "id": "sAsz1TajV6gB"
      },
      "execution_count": 3,
      "outputs": []
    },
    {
      "cell_type": "code",
      "source": [
        "df['Affects_Academic_Performance'] = df['Affects_Academic_Performance'].map({'Yes': 1, 'No': 0})"
      ],
      "metadata": {
        "id": "J5r079pCV_LA"
      },
      "execution_count": 4,
      "outputs": []
    },
    {
      "cell_type": "markdown",
      "source": [
        "### 📌 1. Confidence Interval – Average Daily Usage"
      ],
      "metadata": {
        "id": "vz6mlmomWCRN"
      }
    },
    {
      "cell_type": "code",
      "source": [
        "# Mean and 95% confidence interval\n",
        "usage = df['Avg_Daily_Usage_Hours'].dropna()\n",
        "mean = usage.mean()\n",
        "std_err = stats.sem(usage)\n",
        "ci = stats.t.interval(0.95, len(usage)-1, loc=mean, scale=std_err)"
      ],
      "metadata": {
        "id": "9X17UC1eWBvw"
      },
      "execution_count": 5,
      "outputs": []
    },
    {
      "cell_type": "code",
      "source": [
        "print(f\"📌 95% Confidence Interval for Avg Usage: {ci}\")"
      ],
      "metadata": {
        "colab": {
          "base_uri": "https://localhost:8080/"
        },
        "id": "p-hcp5zGWI3R",
        "outputId": "2880ae1f-28f7-48dc-ca9b-c31923efa345"
      },
      "execution_count": 6,
      "outputs": [
        {
          "output_type": "stream",
          "name": "stdout",
          "text": [
            "📌 95% Confidence Interval for Avg Usage: (np.float64(4.825747077363743), np.float64(5.011699731146895))\n"
          ]
        }
      ]
    },
    {
      "cell_type": "markdown",
      "source": [
        "### 📌 2. One-sample t-test\n",
        "\n",
        "**Q: Is the average daily usage significantly different from 4 hours?**\n",
        "\n"
      ],
      "metadata": {
        "id": "Km9dZl_wWNXd"
      }
    },
    {
      "cell_type": "code",
      "source": [
        "t_stat, p_val = stats.ttest_1samp(usage, 4)\n",
        "print(f\"t-statistic: {t_stat:.3f}, p-value: {p_val:.3f}\")"
      ],
      "metadata": {
        "colab": {
          "base_uri": "https://localhost:8080/"
        },
        "id": "YR9Xv07aWY_s",
        "outputId": "2b010092-ecb4-4769-f554-cd5b5450a392"
      },
      "execution_count": 7,
      "outputs": [
        {
          "output_type": "stream",
          "name": "stdout",
          "text": [
            "t-statistic: 19.400, p-value: 0.000\n"
          ]
        }
      ]
    },
    {
      "cell_type": "code",
      "source": [
        "alpha = 0.05\n",
        "if p_val < alpha:\n",
        "    print(\"✅ Reject H₀ – significant difference from 4 hours.\")\n",
        "else:\n",
        "    print(\"❌ Fail to reject H₀ – no significant difference.\")"
      ],
      "metadata": {
        "colab": {
          "base_uri": "https://localhost:8080/"
        },
        "id": "yZd-VQWsWbIp",
        "outputId": "2805b377-d354-468c-8a2c-dcf7d7c1abf9"
      },
      "execution_count": 8,
      "outputs": [
        {
          "output_type": "stream",
          "name": "stdout",
          "text": [
            "✅ Reject H₀ – significant difference from 4 hours.\n"
          ]
        }
      ]
    },
    {
      "cell_type": "markdown",
      "source": [
        "### 📌 3. Two-sample t-test – Gender vs Addicted Score"
      ],
      "metadata": {
        "id": "nLLmq259WeAP"
      }
    },
    {
      "cell_type": "code",
      "source": [
        "addicted_m = df[df['Gender'] == 'Male']['Addicted_Score']\n",
        "addicted_f = df[df['Gender'] == 'Female']['Addicted_Score']"
      ],
      "metadata": {
        "id": "Vm4Cs3nBWgUw"
      },
      "execution_count": 9,
      "outputs": []
    },
    {
      "cell_type": "code",
      "source": [
        "t_stat, p_val = stats.ttest_ind(addicted_m, addicted_f, equal_var=False)\n",
        "\n",
        "print(f\"t-statistic: {t_stat:.3f}, p-value: {p_val:.3f}\")"
      ],
      "metadata": {
        "colab": {
          "base_uri": "https://localhost:8080/"
        },
        "id": "ucVYkjqqWiRZ",
        "outputId": "654377c5-bde1-4ad9-fab3-3abfbcb79db0"
      },
      "execution_count": 10,
      "outputs": [
        {
          "output_type": "stream",
          "name": "stdout",
          "text": [
            "t-statistic: -1.319, p-value: 0.187\n"
          ]
        }
      ]
    },
    {
      "cell_type": "markdown",
      "source": [
        "### 📌 4. F-test – Variance Comparison"
      ],
      "metadata": {
        "id": "QsuOGNoHWlVs"
      }
    },
    {
      "cell_type": "code",
      "source": [
        "var_m = np.var(addicted_m, ddof=1)\n",
        "var_f = np.var(addicted_f, ddof=1)\n",
        "f_stat = max(var_m, var_f) / min(var_m, var_f)\n",
        "df1, df2 = len(addicted_m)-1, len(addicted_f)-1\n",
        "p_val = 2 * min(stats.f.cdf(f_stat, df1, df2), 1 - stats.f.cdf(f_stat, df1, df2))"
      ],
      "metadata": {
        "id": "eBL2wGnLWntG"
      },
      "execution_count": 11,
      "outputs": []
    },
    {
      "cell_type": "code",
      "source": [
        "print(f\"F-statistic: {f_stat:.3f}, p-value: {p_val:.3f}\")"
      ],
      "metadata": {
        "colab": {
          "base_uri": "https://localhost:8080/"
        },
        "id": "mtJP2-geWpSa",
        "outputId": "eb52817c-68f0-4e21-c61d-5a12bd75748b"
      },
      "execution_count": 12,
      "outputs": [
        {
          "output_type": "stream",
          "name": "stdout",
          "text": [
            "F-statistic: 1.384, p-value: 0.002\n"
          ]
        }
      ]
    },
    {
      "cell_type": "markdown",
      "source": [
        "### 📌 5. Chi-square Test – Academic Performance vs Relationship Status"
      ],
      "metadata": {
        "id": "a1SxiPxqWrMW"
      }
    },
    {
      "cell_type": "code",
      "source": [
        "contingency = pd.crosstab(df['Relationship_Status'], df['Affects_Academic_Performance'])\n",
        "chi2, p, dof, expected = stats.chi2_contingency(contingency)"
      ],
      "metadata": {
        "id": "7aW5yGP1WuqT"
      },
      "execution_count": 13,
      "outputs": []
    },
    {
      "cell_type": "code",
      "source": [
        "print(f\"Chi-square statistic: {chi2:.2f}, p-value: {p:.3f}\")"
      ],
      "metadata": {
        "colab": {
          "base_uri": "https://localhost:8080/"
        },
        "id": "QfsMYMOwWw6q",
        "outputId": "3b52f79b-c2f2-4840-ec31-e43029133f87"
      },
      "execution_count": 14,
      "outputs": [
        {
          "output_type": "stream",
          "name": "stdout",
          "text": [
            "Chi-square statistic: 22.71, p-value: 0.000\n"
          ]
        }
      ]
    },
    {
      "cell_type": "markdown",
      "source": [
        "### 📌 6. One-Way ANOVA – Avg Usage vs Academic Level"
      ],
      "metadata": {
        "id": "CYqUwpzGWzIz"
      }
    },
    {
      "cell_type": "code",
      "source": [
        "groups = [group['Avg_Daily_Usage_Hours'].dropna()\n",
        "          for name, group in df.groupby('Academic_Level')]"
      ],
      "metadata": {
        "id": "bee_F0s1W1VX"
      },
      "execution_count": 15,
      "outputs": []
    },
    {
      "cell_type": "code",
      "source": [
        "f_stat, p_val = stats.f_oneway(*groups)\n",
        "print(f\"F-statistic: {f_stat:.3f}, p-value: {p_val:.3f}\")"
      ],
      "metadata": {
        "colab": {
          "base_uri": "https://localhost:8080/"
        },
        "id": "RYdBd0zCW24E",
        "outputId": "28810afc-80d9-4b09-b06b-e80d299d9066"
      },
      "execution_count": 16,
      "outputs": [
        {
          "output_type": "stream",
          "name": "stdout",
          "text": [
            "F-statistic: 6.265, p-value: 0.002\n"
          ]
        }
      ]
    },
    {
      "cell_type": "markdown",
      "source": [
        "### ✅ Summary Table of Tests\n",
        "\n",
        "| Test                | Question Addressed                                       | Output |\n",
        "| ------------------- | -------------------------------------------------------- | ------ |\n",
        "| Confidence Interval | What's the likely range for average usage?               | 95% CI |\n",
        "| One-sample t-test   | Is usage ≠ 4 hours?                                      | t, p   |\n",
        "| Two-sample t-test   | Do males & females differ in Addicted Score?             | t, p   |\n",
        "| F-test              | Do they differ in variance of Addicted Score?            | F, p   |\n",
        "| Chi-square test     | Is academic performance affected by relationship status? | χ², p  |\n",
        "| ANOVA               | Does usage differ by academic level?                     | F, p   |\n",
        "\n",
        "---\n",
        "\n",
        "### 🧠 Conclusion\n",
        "\n",
        "* Inferential statistics helps generalize findings from samples to populations.\n",
        "* Statistical tests guide whether patterns are **significant or by chance**.\n",
        "* Understanding p-values, confidence levels, and test selection is key to analytics."
      ],
      "metadata": {
        "id": "ts5Jrt4fW9CP"
      }
    }
  ]
}