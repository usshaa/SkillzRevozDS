{
  "cells": [
    {
      "cell_type": "markdown",
      "metadata": {
        "id": "GDWzVTEsP_yh"
      },
      "source": [
        "**Topic 1: Descriptive Statistics**, using the **Social Media Addiction vs Relationships** dataset from Kaggle:\n",
        "\n",
        "---\n",
        "\n",
        "## 🧾 Dataset Overview\n",
        "\n",
        "We're using the **Students' Social Media Addiction – Relationships** survey dataset, which captures:\n",
        "\n",
        "* **Social media usage metrics** (e.g. total screen time, times opened per week/day)\n",
        "* **Addiction status** (Addicted or Not Addicted)\n",
        "* **Relationship satisfaction / perceived loneliness**, **self-esteem**, **anxiety**, and demographic variables ([kaggle.com][1], [github.com][2], [mdpi.com][3])\n",
        "\n",
        "You can find the dataset on Kaggle here:\n",
        "➡️ **Students' Social Media Addiction – Relationships**\n",
        "[https://www.kaggle.com/datasets/adilshamim8/social-media-addiction-vs-relationships](https://www.kaggle.com/datasets/adilshamim8/social-media-addiction-vs-relationships)\n",
        "\n",
        "---\n",
        "\n",
        "## 📊 1. Descriptive Statistics:\n",
        "\n",
        "### 1.1. Import & Load Data"
      ]
    },
    {
      "cell_type": "code",
      "execution_count": 10,
      "metadata": {
        "colab": {
          "base_uri": "https://localhost:8080/"
        },
        "id": "HLUMCCUdQVZl",
        "outputId": "15a5f9b7-9780-46e2-9110-32092aae9f4a"
      },
      "outputs": [
        {
          "name": "stdout",
          "output_type": "stream",
          "text": [
            "  % Total    % Received % Xferd  Average Speed   Time    Time     Time  Current\n",
            "                                 Dload  Upload   Total   Spent    Left  Speed\n",
            "  0     0    0     0    0     0      0      0 --:--:-- --:--:-- --:--:--     0\n",
            "100  7851  100  7851    0     0  18318      0 --:--:-- --:--:-- --:--:--     0\n"
          ]
        }
      ],
      "source": [
        "#!/bin/bash\n",
        "!curl -L -o social-media-addiction-vs-relationships.zip\\\n",
        "  https://www.kaggle.com/api/v1/datasets/download/adilshamim8/social-media-addiction-vs-relationships"
      ]
    },
    {
      "cell_type": "code",
      "execution_count": 11,
      "metadata": {
        "colab": {
          "base_uri": "https://localhost:8080/"
        },
        "id": "INv4XfjvQmZZ",
        "outputId": "87186115-8435-4d7e-c83e-ef935b74dc8f"
      },
      "outputs": [
        {
          "name": "stdout",
          "output_type": "stream",
          "text": [
            "Archive:  social-media-addiction-vs-relationships.zip\n",
            "  inflating: Students Social Media Addiction.csv  \n"
          ]
        }
      ],
      "source": [
        "!unzip social-media-addiction-vs-relationships.zip"
      ]
    },
    {
      "cell_type": "code",
      "execution_count": 17,
      "metadata": {
        "id": "xGs4MXPrRugD"
      },
      "outputs": [],
      "source": [
        "import pandas as pd\n",
        "import numpy as np\n",
        "import seaborn as sns\n",
        "import matplotlib.pyplot as plt"
      ]
    },
    {
      "cell_type": "code",
      "execution_count": 18,
      "metadata": {
        "id": "voGjXmAyRzxQ"
      },
      "outputs": [],
      "source": [
        "# Load dataset\n",
        "df = pd.read_csv(\"Students Social Media Addiction.csv\")"
      ]
    },
    {
      "cell_type": "code",
      "execution_count": 19,
      "metadata": {
        "colab": {
          "base_uri": "https://localhost:8080/",
          "height": 226
        },
        "id": "-4pAv-QyR1ea",
        "outputId": "a8ac92ce-e714-4e42-e3f9-402b2153a33f"
      },
      "outputs": [
        {
          "data": {
            "application/vnd.google.colaboratory.intrinsic+json": {
              "summary": "{\n  \"name\": \"df\",\n  \"rows\": 705,\n  \"fields\": [\n    {\n      \"column\": \"Student_ID\",\n      \"properties\": {\n        \"dtype\": \"number\",\n        \"std\": 203,\n        \"min\": 1,\n        \"max\": 705,\n        \"num_unique_values\": 705,\n        \"samples\": [\n          479,\n          82,\n          78\n        ],\n        \"semantic_type\": \"\",\n        \"description\": \"\"\n      }\n    },\n    {\n      \"column\": \"Age\",\n      \"properties\": {\n        \"dtype\": \"number\",\n        \"std\": 1,\n        \"min\": 18,\n        \"max\": 24,\n        \"num_unique_values\": 7,\n        \"samples\": [\n          19,\n          22,\n          23\n        ],\n        \"semantic_type\": \"\",\n        \"description\": \"\"\n      }\n    },\n    {\n      \"column\": \"Gender\",\n      \"properties\": {\n        \"dtype\": \"category\",\n        \"num_unique_values\": 2,\n        \"samples\": [\n          \"Male\",\n          \"Female\"\n        ],\n        \"semantic_type\": \"\",\n        \"description\": \"\"\n      }\n    },\n    {\n      \"column\": \"Academic_Level\",\n      \"properties\": {\n        \"dtype\": \"category\",\n        \"num_unique_values\": 3,\n        \"samples\": [\n          \"Undergraduate\",\n          \"Graduate\"\n        ],\n        \"semantic_type\": \"\",\n        \"description\": \"\"\n      }\n    },\n    {\n      \"column\": \"Country\",\n      \"properties\": {\n        \"dtype\": \"category\",\n        \"num_unique_values\": 110,\n        \"samples\": [\n          \"Tajikistan\",\n          \"France\"\n        ],\n        \"semantic_type\": \"\",\n        \"description\": \"\"\n      }\n    },\n    {\n      \"column\": \"Avg_Daily_Usage_Hours\",\n      \"properties\": {\n        \"dtype\": \"number\",\n        \"std\": 1.2573945210731428,\n        \"min\": 1.5,\n        \"max\": 8.5,\n        \"num_unique_values\": 67,\n        \"samples\": [\n          3.9,\n          2.0\n        ],\n        \"semantic_type\": \"\",\n        \"description\": \"\"\n      }\n    },\n    {\n      \"column\": \"Most_Used_Platform\",\n      \"properties\": {\n        \"dtype\": \"category\",\n        \"num_unique_values\": 12,\n        \"samples\": [\n          \"WhatsApp\",\n          \"VKontakte\"\n        ],\n        \"semantic_type\": \"\",\n        \"description\": \"\"\n      }\n    },\n    {\n      \"column\": \"Affects_Academic_Performance\",\n      \"properties\": {\n        \"dtype\": \"category\",\n        \"num_unique_values\": 2,\n        \"samples\": [\n          \"No\",\n          \"Yes\"\n        ],\n        \"semantic_type\": \"\",\n        \"description\": \"\"\n      }\n    },\n    {\n      \"column\": \"Sleep_Hours_Per_Night\",\n      \"properties\": {\n        \"dtype\": \"number\",\n        \"std\": 1.126848041531804,\n        \"min\": 3.8,\n        \"max\": 9.6,\n        \"num_unique_values\": 59,\n        \"samples\": [\n          6.5,\n          4.5\n        ],\n        \"semantic_type\": \"\",\n        \"description\": \"\"\n      }\n    },\n    {\n      \"column\": \"Mental_Health_Score\",\n      \"properties\": {\n        \"dtype\": \"number\",\n        \"std\": 1,\n        \"min\": 4,\n        \"max\": 9,\n        \"num_unique_values\": 6,\n        \"samples\": [\n          6,\n          8\n        ],\n        \"semantic_type\": \"\",\n        \"description\": \"\"\n      }\n    },\n    {\n      \"column\": \"Relationship_Status\",\n      \"properties\": {\n        \"dtype\": \"category\",\n        \"num_unique_values\": 3,\n        \"samples\": [\n          \"In Relationship\",\n          \"Single\"\n        ],\n        \"semantic_type\": \"\",\n        \"description\": \"\"\n      }\n    },\n    {\n      \"column\": \"Conflicts_Over_Social_Media\",\n      \"properties\": {\n        \"dtype\": \"number\",\n        \"std\": 0,\n        \"min\": 0,\n        \"max\": 5,\n        \"num_unique_values\": 6,\n        \"samples\": [\n          3,\n          0\n        ],\n        \"semantic_type\": \"\",\n        \"description\": \"\"\n      }\n    },\n    {\n      \"column\": \"Addicted_Score\",\n      \"properties\": {\n        \"dtype\": \"number\",\n        \"std\": 1,\n        \"min\": 2,\n        \"max\": 9,\n        \"num_unique_values\": 8,\n        \"samples\": [\n          3,\n          2\n        ],\n        \"semantic_type\": \"\",\n        \"description\": \"\"\n      }\n    }\n  ]\n}",
              "type": "dataframe",
              "variable_name": "df"
            },
            "text/html": [
              "\n",
              "  <div id=\"df-909bae65-1ef1-4f73-9dd8-13fd212b744a\" class=\"colab-df-container\">\n",
              "    <div>\n",
              "<style scoped>\n",
              "    .dataframe tbody tr th:only-of-type {\n",
              "        vertical-align: middle;\n",
              "    }\n",
              "\n",
              "    .dataframe tbody tr th {\n",
              "        vertical-align: top;\n",
              "    }\n",
              "\n",
              "    .dataframe thead th {\n",
              "        text-align: right;\n",
              "    }\n",
              "</style>\n",
              "<table border=\"1\" class=\"dataframe\">\n",
              "  <thead>\n",
              "    <tr style=\"text-align: right;\">\n",
              "      <th></th>\n",
              "      <th>Student_ID</th>\n",
              "      <th>Age</th>\n",
              "      <th>Gender</th>\n",
              "      <th>Academic_Level</th>\n",
              "      <th>Country</th>\n",
              "      <th>Avg_Daily_Usage_Hours</th>\n",
              "      <th>Most_Used_Platform</th>\n",
              "      <th>Affects_Academic_Performance</th>\n",
              "      <th>Sleep_Hours_Per_Night</th>\n",
              "      <th>Mental_Health_Score</th>\n",
              "      <th>Relationship_Status</th>\n",
              "      <th>Conflicts_Over_Social_Media</th>\n",
              "      <th>Addicted_Score</th>\n",
              "    </tr>\n",
              "  </thead>\n",
              "  <tbody>\n",
              "    <tr>\n",
              "      <th>0</th>\n",
              "      <td>1</td>\n",
              "      <td>19</td>\n",
              "      <td>Female</td>\n",
              "      <td>Undergraduate</td>\n",
              "      <td>Bangladesh</td>\n",
              "      <td>5.2</td>\n",
              "      <td>Instagram</td>\n",
              "      <td>Yes</td>\n",
              "      <td>6.5</td>\n",
              "      <td>6</td>\n",
              "      <td>In Relationship</td>\n",
              "      <td>3</td>\n",
              "      <td>8</td>\n",
              "    </tr>\n",
              "    <tr>\n",
              "      <th>1</th>\n",
              "      <td>2</td>\n",
              "      <td>22</td>\n",
              "      <td>Male</td>\n",
              "      <td>Graduate</td>\n",
              "      <td>India</td>\n",
              "      <td>2.1</td>\n",
              "      <td>Twitter</td>\n",
              "      <td>No</td>\n",
              "      <td>7.5</td>\n",
              "      <td>8</td>\n",
              "      <td>Single</td>\n",
              "      <td>0</td>\n",
              "      <td>3</td>\n",
              "    </tr>\n",
              "    <tr>\n",
              "      <th>2</th>\n",
              "      <td>3</td>\n",
              "      <td>20</td>\n",
              "      <td>Female</td>\n",
              "      <td>Undergraduate</td>\n",
              "      <td>USA</td>\n",
              "      <td>6.0</td>\n",
              "      <td>TikTok</td>\n",
              "      <td>Yes</td>\n",
              "      <td>5.0</td>\n",
              "      <td>5</td>\n",
              "      <td>Complicated</td>\n",
              "      <td>4</td>\n",
              "      <td>9</td>\n",
              "    </tr>\n",
              "    <tr>\n",
              "      <th>3</th>\n",
              "      <td>4</td>\n",
              "      <td>18</td>\n",
              "      <td>Male</td>\n",
              "      <td>High School</td>\n",
              "      <td>UK</td>\n",
              "      <td>3.0</td>\n",
              "      <td>YouTube</td>\n",
              "      <td>No</td>\n",
              "      <td>7.0</td>\n",
              "      <td>7</td>\n",
              "      <td>Single</td>\n",
              "      <td>1</td>\n",
              "      <td>4</td>\n",
              "    </tr>\n",
              "    <tr>\n",
              "      <th>4</th>\n",
              "      <td>5</td>\n",
              "      <td>21</td>\n",
              "      <td>Male</td>\n",
              "      <td>Graduate</td>\n",
              "      <td>Canada</td>\n",
              "      <td>4.5</td>\n",
              "      <td>Facebook</td>\n",
              "      <td>Yes</td>\n",
              "      <td>6.0</td>\n",
              "      <td>6</td>\n",
              "      <td>In Relationship</td>\n",
              "      <td>2</td>\n",
              "      <td>7</td>\n",
              "    </tr>\n",
              "  </tbody>\n",
              "</table>\n",
              "</div>\n",
              "    <div class=\"colab-df-buttons\">\n",
              "\n",
              "  <div class=\"colab-df-container\">\n",
              "    <button class=\"colab-df-convert\" onclick=\"convertToInteractive('df-909bae65-1ef1-4f73-9dd8-13fd212b744a')\"\n",
              "            title=\"Convert this dataframe to an interactive table.\"\n",
              "            style=\"display:none;\">\n",
              "\n",
              "  <svg xmlns=\"http://www.w3.org/2000/svg\" height=\"24px\" viewBox=\"0 -960 960 960\">\n",
              "    <path d=\"M120-120v-720h720v720H120Zm60-500h600v-160H180v160Zm220 220h160v-160H400v160Zm0 220h160v-160H400v160ZM180-400h160v-160H180v160Zm440 0h160v-160H620v160ZM180-180h160v-160H180v160Zm440 0h160v-160H620v160Z\"/>\n",
              "  </svg>\n",
              "    </button>\n",
              "\n",
              "  <style>\n",
              "    .colab-df-container {\n",
              "      display:flex;\n",
              "      gap: 12px;\n",
              "    }\n",
              "\n",
              "    .colab-df-convert {\n",
              "      background-color: #E8F0FE;\n",
              "      border: none;\n",
              "      border-radius: 50%;\n",
              "      cursor: pointer;\n",
              "      display: none;\n",
              "      fill: #1967D2;\n",
              "      height: 32px;\n",
              "      padding: 0 0 0 0;\n",
              "      width: 32px;\n",
              "    }\n",
              "\n",
              "    .colab-df-convert:hover {\n",
              "      background-color: #E2EBFA;\n",
              "      box-shadow: 0px 1px 2px rgba(60, 64, 67, 0.3), 0px 1px 3px 1px rgba(60, 64, 67, 0.15);\n",
              "      fill: #174EA6;\n",
              "    }\n",
              "\n",
              "    .colab-df-buttons div {\n",
              "      margin-bottom: 4px;\n",
              "    }\n",
              "\n",
              "    [theme=dark] .colab-df-convert {\n",
              "      background-color: #3B4455;\n",
              "      fill: #D2E3FC;\n",
              "    }\n",
              "\n",
              "    [theme=dark] .colab-df-convert:hover {\n",
              "      background-color: #434B5C;\n",
              "      box-shadow: 0px 1px 3px 1px rgba(0, 0, 0, 0.15);\n",
              "      filter: drop-shadow(0px 1px 2px rgba(0, 0, 0, 0.3));\n",
              "      fill: #FFFFFF;\n",
              "    }\n",
              "  </style>\n",
              "\n",
              "    <script>\n",
              "      const buttonEl =\n",
              "        document.querySelector('#df-909bae65-1ef1-4f73-9dd8-13fd212b744a button.colab-df-convert');\n",
              "      buttonEl.style.display =\n",
              "        google.colab.kernel.accessAllowed ? 'block' : 'none';\n",
              "\n",
              "      async function convertToInteractive(key) {\n",
              "        const element = document.querySelector('#df-909bae65-1ef1-4f73-9dd8-13fd212b744a');\n",
              "        const dataTable =\n",
              "          await google.colab.kernel.invokeFunction('convertToInteractive',\n",
              "                                                    [key], {});\n",
              "        if (!dataTable) return;\n",
              "\n",
              "        const docLinkHtml = 'Like what you see? Visit the ' +\n",
              "          '<a target=\"_blank\" href=https://colab.research.google.com/notebooks/data_table.ipynb>data table notebook</a>'\n",
              "          + ' to learn more about interactive tables.';\n",
              "        element.innerHTML = '';\n",
              "        dataTable['output_type'] = 'display_data';\n",
              "        await google.colab.output.renderOutput(dataTable, element);\n",
              "        const docLink = document.createElement('div');\n",
              "        docLink.innerHTML = docLinkHtml;\n",
              "        element.appendChild(docLink);\n",
              "      }\n",
              "    </script>\n",
              "  </div>\n",
              "\n",
              "\n",
              "    <div id=\"df-28918403-3489-4700-96fb-879fc3445619\">\n",
              "      <button class=\"colab-df-quickchart\" onclick=\"quickchart('df-28918403-3489-4700-96fb-879fc3445619')\"\n",
              "                title=\"Suggest charts\"\n",
              "                style=\"display:none;\">\n",
              "\n",
              "<svg xmlns=\"http://www.w3.org/2000/svg\" height=\"24px\"viewBox=\"0 0 24 24\"\n",
              "     width=\"24px\">\n",
              "    <g>\n",
              "        <path d=\"M19 3H5c-1.1 0-2 .9-2 2v14c0 1.1.9 2 2 2h14c1.1 0 2-.9 2-2V5c0-1.1-.9-2-2-2zM9 17H7v-7h2v7zm4 0h-2V7h2v10zm4 0h-2v-4h2v4z\"/>\n",
              "    </g>\n",
              "</svg>\n",
              "      </button>\n",
              "\n",
              "<style>\n",
              "  .colab-df-quickchart {\n",
              "      --bg-color: #E8F0FE;\n",
              "      --fill-color: #1967D2;\n",
              "      --hover-bg-color: #E2EBFA;\n",
              "      --hover-fill-color: #174EA6;\n",
              "      --disabled-fill-color: #AAA;\n",
              "      --disabled-bg-color: #DDD;\n",
              "  }\n",
              "\n",
              "  [theme=dark] .colab-df-quickchart {\n",
              "      --bg-color: #3B4455;\n",
              "      --fill-color: #D2E3FC;\n",
              "      --hover-bg-color: #434B5C;\n",
              "      --hover-fill-color: #FFFFFF;\n",
              "      --disabled-bg-color: #3B4455;\n",
              "      --disabled-fill-color: #666;\n",
              "  }\n",
              "\n",
              "  .colab-df-quickchart {\n",
              "    background-color: var(--bg-color);\n",
              "    border: none;\n",
              "    border-radius: 50%;\n",
              "    cursor: pointer;\n",
              "    display: none;\n",
              "    fill: var(--fill-color);\n",
              "    height: 32px;\n",
              "    padding: 0;\n",
              "    width: 32px;\n",
              "  }\n",
              "\n",
              "  .colab-df-quickchart:hover {\n",
              "    background-color: var(--hover-bg-color);\n",
              "    box-shadow: 0 1px 2px rgba(60, 64, 67, 0.3), 0 1px 3px 1px rgba(60, 64, 67, 0.15);\n",
              "    fill: var(--button-hover-fill-color);\n",
              "  }\n",
              "\n",
              "  .colab-df-quickchart-complete:disabled,\n",
              "  .colab-df-quickchart-complete:disabled:hover {\n",
              "    background-color: var(--disabled-bg-color);\n",
              "    fill: var(--disabled-fill-color);\n",
              "    box-shadow: none;\n",
              "  }\n",
              "\n",
              "  .colab-df-spinner {\n",
              "    border: 2px solid var(--fill-color);\n",
              "    border-color: transparent;\n",
              "    border-bottom-color: var(--fill-color);\n",
              "    animation:\n",
              "      spin 1s steps(1) infinite;\n",
              "  }\n",
              "\n",
              "  @keyframes spin {\n",
              "    0% {\n",
              "      border-color: transparent;\n",
              "      border-bottom-color: var(--fill-color);\n",
              "      border-left-color: var(--fill-color);\n",
              "    }\n",
              "    20% {\n",
              "      border-color: transparent;\n",
              "      border-left-color: var(--fill-color);\n",
              "      border-top-color: var(--fill-color);\n",
              "    }\n",
              "    30% {\n",
              "      border-color: transparent;\n",
              "      border-left-color: var(--fill-color);\n",
              "      border-top-color: var(--fill-color);\n",
              "      border-right-color: var(--fill-color);\n",
              "    }\n",
              "    40% {\n",
              "      border-color: transparent;\n",
              "      border-right-color: var(--fill-color);\n",
              "      border-top-color: var(--fill-color);\n",
              "    }\n",
              "    60% {\n",
              "      border-color: transparent;\n",
              "      border-right-color: var(--fill-color);\n",
              "    }\n",
              "    80% {\n",
              "      border-color: transparent;\n",
              "      border-right-color: var(--fill-color);\n",
              "      border-bottom-color: var(--fill-color);\n",
              "    }\n",
              "    90% {\n",
              "      border-color: transparent;\n",
              "      border-bottom-color: var(--fill-color);\n",
              "    }\n",
              "  }\n",
              "</style>\n",
              "\n",
              "      <script>\n",
              "        async function quickchart(key) {\n",
              "          const quickchartButtonEl =\n",
              "            document.querySelector('#' + key + ' button');\n",
              "          quickchartButtonEl.disabled = true;  // To prevent multiple clicks.\n",
              "          quickchartButtonEl.classList.add('colab-df-spinner');\n",
              "          try {\n",
              "            const charts = await google.colab.kernel.invokeFunction(\n",
              "                'suggestCharts', [key], {});\n",
              "          } catch (error) {\n",
              "            console.error('Error during call to suggestCharts:', error);\n",
              "          }\n",
              "          quickchartButtonEl.classList.remove('colab-df-spinner');\n",
              "          quickchartButtonEl.classList.add('colab-df-quickchart-complete');\n",
              "        }\n",
              "        (() => {\n",
              "          let quickchartButtonEl =\n",
              "            document.querySelector('#df-28918403-3489-4700-96fb-879fc3445619 button');\n",
              "          quickchartButtonEl.style.display =\n",
              "            google.colab.kernel.accessAllowed ? 'block' : 'none';\n",
              "        })();\n",
              "      </script>\n",
              "    </div>\n",
              "\n",
              "    </div>\n",
              "  </div>\n"
            ],
            "text/plain": [
              "   Student_ID  Age  Gender Academic_Level     Country  Avg_Daily_Usage_Hours  \\\n",
              "0           1   19  Female  Undergraduate  Bangladesh                    5.2   \n",
              "1           2   22    Male       Graduate       India                    2.1   \n",
              "2           3   20  Female  Undergraduate         USA                    6.0   \n",
              "3           4   18    Male    High School          UK                    3.0   \n",
              "4           5   21    Male       Graduate      Canada                    4.5   \n",
              "\n",
              "  Most_Used_Platform Affects_Academic_Performance  Sleep_Hours_Per_Night  \\\n",
              "0          Instagram                          Yes                    6.5   \n",
              "1            Twitter                           No                    7.5   \n",
              "2             TikTok                          Yes                    5.0   \n",
              "3            YouTube                           No                    7.0   \n",
              "4           Facebook                          Yes                    6.0   \n",
              "\n",
              "   Mental_Health_Score Relationship_Status  Conflicts_Over_Social_Media  \\\n",
              "0                    6     In Relationship                            3   \n",
              "1                    8              Single                            0   \n",
              "2                    5         Complicated                            4   \n",
              "3                    7              Single                            1   \n",
              "4                    6     In Relationship                            2   \n",
              "\n",
              "   Addicted_Score  \n",
              "0               8  \n",
              "1               3  \n",
              "2               9  \n",
              "3               4  \n",
              "4               7  "
            ]
          },
          "execution_count": 19,
          "metadata": {},
          "output_type": "execute_result"
        }
      ],
      "source": [
        "# Display first few rows\n",
        "df.head()"
      ]
    },
    {
      "cell_type": "markdown",
      "metadata": {
        "id": "W3lwsh-rR5G0"
      },
      "source": [
        "### 📌 1. Data Overview"
      ]
    },
    {
      "cell_type": "code",
      "execution_count": 20,
      "metadata": {
        "colab": {
          "base_uri": "https://localhost:8080/"
        },
        "id": "lGxSdD7PR8E2",
        "outputId": "9298317a-46fa-4fd5-ac2c-0175f415b260"
      },
      "outputs": [
        {
          "name": "stdout",
          "output_type": "stream",
          "text": [
            "Shape: (705, 13)\n"
          ]
        }
      ],
      "source": [
        "# Shape and info\n",
        "print(\"Shape:\", df.shape)"
      ]
    },
    {
      "cell_type": "code",
      "execution_count": 21,
      "metadata": {
        "colab": {
          "base_uri": "https://localhost:8080/"
        },
        "id": "ZzVFsPetR-Wk",
        "outputId": "b8e0547d-c579-436b-c7ee-bc152302fce8"
      },
      "outputs": [
        {
          "name": "stdout",
          "output_type": "stream",
          "text": [
            "<class 'pandas.core.frame.DataFrame'>\n",
            "RangeIndex: 705 entries, 0 to 704\n",
            "Data columns (total 13 columns):\n",
            " #   Column                        Non-Null Count  Dtype  \n",
            "---  ------                        --------------  -----  \n",
            " 0   Student_ID                    705 non-null    int64  \n",
            " 1   Age                           705 non-null    int64  \n",
            " 2   Gender                        705 non-null    object \n",
            " 3   Academic_Level                705 non-null    object \n",
            " 4   Country                       705 non-null    object \n",
            " 5   Avg_Daily_Usage_Hours         705 non-null    float64\n",
            " 6   Most_Used_Platform            705 non-null    object \n",
            " 7   Affects_Academic_Performance  705 non-null    object \n",
            " 8   Sleep_Hours_Per_Night         705 non-null    float64\n",
            " 9   Mental_Health_Score           705 non-null    int64  \n",
            " 10  Relationship_Status           705 non-null    object \n",
            " 11  Conflicts_Over_Social_Media   705 non-null    int64  \n",
            " 12  Addicted_Score                705 non-null    int64  \n",
            "dtypes: float64(2), int64(5), object(6)\n",
            "memory usage: 71.7+ KB\n"
          ]
        }
      ],
      "source": [
        "df.info()"
      ]
    },
    {
      "cell_type": "markdown",
      "metadata": {
        "id": "AzmKrJRFSCpY"
      },
      "source": [
        "### 📌 2. Summary Statistics – Numerical Columns"
      ]
    },
    {
      "cell_type": "code",
      "execution_count": 22,
      "metadata": {
        "colab": {
          "base_uri": "https://localhost:8080/",
          "height": 320
        },
        "id": "W37ob8kpSEkI",
        "outputId": "52b3a969-9810-44a6-8025-91769333ef12"
      },
      "outputs": [
        {
          "data": {
            "application/vnd.google.colaboratory.intrinsic+json": {
              "summary": "{\n  \"name\": \"df\",\n  \"rows\": 8,\n  \"fields\": [\n    {\n      \"column\": \"Student_ID\",\n      \"properties\": {\n        \"dtype\": \"number\",\n        \"std\": 253.7806875489316,\n        \"min\": 1.0,\n        \"max\": 705.0,\n        \"num_unique_values\": 6,\n        \"samples\": [\n          705.0,\n          353.0,\n          529.0\n        ],\n        \"semantic_type\": \"\",\n        \"description\": \"\"\n      }\n    },\n    {\n      \"column\": \"Age\",\n      \"properties\": {\n        \"dtype\": \"number\",\n        \"std\": 242.9895460341682,\n        \"min\": 1.399217451919569,\n        \"max\": 705.0,\n        \"num_unique_values\": 8,\n        \"samples\": [\n          20.659574468085108,\n          21.0,\n          705.0\n        ],\n        \"semantic_type\": \"\",\n        \"description\": \"\"\n      }\n    },\n    {\n      \"column\": \"Avg_Daily_Usage_Hours\",\n      \"properties\": {\n        \"dtype\": \"number\",\n        \"std\": 247.70649604040395,\n        \"min\": 1.2573945210731428,\n        \"max\": 705.0,\n        \"num_unique_values\": 8,\n        \"samples\": [\n          4.918723404255319,\n          4.8,\n          705.0\n        ],\n        \"semantic_type\": \"\",\n        \"description\": \"\"\n      }\n    },\n    {\n      \"column\": \"Sleep_Hours_Per_Night\",\n      \"properties\": {\n        \"dtype\": \"number\",\n        \"std\": 247.14732863700502,\n        \"min\": 1.126848041531804,\n        \"max\": 705.0,\n        \"num_unique_values\": 8,\n        \"samples\": [\n          6.868936170212766,\n          6.9,\n          705.0\n        ],\n        \"semantic_type\": \"\",\n        \"description\": \"\"\n      }\n    },\n    {\n      \"column\": \"Mental_Health_Score\",\n      \"properties\": {\n        \"dtype\": \"number\",\n        \"std\": 247.32979347807313,\n        \"min\": 1.1050554948415823,\n        \"max\": 705.0,\n        \"num_unique_values\": 8,\n        \"samples\": [\n          6.226950354609929,\n          6.0,\n          705.0\n        ],\n        \"semantic_type\": \"\",\n        \"description\": \"\"\n      }\n    },\n    {\n      \"column\": \"Conflicts_Over_Social_Media\",\n      \"properties\": {\n        \"dtype\": \"number\",\n        \"std\": 248.36082117759048,\n        \"min\": 0.0,\n        \"max\": 705.0,\n        \"num_unique_values\": 8,\n        \"samples\": [\n          2.849645390070922,\n          3.0,\n          705.0\n        ],\n        \"semantic_type\": \"\",\n        \"description\": \"\"\n      }\n    },\n    {\n      \"column\": \"Addicted_Score\",\n      \"properties\": {\n        \"dtype\": \"number\",\n        \"std\": 247.29839702134547,\n        \"min\": 1.5871649318688412,\n        \"max\": 705.0,\n        \"num_unique_values\": 8,\n        \"samples\": [\n          6.436879432624114,\n          7.0,\n          705.0\n        ],\n        \"semantic_type\": \"\",\n        \"description\": \"\"\n      }\n    }\n  ]\n}",
              "type": "dataframe"
            },
            "text/html": [
              "\n",
              "  <div id=\"df-50e09bfe-5221-4d19-8318-d41271528d22\" class=\"colab-df-container\">\n",
              "    <div>\n",
              "<style scoped>\n",
              "    .dataframe tbody tr th:only-of-type {\n",
              "        vertical-align: middle;\n",
              "    }\n",
              "\n",
              "    .dataframe tbody tr th {\n",
              "        vertical-align: top;\n",
              "    }\n",
              "\n",
              "    .dataframe thead th {\n",
              "        text-align: right;\n",
              "    }\n",
              "</style>\n",
              "<table border=\"1\" class=\"dataframe\">\n",
              "  <thead>\n",
              "    <tr style=\"text-align: right;\">\n",
              "      <th></th>\n",
              "      <th>Student_ID</th>\n",
              "      <th>Age</th>\n",
              "      <th>Avg_Daily_Usage_Hours</th>\n",
              "      <th>Sleep_Hours_Per_Night</th>\n",
              "      <th>Mental_Health_Score</th>\n",
              "      <th>Conflicts_Over_Social_Media</th>\n",
              "      <th>Addicted_Score</th>\n",
              "    </tr>\n",
              "  </thead>\n",
              "  <tbody>\n",
              "    <tr>\n",
              "      <th>count</th>\n",
              "      <td>705.000000</td>\n",
              "      <td>705.000000</td>\n",
              "      <td>705.000000</td>\n",
              "      <td>705.000000</td>\n",
              "      <td>705.000000</td>\n",
              "      <td>705.000000</td>\n",
              "      <td>705.000000</td>\n",
              "    </tr>\n",
              "    <tr>\n",
              "      <th>mean</th>\n",
              "      <td>353.000000</td>\n",
              "      <td>20.659574</td>\n",
              "      <td>4.918723</td>\n",
              "      <td>6.868936</td>\n",
              "      <td>6.226950</td>\n",
              "      <td>2.849645</td>\n",
              "      <td>6.436879</td>\n",
              "    </tr>\n",
              "    <tr>\n",
              "      <th>std</th>\n",
              "      <td>203.660256</td>\n",
              "      <td>1.399217</td>\n",
              "      <td>1.257395</td>\n",
              "      <td>1.126848</td>\n",
              "      <td>1.105055</td>\n",
              "      <td>0.957968</td>\n",
              "      <td>1.587165</td>\n",
              "    </tr>\n",
              "    <tr>\n",
              "      <th>min</th>\n",
              "      <td>1.000000</td>\n",
              "      <td>18.000000</td>\n",
              "      <td>1.500000</td>\n",
              "      <td>3.800000</td>\n",
              "      <td>4.000000</td>\n",
              "      <td>0.000000</td>\n",
              "      <td>2.000000</td>\n",
              "    </tr>\n",
              "    <tr>\n",
              "      <th>25%</th>\n",
              "      <td>177.000000</td>\n",
              "      <td>19.000000</td>\n",
              "      <td>4.100000</td>\n",
              "      <td>6.000000</td>\n",
              "      <td>5.000000</td>\n",
              "      <td>2.000000</td>\n",
              "      <td>5.000000</td>\n",
              "    </tr>\n",
              "    <tr>\n",
              "      <th>50%</th>\n",
              "      <td>353.000000</td>\n",
              "      <td>21.000000</td>\n",
              "      <td>4.800000</td>\n",
              "      <td>6.900000</td>\n",
              "      <td>6.000000</td>\n",
              "      <td>3.000000</td>\n",
              "      <td>7.000000</td>\n",
              "    </tr>\n",
              "    <tr>\n",
              "      <th>75%</th>\n",
              "      <td>529.000000</td>\n",
              "      <td>22.000000</td>\n",
              "      <td>5.800000</td>\n",
              "      <td>7.700000</td>\n",
              "      <td>7.000000</td>\n",
              "      <td>4.000000</td>\n",
              "      <td>8.000000</td>\n",
              "    </tr>\n",
              "    <tr>\n",
              "      <th>max</th>\n",
              "      <td>705.000000</td>\n",
              "      <td>24.000000</td>\n",
              "      <td>8.500000</td>\n",
              "      <td>9.600000</td>\n",
              "      <td>9.000000</td>\n",
              "      <td>5.000000</td>\n",
              "      <td>9.000000</td>\n",
              "    </tr>\n",
              "  </tbody>\n",
              "</table>\n",
              "</div>\n",
              "    <div class=\"colab-df-buttons\">\n",
              "\n",
              "  <div class=\"colab-df-container\">\n",
              "    <button class=\"colab-df-convert\" onclick=\"convertToInteractive('df-50e09bfe-5221-4d19-8318-d41271528d22')\"\n",
              "            title=\"Convert this dataframe to an interactive table.\"\n",
              "            style=\"display:none;\">\n",
              "\n",
              "  <svg xmlns=\"http://www.w3.org/2000/svg\" height=\"24px\" viewBox=\"0 -960 960 960\">\n",
              "    <path d=\"M120-120v-720h720v720H120Zm60-500h600v-160H180v160Zm220 220h160v-160H400v160Zm0 220h160v-160H400v160ZM180-400h160v-160H180v160Zm440 0h160v-160H620v160ZM180-180h160v-160H180v160Zm440 0h160v-160H620v160Z\"/>\n",
              "  </svg>\n",
              "    </button>\n",
              "\n",
              "  <style>\n",
              "    .colab-df-container {\n",
              "      display:flex;\n",
              "      gap: 12px;\n",
              "    }\n",
              "\n",
              "    .colab-df-convert {\n",
              "      background-color: #E8F0FE;\n",
              "      border: none;\n",
              "      border-radius: 50%;\n",
              "      cursor: pointer;\n",
              "      display: none;\n",
              "      fill: #1967D2;\n",
              "      height: 32px;\n",
              "      padding: 0 0 0 0;\n",
              "      width: 32px;\n",
              "    }\n",
              "\n",
              "    .colab-df-convert:hover {\n",
              "      background-color: #E2EBFA;\n",
              "      box-shadow: 0px 1px 2px rgba(60, 64, 67, 0.3), 0px 1px 3px 1px rgba(60, 64, 67, 0.15);\n",
              "      fill: #174EA6;\n",
              "    }\n",
              "\n",
              "    .colab-df-buttons div {\n",
              "      margin-bottom: 4px;\n",
              "    }\n",
              "\n",
              "    [theme=dark] .colab-df-convert {\n",
              "      background-color: #3B4455;\n",
              "      fill: #D2E3FC;\n",
              "    }\n",
              "\n",
              "    [theme=dark] .colab-df-convert:hover {\n",
              "      background-color: #434B5C;\n",
              "      box-shadow: 0px 1px 3px 1px rgba(0, 0, 0, 0.15);\n",
              "      filter: drop-shadow(0px 1px 2px rgba(0, 0, 0, 0.3));\n",
              "      fill: #FFFFFF;\n",
              "    }\n",
              "  </style>\n",
              "\n",
              "    <script>\n",
              "      const buttonEl =\n",
              "        document.querySelector('#df-50e09bfe-5221-4d19-8318-d41271528d22 button.colab-df-convert');\n",
              "      buttonEl.style.display =\n",
              "        google.colab.kernel.accessAllowed ? 'block' : 'none';\n",
              "\n",
              "      async function convertToInteractive(key) {\n",
              "        const element = document.querySelector('#df-50e09bfe-5221-4d19-8318-d41271528d22');\n",
              "        const dataTable =\n",
              "          await google.colab.kernel.invokeFunction('convertToInteractive',\n",
              "                                                    [key], {});\n",
              "        if (!dataTable) return;\n",
              "\n",
              "        const docLinkHtml = 'Like what you see? Visit the ' +\n",
              "          '<a target=\"_blank\" href=https://colab.research.google.com/notebooks/data_table.ipynb>data table notebook</a>'\n",
              "          + ' to learn more about interactive tables.';\n",
              "        element.innerHTML = '';\n",
              "        dataTable['output_type'] = 'display_data';\n",
              "        await google.colab.output.renderOutput(dataTable, element);\n",
              "        const docLink = document.createElement('div');\n",
              "        docLink.innerHTML = docLinkHtml;\n",
              "        element.appendChild(docLink);\n",
              "      }\n",
              "    </script>\n",
              "  </div>\n",
              "\n",
              "\n",
              "    <div id=\"df-9680d8ac-5e03-49db-9350-c4624f83f52c\">\n",
              "      <button class=\"colab-df-quickchart\" onclick=\"quickchart('df-9680d8ac-5e03-49db-9350-c4624f83f52c')\"\n",
              "                title=\"Suggest charts\"\n",
              "                style=\"display:none;\">\n",
              "\n",
              "<svg xmlns=\"http://www.w3.org/2000/svg\" height=\"24px\"viewBox=\"0 0 24 24\"\n",
              "     width=\"24px\">\n",
              "    <g>\n",
              "        <path d=\"M19 3H5c-1.1 0-2 .9-2 2v14c0 1.1.9 2 2 2h14c1.1 0 2-.9 2-2V5c0-1.1-.9-2-2-2zM9 17H7v-7h2v7zm4 0h-2V7h2v10zm4 0h-2v-4h2v4z\"/>\n",
              "    </g>\n",
              "</svg>\n",
              "      </button>\n",
              "\n",
              "<style>\n",
              "  .colab-df-quickchart {\n",
              "      --bg-color: #E8F0FE;\n",
              "      --fill-color: #1967D2;\n",
              "      --hover-bg-color: #E2EBFA;\n",
              "      --hover-fill-color: #174EA6;\n",
              "      --disabled-fill-color: #AAA;\n",
              "      --disabled-bg-color: #DDD;\n",
              "  }\n",
              "\n",
              "  [theme=dark] .colab-df-quickchart {\n",
              "      --bg-color: #3B4455;\n",
              "      --fill-color: #D2E3FC;\n",
              "      --hover-bg-color: #434B5C;\n",
              "      --hover-fill-color: #FFFFFF;\n",
              "      --disabled-bg-color: #3B4455;\n",
              "      --disabled-fill-color: #666;\n",
              "  }\n",
              "\n",
              "  .colab-df-quickchart {\n",
              "    background-color: var(--bg-color);\n",
              "    border: none;\n",
              "    border-radius: 50%;\n",
              "    cursor: pointer;\n",
              "    display: none;\n",
              "    fill: var(--fill-color);\n",
              "    height: 32px;\n",
              "    padding: 0;\n",
              "    width: 32px;\n",
              "  }\n",
              "\n",
              "  .colab-df-quickchart:hover {\n",
              "    background-color: var(--hover-bg-color);\n",
              "    box-shadow: 0 1px 2px rgba(60, 64, 67, 0.3), 0 1px 3px 1px rgba(60, 64, 67, 0.15);\n",
              "    fill: var(--button-hover-fill-color);\n",
              "  }\n",
              "\n",
              "  .colab-df-quickchart-complete:disabled,\n",
              "  .colab-df-quickchart-complete:disabled:hover {\n",
              "    background-color: var(--disabled-bg-color);\n",
              "    fill: var(--disabled-fill-color);\n",
              "    box-shadow: none;\n",
              "  }\n",
              "\n",
              "  .colab-df-spinner {\n",
              "    border: 2px solid var(--fill-color);\n",
              "    border-color: transparent;\n",
              "    border-bottom-color: var(--fill-color);\n",
              "    animation:\n",
              "      spin 1s steps(1) infinite;\n",
              "  }\n",
              "\n",
              "  @keyframes spin {\n",
              "    0% {\n",
              "      border-color: transparent;\n",
              "      border-bottom-color: var(--fill-color);\n",
              "      border-left-color: var(--fill-color);\n",
              "    }\n",
              "    20% {\n",
              "      border-color: transparent;\n",
              "      border-left-color: var(--fill-color);\n",
              "      border-top-color: var(--fill-color);\n",
              "    }\n",
              "    30% {\n",
              "      border-color: transparent;\n",
              "      border-left-color: var(--fill-color);\n",
              "      border-top-color: var(--fill-color);\n",
              "      border-right-color: var(--fill-color);\n",
              "    }\n",
              "    40% {\n",
              "      border-color: transparent;\n",
              "      border-right-color: var(--fill-color);\n",
              "      border-top-color: var(--fill-color);\n",
              "    }\n",
              "    60% {\n",
              "      border-color: transparent;\n",
              "      border-right-color: var(--fill-color);\n",
              "    }\n",
              "    80% {\n",
              "      border-color: transparent;\n",
              "      border-right-color: var(--fill-color);\n",
              "      border-bottom-color: var(--fill-color);\n",
              "    }\n",
              "    90% {\n",
              "      border-color: transparent;\n",
              "      border-bottom-color: var(--fill-color);\n",
              "    }\n",
              "  }\n",
              "</style>\n",
              "\n",
              "      <script>\n",
              "        async function quickchart(key) {\n",
              "          const quickchartButtonEl =\n",
              "            document.querySelector('#' + key + ' button');\n",
              "          quickchartButtonEl.disabled = true;  // To prevent multiple clicks.\n",
              "          quickchartButtonEl.classList.add('colab-df-spinner');\n",
              "          try {\n",
              "            const charts = await google.colab.kernel.invokeFunction(\n",
              "                'suggestCharts', [key], {});\n",
              "          } catch (error) {\n",
              "            console.error('Error during call to suggestCharts:', error);\n",
              "          }\n",
              "          quickchartButtonEl.classList.remove('colab-df-spinner');\n",
              "          quickchartButtonEl.classList.add('colab-df-quickchart-complete');\n",
              "        }\n",
              "        (() => {\n",
              "          let quickchartButtonEl =\n",
              "            document.querySelector('#df-9680d8ac-5e03-49db-9350-c4624f83f52c button');\n",
              "          quickchartButtonEl.style.display =\n",
              "            google.colab.kernel.accessAllowed ? 'block' : 'none';\n",
              "        })();\n",
              "      </script>\n",
              "    </div>\n",
              "\n",
              "    </div>\n",
              "  </div>\n"
            ],
            "text/plain": [
              "       Student_ID         Age  Avg_Daily_Usage_Hours  Sleep_Hours_Per_Night  \\\n",
              "count  705.000000  705.000000             705.000000             705.000000   \n",
              "mean   353.000000   20.659574               4.918723               6.868936   \n",
              "std    203.660256    1.399217               1.257395               1.126848   \n",
              "min      1.000000   18.000000               1.500000               3.800000   \n",
              "25%    177.000000   19.000000               4.100000               6.000000   \n",
              "50%    353.000000   21.000000               4.800000               6.900000   \n",
              "75%    529.000000   22.000000               5.800000               7.700000   \n",
              "max    705.000000   24.000000               8.500000               9.600000   \n",
              "\n",
              "       Mental_Health_Score  Conflicts_Over_Social_Media  Addicted_Score  \n",
              "count           705.000000                   705.000000      705.000000  \n",
              "mean              6.226950                     2.849645        6.436879  \n",
              "std               1.105055                     0.957968        1.587165  \n",
              "min               4.000000                     0.000000        2.000000  \n",
              "25%               5.000000                     2.000000        5.000000  \n",
              "50%               6.000000                     3.000000        7.000000  \n",
              "75%               7.000000                     4.000000        8.000000  \n",
              "max               9.000000                     5.000000        9.000000  "
            ]
          },
          "execution_count": 22,
          "metadata": {},
          "output_type": "execute_result"
        }
      ],
      "source": [
        "# Descriptive stats\n",
        "df.describe()"
      ]
    },
    {
      "cell_type": "code",
      "execution_count": 23,
      "metadata": {
        "colab": {
          "base_uri": "https://localhost:8080/"
        },
        "id": "ug7Av8lTSHxK",
        "outputId": "5a1c0d5e-6473-4ae7-9e24-089cd3fae029"
      },
      "outputs": [
        {
          "name": "stdout",
          "output_type": "stream",
          "text": [
            "\n",
            "Column: Age\n",
            "Median: 21.0\n",
            "Mode: [20]\n",
            "IQR: 3.0\n",
            "\n",
            "Column: Avg_Daily_Usage_Hours\n",
            "Median: 4.8\n",
            "Mode: [4.7]\n",
            "IQR: 1.7000000000000002\n",
            "\n",
            "Column: Sleep_Hours_Per_Night\n",
            "Median: 6.9\n",
            "Mode: [7.2 7.3]\n",
            "IQR: 1.7000000000000002\n",
            "\n",
            "Column: Mental_Health_Score\n",
            "Median: 6.0\n",
            "Mode: [6]\n",
            "IQR: 2.0\n",
            "\n",
            "Column: Addicted_Score\n",
            "Median: 7.0\n",
            "Mode: [7]\n",
            "IQR: 3.0\n"
          ]
        }
      ],
      "source": [
        "# Median, Mode, IQR for selected numerical features\n",
        "for col in ['Age', 'Avg_Daily_Usage_Hours', 'Sleep_Hours_Per_Night', 'Mental_Health_Score', 'Addicted_Score']:\n",
        "    print(f\"\\nColumn: {col}\")\n",
        "    print(f\"Median: {df[col].median()}\")\n",
        "    print(f\"Mode: {df[col].mode().values}\")\n",
        "    print(f\"IQR: {df[col].quantile(0.75) - df[col].quantile(0.25)}\")"
      ]
    },
    {
      "cell_type": "markdown",
      "metadata": {
        "id": "MWLtofmLSNM-"
      },
      "source": [
        "### 📌 3. Frequency Counts – Categorical Columns"
      ]
    },
    {
      "cell_type": "code",
      "execution_count": 24,
      "metadata": {
        "id": "KabjGzwtSRUt"
      },
      "outputs": [],
      "source": [
        "categorical_cols = ['Gender', 'Academic_Level', 'Country', 'Most_Used_Platform',\n",
        "                    'Affects_Academic_Performance', 'Relationship_Status']"
      ]
    },
    {
      "cell_type": "code",
      "execution_count": 25,
      "metadata": {
        "colab": {
          "base_uri": "https://localhost:8080/"
        },
        "id": "Lg_SvasZSUCg",
        "outputId": "a13e9a10-67aa-434d-eb02-80adb315771c"
      },
      "outputs": [
        {
          "name": "stdout",
          "output_type": "stream",
          "text": [
            "\n",
            "Value counts for Gender:\n",
            " Gender\n",
            "Female    353\n",
            "Male      352\n",
            "Name: count, dtype: int64\n",
            "\n",
            "Value counts for Academic_Level:\n",
            " Academic_Level\n",
            "Undergraduate    353\n",
            "Graduate         325\n",
            "High School       27\n",
            "Name: count, dtype: int64\n",
            "\n",
            "Value counts for Country:\n",
            " Country\n",
            "India          53\n",
            "USA            40\n",
            "Canada         34\n",
            "France         27\n",
            "Mexico         27\n",
            "               ..\n",
            "Oman            1\n",
            "Afghanistan     1\n",
            "Syria           1\n",
            "Yemen           1\n",
            "Bhutan          1\n",
            "Name: count, Length: 110, dtype: int64\n",
            "\n",
            "Value counts for Most_Used_Platform:\n",
            " Most_Used_Platform\n",
            "Instagram    249\n",
            "TikTok       154\n",
            "Facebook     123\n",
            "WhatsApp      54\n",
            "Twitter       30\n",
            "LinkedIn      21\n",
            "WeChat        15\n",
            "Snapchat      13\n",
            "VKontakte     12\n",
            "LINE          12\n",
            "KakaoTalk     12\n",
            "YouTube       10\n",
            "Name: count, dtype: int64\n",
            "\n",
            "Value counts for Affects_Academic_Performance:\n",
            " Affects_Academic_Performance\n",
            "Yes    453\n",
            "No     252\n",
            "Name: count, dtype: int64\n",
            "\n",
            "Value counts for Relationship_Status:\n",
            " Relationship_Status\n",
            "Single             384\n",
            "In Relationship    289\n",
            "Complicated         32\n",
            "Name: count, dtype: int64\n"
          ]
        }
      ],
      "source": [
        "for col in categorical_cols:\n",
        "    print(f\"\\nValue counts for {col}:\\n\", df[col].value_counts())"
      ]
    },
    {
      "cell_type": "markdown",
      "metadata": {
        "id": "WMI9y8N5SajF"
      },
      "source": [
        "### 📌 4. Visualization: Histograms and Boxplots"
      ]
    },
    {
      "cell_type": "code",
      "execution_count": 26,
      "metadata": {
        "colab": {
          "base_uri": "https://localhost:8080/",
          "height": 472
        },
        "id": "UUhcuQA5SdXX",
        "outputId": "6c622f52-03ea-4a4c-fe3d-d225151e19ce"
      },
      "outputs": [
        {
          "data": {
            "image/png": "[encoded data removed]",
            "text/plain": [
              "<Figure size 640x480 with 1 Axes>"
            ]
          },
          "metadata": {},
          "output_type": "display_data"
        }
      ],
      "source": [
        "# Histogram of Daily Usage\n",
        "sns.histplot(df['Avg_Daily_Usage_Hours'], kde=True, bins=20)\n",
        "plt.title(\"Distribution of Average Daily Social Media Usage\")\n",
        "plt.xlabel(\"Hours\")\n",
        "plt.ylabel(\"Frequency\")\n",
        "plt.show()"
      ]
    },
    {
      "cell_type": "code",
      "execution_count": 27,
      "metadata": {
        "colab": {
          "base_uri": "https://localhost:8080/",
          "height": 472
        },
        "id": "LlACelN-Sg9O",
        "outputId": "b9b0df5c-314f-4287-95cf-a32949e0cf4e"
      },
      "outputs": [
        {
          "data": {
            "image/png": "[encoded data removed]",
            "text/plain": [
              "<Figure size 640x480 with 1 Axes>"
            ]
          },
          "metadata": {},
          "output_type": "display_data"
        }
      ],
      "source": [
        "# Boxplot of Addicted Score by Gender\n",
        "sns.boxplot(x='Gender', y='Addicted_Score', data=df)\n",
        "plt.title(\"Addicted Score by Gender\")\n",
        "plt.show()"
      ]
    },
    {
      "cell_type": "markdown",
      "metadata": {
        "id": "J6ZOGEFPSpq4"
      },
      "source": [
        "### 📌 5. Correlation Matrix"
      ]
    },
    {
      "cell_type": "code",
      "execution_count": 29,
      "metadata": {
        "colab": {
          "base_uri": "https://localhost:8080/",
          "height": 713
        },
        "id": "wNl3FAn2Sl2w",
        "outputId": "5795ae36-00b8-4950-8f17-565fee201133"
      },
      "outputs": [
        {
          "data": {
            "image/png": "[encoded data removed]",
            "text/plain": [
              "<Figure size 1000x600 with 2 Axes>"
            ]
          },
          "metadata": {},
          "output_type": "display_data"
        }
      ],
      "source": [
        "# Correlation heatmap\n",
        "plt.figure(figsize=(10, 6))\n",
        "sns.heatmap(df.corr(numeric_only=True), annot=True, cmap='coolwarm', fmt=\".2f\")\n",
        "plt.title(\"Correlation Matrix\")\n",
        "plt.show()"
      ]
    },
    {
      "cell_type": "markdown",
      "metadata": {
        "id": "4g3iiGNJStBD"
      },
      "source": [
        "### 📌 6. Key Insights"
      ]
    },
    {
      "cell_type": "code",
      "execution_count": 30,
      "metadata": {
        "colab": {
          "base_uri": "https://localhost:8080/"
        },
        "id": "DqKra4EMSvdq",
        "outputId": "7dedf9f1-ae29-460a-e779-0c102da25c84"
      },
      "outputs": [
        {
          "name": "stdout",
          "output_type": "stream",
          "text": [
            "🔹 Average Daily Usage: 4.92 hours\n",
            "🔹 Most Common Platform: Instagram\n",
            "🔹 Median Mental Health Score: 6.0\n"
          ]
        }
      ],
      "source": [
        "print(\"🔹 Average Daily Usage:\", round(df['Avg_Daily_Usage_Hours'].mean(), 2), \"hours\")\n",
        "print(\"🔹 Most Common Platform:\", df['Most_Used_Platform'].mode()[0])\n",
        "print(\"🔹 Median Mental Health Score:\", df['Mental_Health_Score'].median())"
      ]
    },
    {
      "cell_type": "markdown",
      "metadata": {
        "id": "3bzm1Oz-Szq9"
      },
      "source": [
        "## ✅ Summary of Findings\n",
        "\n",
        "| Metric                    | Insight                                  |\n",
        "| ------------------------- | ---------------------------------------- |\n",
        "| Mean usage                | `~4.5 hours/day`                         |\n",
        "| Common platform           | Instagram (or TikTok, depending on mode) |\n",
        "| Sleep vs Addiction Score  | Negatively correlated                    |\n",
        "| Gender-based differences  | Visible in boxplot                       |\n",
        "| Categorical distributions | Display clear patterns                   |\n",
        "\n"
      ]
    }
  ],
  "metadata": {
    "colab": {
      "provenance": []
    },
    "kernelspec": {
      "display_name": "Python 3",
      "name": "python3"
    },
    "language_info": {
      "name": "python"
    }
  },
  "nbformat": 4,
  "nbformat_minor": 0
}
