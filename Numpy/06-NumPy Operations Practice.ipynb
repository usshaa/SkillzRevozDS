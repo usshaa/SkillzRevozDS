{
 "cells": [
  {
   "cell_type": "markdown",
   "metadata": {},
   "source": [
    "## NumPy Operations Practice Notebook\n",
    "\n",
    "This notebook guides you through practicing various NumPy operations with exercises. Feel free to run each code cell and explore the results!\n",
    "\n",
    "**Import libraries:**"
   ]
  },
  {
   "cell_type": "code",
   "execution_count": 12,
   "metadata": {},
   "outputs": [],
   "source": []
  },
  {
   "cell_type": "markdown",
   "metadata": {},
   "source": [
    "**1. Creating Arrays:**\n",
    "\n",
    "* **a) Create two arrays, `arr1` and `arr2`, of the same shape (3x4) filled with random integers between 5 and 15 (inclusive).**"
   ]
  },
  {
   "cell_type": "code",
   "execution_count": 13,
   "metadata": {},
   "outputs": [
    {
     "name": "stdout",
     "output_type": "stream",
     "text": [
      "Array 1:\n",
      "[[14 15 13  6]\n",
      " [ 9  5 13 10]\n",
      " [ 5  8  5 14]]\n",
      "Array 2:\n",
      "[[14 15 11 11]\n",
      " [ 5 12 11  5]\n",
      " [15  6 11 13]]\n"
     ]
    }
   ],
   "source": []
  },
  {
   "cell_type": "markdown",
   "metadata": {},
   "source": [
    "```Array 1:\n",
    "[[14 15 13  6]\n",
    " [ 9  5 13 10]\n",
    " [ 5  8  5 14]]\n",
    "Array 2:\n",
    "[[14 15 11 11]\n",
    " [ 5 12 11  5]\n",
    " [15  6 11 13]]```"
   ]
  },
  {
   "cell_type": "markdown",
   "metadata": {},
   "source": [
    "**2. Arithmetic Operations:**\n",
    "\n",
    "* **a) Perform element-wise addition of the arrays `arr1` and `arr2` created in exercise 1a.**"
   ]
  },
  {
   "cell_type": "code",
   "execution_count": 14,
   "metadata": {
    "scrolled": true
   },
   "outputs": [
    {
     "name": "stdout",
     "output_type": "stream",
     "text": [
      "[[28 30 24 17]\n",
      " [14 17 24 15]\n",
      " [20 14 16 27]]\n"
     ]
    }
   ],
   "source": []
  },
  {
   "cell_type": "markdown",
   "metadata": {},
   "source": [
    "```[[28 30 24 17]\n",
    " [14 17 24 15]\n",
    " [20 14 16 27]]```"
   ]
  },
  {
   "cell_type": "markdown",
   "metadata": {},
   "source": [
    "* **b) Multiply the array `arr1` by 2.**"
   ]
  },
  {
   "cell_type": "code",
   "execution_count": 15,
   "metadata": {},
   "outputs": [
    {
     "name": "stdout",
     "output_type": "stream",
     "text": [
      "[[28 30 26 12]\n",
      " [18 10 26 20]\n",
      " [10 16 10 28]]\n"
     ]
    }
   ],
   "source": []
  },
  {
   "cell_type": "markdown",
   "metadata": {},
   "source": [
    "```[[28 30 26 12]\n",
    " [18 10 26 20]\n",
    " [10 16 10 28]]```"
   ]
  },
  {
   "cell_type": "markdown",
   "metadata": {},
   "source": [
    "* **c) Find the element-wise maximum between the arrays `arr1` and `arr2`.**"
   ]
  },
  {
   "cell_type": "code",
   "execution_count": 16,
   "metadata": {},
   "outputs": [
    {
     "name": "stdout",
     "output_type": "stream",
     "text": [
      "[[14 15 13 11]\n",
      " [ 9 12 13 10]\n",
      " [15  8 11 14]]\n"
     ]
    }
   ],
   "source": []
  },
  {
   "cell_type": "markdown",
   "metadata": {},
   "source": [
    "```[[14 15 13 11]\n",
    " [ 9 12 13 10]\n",
    " [15  8 11 14]]```"
   ]
  },
  {
   "cell_type": "markdown",
   "metadata": {},
   "source": [
    "**3. Linear Algebra Operations:**\n",
    "\n",
    "* **a) Calculate the dot product of the arrays `arr1` and `arr2` created in exercise 1a.**"
   ]
  },
  {
   "cell_type": "code",
   "execution_count": 17,
   "metadata": {},
   "outputs": [
    {
     "name": "stdout",
     "output_type": "stream",
     "text": [
      "[[630 423 521]\n",
      " [454 298 438]\n",
      " [399 246 360]]\n"
     ]
    }
   ],
   "source": []
  },
  {
   "cell_type": "markdown",
   "metadata": {},
   "source": [
    "```[[630 423 521]\n",
    " [454 298 438]\n",
    " [399 246 360]]```"
   ]
  },
  {
   "cell_type": "markdown",
   "metadata": {},
   "source": [
    "* **b) Calculate the mean of the elements in the array `arr1`.**"
   ]
  },
  {
   "cell_type": "code",
   "execution_count": 18,
   "metadata": {},
   "outputs": [
    {
     "name": "stdout",
     "output_type": "stream",
     "text": [
      "9.75\n"
     ]
    }
   ],
   "source": []
  },
  {
   "cell_type": "markdown",
   "metadata": {},
   "source": [
    "9.75"
   ]
  },
  {
   "cell_type": "markdown",
   "metadata": {},
   "source": [
    "* **c) Find the standard deviation of the elements in the array `arr2`.**"
   ]
  },
  {
   "cell_type": "code",
   "execution_count": 19,
   "metadata": {},
   "outputs": [
    {
     "name": "stdout",
     "output_type": "stream",
     "text": [
      "3.442988043352266\n"
     ]
    }
   ],
   "source": []
  },
  {
   "cell_type": "markdown",
   "metadata": {},
   "source": [
    "3.442988043352266"
   ]
  },
  {
   "cell_type": "markdown",
   "metadata": {},
   "source": [
    "**4. Array Comparisons:**\n",
    "\n",
    "* **a) Check if all the elements in the array `arr1` are greater than 10.**"
   ]
  },
  {
   "cell_type": "code",
   "execution_count": 20,
   "metadata": {},
   "outputs": [
    {
     "name": "stdout",
     "output_type": "stream",
     "text": [
      "False\n"
     ]
    }
   ],
   "source": []
  },
  {
   "cell_type": "markdown",
   "metadata": {},
   "source": [
    "False"
   ]
  },
  {
   "cell_type": "markdown",
   "metadata": {},
   "source": [
    "* **b) Check if any element in the array `arr2` is equal to 12.**"
   ]
  },
  {
   "cell_type": "code",
   "execution_count": 21,
   "metadata": {},
   "outputs": [
    {
     "name": "stdout",
     "output_type": "stream",
     "text": [
      "True\n"
     ]
    }
   ],
   "source": []
  },
  {
   "cell_type": "markdown",
   "metadata": {},
   "source": [
    "True"
   ]
  },
  {
   "cell_type": "markdown",
   "metadata": {},
   "source": [
    "* **c) Compare the shapes of the arrays `arr1` and `arr2` to see if they are equal.**"
   ]
  },
  {
   "cell_type": "code",
   "execution_count": 22,
   "metadata": {},
   "outputs": [
    {
     "name": "stdout",
     "output_type": "stream",
     "text": [
      "True\n"
     ]
    }
   ],
   "source": []
  },
  {
   "cell_type": "markdown",
   "metadata": {},
   "source": [
    "True"
   ]
  },
  {
   "cell_type": "markdown",
   "metadata": {},
   "source": [
    "**5. Universal Functions:**\n",
    "\n",
    "* **a) Apply the square root function to all elements in the array `arr1`.**"
   ]
  },
  {
   "cell_type": "code",
   "execution_count": 23,
   "metadata": {},
   "outputs": [
    {
     "name": "stdout",
     "output_type": "stream",
     "text": [
      "[[3.74165739 3.87298335 3.60555128 2.44948974]\n",
      " [3.         2.23606798 3.60555128 3.16227766]\n",
      " [2.23606798 2.82842712 2.23606798 3.74165739]]\n"
     ]
    }
   ],
   "source": []
  },
  {
   "cell_type": "markdown",
   "metadata": {},
   "source": [
    "```[[3.74165739 3.87298335 3.60555128 2.44948974]\n",
    " [3.         2.23606798 3.60555128 3.16227766]\n",
    " [2.23606798 2.82842712 2.23606798 3.74165739]]```"
   ]
  },
  {
   "cell_type": "markdown",
   "metadata": {},
   "source": [
    "* **b) Calculate the exponential of all elements in the array `arr2` (e raised to the power of each element).**"
   ]
  },
  {
   "cell_type": "code",
   "execution_count": 24,
   "metadata": {},
   "outputs": [
    {
     "name": "stdout",
     "output_type": "stream",
     "text": [
      "[[1.20260428e+06 3.26901737e+06 5.98741417e+04 5.98741417e+04]\n",
      " [1.48413159e+02 1.62754791e+05 5.98741417e+04 1.48413159e+02]\n",
      " [3.26901737e+06 4.03428793e+02 5.98741417e+04 4.42413392e+05]]\n"
     ]
    }
   ],
   "source": []
  },
  {
   "cell_type": "markdown",
   "metadata": {},
   "source": [
    "```[[1.20260428e+06 3.26901737e+06 5.98741417e+04 5.98741417e+04]\n",
    " [1.48413159e+02 1.62754791e+05 5.98741417e+04 1.48413159e+02]\n",
    " [3.26901737e+06 4.03428793e+02 5.98741417e+04 4.42413392e+05]]```"
   ]
  },
  {
   "cell_type": "markdown",
   "metadata": {},
   "source": [
    "* **c) Round the elements in the array `square_root_arr` to the nearest integer.**"
   ]
  },
  {
   "cell_type": "code",
   "execution_count": 27,
   "metadata": {},
   "outputs": [
    {
     "name": "stdout",
     "output_type": "stream",
     "text": [
      "[[4. 4. 4. 2.]\n",
      " [3. 2. 4. 3.]\n",
      " [2. 3. 2. 4.]]\n"
     ]
    }
   ],
   "source": []
  },
  {
   "cell_type": "markdown",
   "metadata": {},
   "source": [
    "```[[4. 4. 4. 2.]\n",
    " [3. 2. 4. 3.]\n",
    " [2. 3. 2. 4.]]```"
   ]
  }
 ],
 "metadata": {
  "kernelspec": {
   "display_name": "Python 3",
   "language": "python",
   "name": "python3"
  },
  "language_info": {
   "codemirror_mode": {
    "name": "ipython",
    "version": 3
   },
   "file_extension": ".py",
   "mimetype": "text/x-python",
   "name": "python",
   "nbconvert_exporter": "python",
   "pygments_lexer": "ipython3",
   "version": "3.7.4"
  }
 },
 "nbformat": 4,
 "nbformat_minor": 4
}
