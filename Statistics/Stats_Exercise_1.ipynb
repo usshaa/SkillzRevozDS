{
  "nbformat": 4,
  "nbformat_minor": 0,
  "metadata": {
    "colab": {
      "provenance": [],
      "authorship_tag": "ABX9TyPzQJFhBgswrWkxfOUIbW7D",
      "include_colab_link": true
    },
    "kernelspec": {
      "name": "python3",
      "display_name": "Python 3"
    },
    "language_info": {
      "name": "python"
    }
  },
  "cells": [
    {
      "cell_type": "markdown",
      "metadata": {
        "id": "view-in-github",
        "colab_type": "text"
      },
      "source": [
        "<a href=\"https://colab.research.google.com/github/usshaa/SkillzRevozDS/blob/main/Statistics/Stats_Exercise_1.ipynb\" target=\"_parent\"><img src=\"https://colab.research.google.com/assets/colab-badge.svg\" alt=\"Open In Colab\"/></a>"
      ]
    },
    {
      "cell_type": "markdown",
      "source": [
        "### 📘 **Descriptive Statistics Exercise**"
      ],
      "metadata": {
        "id": "o4eZAr2QLQD5"
      }
    },
    {
      "cell_type": "code",
      "source": [
        "# 📦 Step 1: Import Required Libraries\n",
        "import pandas as pd\n",
        "import numpy as np\n",
        "import seaborn as sns\n",
        "import matplotlib.pyplot as plt"
      ],
      "metadata": {
        "id": "ienkjIcXLN1V"
      },
      "execution_count": 2,
      "outputs": []
    },
    {
      "cell_type": "code",
      "execution_count": 3,
      "metadata": {
        "id": "McE7OFIaHcSZ"
      },
      "outputs": [],
      "source": [
        "# Load sample dataset\n",
        "tips = sns.load_dataset('tips')"
      ]
    },
    {
      "cell_type": "code",
      "source": [
        "# Preview the dataset\n",
        "tips.head()"
      ],
      "metadata": {
        "colab": {
          "base_uri": "https://localhost:8080/",
          "height": 206
        },
        "id": "lkFRPDdSLZev",
        "outputId": "11577c79-7199-4139-da09-1c3fa419074d"
      },
      "execution_count": 4,
      "outputs": [
        {
          "output_type": "execute_result",
          "data": {
            "text/plain": [
              "   total_bill   tip     sex smoker  day    time  size\n",
              "0       16.99  1.01  Female     No  Sun  Dinner     2\n",
              "1       10.34  1.66    Male     No  Sun  Dinner     3\n",
              "2       21.01  3.50    Male     No  Sun  Dinner     3\n",
              "3       23.68  3.31    Male     No  Sun  Dinner     2\n",
              "4       24.59  3.61  Female     No  Sun  Dinner     4"
            ],
            "text/html": [
              "\n",
              "  <div id=\"df-b20feed9-5b99-4534-911b-61fe504e3289\" class=\"colab-df-container\">\n",
              "    <div>\n",
              "<style scoped>\n",
              "    .dataframe tbody tr th:only-of-type {\n",
              "        vertical-align: middle;\n",
              "    }\n",
              "\n",
              "    .dataframe tbody tr th {\n",
              "        vertical-align: top;\n",
              "    }\n",
              "\n",
              "    .dataframe thead th {\n",
              "        text-align: right;\n",
              "    }\n",
              "</style>\n",
              "<table border=\"1\" class=\"dataframe\">\n",
              "  <thead>\n",
              "    <tr style=\"text-align: right;\">\n",
              "      <th></th>\n",
              "      <th>total_bill</th>\n",
              "      <th>tip</th>\n",
              "      <th>sex</th>\n",
              "      <th>smoker</th>\n",
              "      <th>day</th>\n",
              "      <th>time</th>\n",
              "      <th>size</th>\n",
              "    </tr>\n",
              "  </thead>\n",
              "  <tbody>\n",
              "    <tr>\n",
              "      <th>0</th>\n",
              "      <td>16.99</td>\n",
              "      <td>1.01</td>\n",
              "      <td>Female</td>\n",
              "      <td>No</td>\n",
              "      <td>Sun</td>\n",
              "      <td>Dinner</td>\n",
              "      <td>2</td>\n",
              "    </tr>\n",
              "    <tr>\n",
              "      <th>1</th>\n",
              "      <td>10.34</td>\n",
              "      <td>1.66</td>\n",
              "      <td>Male</td>\n",
              "      <td>No</td>\n",
              "      <td>Sun</td>\n",
              "      <td>Dinner</td>\n",
              "      <td>3</td>\n",
              "    </tr>\n",
              "    <tr>\n",
              "      <th>2</th>\n",
              "      <td>21.01</td>\n",
              "      <td>3.50</td>\n",
              "      <td>Male</td>\n",
              "      <td>No</td>\n",
              "      <td>Sun</td>\n",
              "      <td>Dinner</td>\n",
              "      <td>3</td>\n",
              "    </tr>\n",
              "    <tr>\n",
              "      <th>3</th>\n",
              "      <td>23.68</td>\n",
              "      <td>3.31</td>\n",
              "      <td>Male</td>\n",
              "      <td>No</td>\n",
              "      <td>Sun</td>\n",
              "      <td>Dinner</td>\n",
              "      <td>2</td>\n",
              "    </tr>\n",
              "    <tr>\n",
              "      <th>4</th>\n",
              "      <td>24.59</td>\n",
              "      <td>3.61</td>\n",
              "      <td>Female</td>\n",
              "      <td>No</td>\n",
              "      <td>Sun</td>\n",
              "      <td>Dinner</td>\n",
              "      <td>4</td>\n",
              "    </tr>\n",
              "  </tbody>\n",
              "</table>\n",
              "</div>\n",
              "    <div class=\"colab-df-buttons\">\n",
              "\n",
              "  <div class=\"colab-df-container\">\n",
              "    <button class=\"colab-df-convert\" onclick=\"convertToInteractive('df-b20feed9-5b99-4534-911b-61fe504e3289')\"\n",
              "            title=\"Convert this dataframe to an interactive table.\"\n",
              "            style=\"display:none;\">\n",
              "\n",
              "  <svg xmlns=\"http://www.w3.org/2000/svg\" height=\"24px\" viewBox=\"0 -960 960 960\">\n",
              "    <path d=\"M120-120v-720h720v720H120Zm60-500h600v-160H180v160Zm220 220h160v-160H400v160Zm0 220h160v-160H400v160ZM180-400h160v-160H180v160Zm440 0h160v-160H620v160ZM180-180h160v-160H180v160Zm440 0h160v-160H620v160Z\"/>\n",
              "  </svg>\n",
              "    </button>\n",
              "\n",
              "  <style>\n",
              "    .colab-df-container {\n",
              "      display:flex;\n",
              "      gap: 12px;\n",
              "    }\n",
              "\n",
              "    .colab-df-convert {\n",
              "      background-color: #E8F0FE;\n",
              "      border: none;\n",
              "      border-radius: 50%;\n",
              "      cursor: pointer;\n",
              "      display: none;\n",
              "      fill: #1967D2;\n",
              "      height: 32px;\n",
              "      padding: 0 0 0 0;\n",
              "      width: 32px;\n",
              "    }\n",
              "\n",
              "    .colab-df-convert:hover {\n",
              "      background-color: #E2EBFA;\n",
              "      box-shadow: 0px 1px 2px rgba(60, 64, 67, 0.3), 0px 1px 3px 1px rgba(60, 64, 67, 0.15);\n",
              "      fill: #174EA6;\n",
              "    }\n",
              "\n",
              "    .colab-df-buttons div {\n",
              "      margin-bottom: 4px;\n",
              "    }\n",
              "\n",
              "    [theme=dark] .colab-df-convert {\n",
              "      background-color: #3B4455;\n",
              "      fill: #D2E3FC;\n",
              "    }\n",
              "\n",
              "    [theme=dark] .colab-df-convert:hover {\n",
              "      background-color: #434B5C;\n",
              "      box-shadow: 0px 1px 3px 1px rgba(0, 0, 0, 0.15);\n",
              "      filter: drop-shadow(0px 1px 2px rgba(0, 0, 0, 0.3));\n",
              "      fill: #FFFFFF;\n",
              "    }\n",
              "  </style>\n",
              "\n",
              "    <script>\n",
              "      const buttonEl =\n",
              "        document.querySelector('#df-b20feed9-5b99-4534-911b-61fe504e3289 button.colab-df-convert');\n",
              "      buttonEl.style.display =\n",
              "        google.colab.kernel.accessAllowed ? 'block' : 'none';\n",
              "\n",
              "      async function convertToInteractive(key) {\n",
              "        const element = document.querySelector('#df-b20feed9-5b99-4534-911b-61fe504e3289');\n",
              "        const dataTable =\n",
              "          await google.colab.kernel.invokeFunction('convertToInteractive',\n",
              "                                                    [key], {});\n",
              "        if (!dataTable) return;\n",
              "\n",
              "        const docLinkHtml = 'Like what you see? Visit the ' +\n",
              "          '<a target=\"_blank\" href=https://colab.research.google.com/notebooks/data_table.ipynb>data table notebook</a>'\n",
              "          + ' to learn more about interactive tables.';\n",
              "        element.innerHTML = '';\n",
              "        dataTable['output_type'] = 'display_data';\n",
              "        await google.colab.output.renderOutput(dataTable, element);\n",
              "        const docLink = document.createElement('div');\n",
              "        docLink.innerHTML = docLinkHtml;\n",
              "        element.appendChild(docLink);\n",
              "      }\n",
              "    </script>\n",
              "  </div>\n",
              "\n",
              "\n",
              "    <div id=\"df-ac271e17-614f-4f05-b9a0-24f21d38b9f7\">\n",
              "      <button class=\"colab-df-quickchart\" onclick=\"quickchart('df-ac271e17-614f-4f05-b9a0-24f21d38b9f7')\"\n",
              "                title=\"Suggest charts\"\n",
              "                style=\"display:none;\">\n",
              "\n",
              "<svg xmlns=\"http://www.w3.org/2000/svg\" height=\"24px\"viewBox=\"0 0 24 24\"\n",
              "     width=\"24px\">\n",
              "    <g>\n",
              "        <path d=\"M19 3H5c-1.1 0-2 .9-2 2v14c0 1.1.9 2 2 2h14c1.1 0 2-.9 2-2V5c0-1.1-.9-2-2-2zM9 17H7v-7h2v7zm4 0h-2V7h2v10zm4 0h-2v-4h2v4z\"/>\n",
              "    </g>\n",
              "</svg>\n",
              "      </button>\n",
              "\n",
              "<style>\n",
              "  .colab-df-quickchart {\n",
              "      --bg-color: #E8F0FE;\n",
              "      --fill-color: #1967D2;\n",
              "      --hover-bg-color: #E2EBFA;\n",
              "      --hover-fill-color: #174EA6;\n",
              "      --disabled-fill-color: #AAA;\n",
              "      --disabled-bg-color: #DDD;\n",
              "  }\n",
              "\n",
              "  [theme=dark] .colab-df-quickchart {\n",
              "      --bg-color: #3B4455;\n",
              "      --fill-color: #D2E3FC;\n",
              "      --hover-bg-color: #434B5C;\n",
              "      --hover-fill-color: #FFFFFF;\n",
              "      --disabled-bg-color: #3B4455;\n",
              "      --disabled-fill-color: #666;\n",
              "  }\n",
              "\n",
              "  .colab-df-quickchart {\n",
              "    background-color: var(--bg-color);\n",
              "    border: none;\n",
              "    border-radius: 50%;\n",
              "    cursor: pointer;\n",
              "    display: none;\n",
              "    fill: var(--fill-color);\n",
              "    height: 32px;\n",
              "    padding: 0;\n",
              "    width: 32px;\n",
              "  }\n",
              "\n",
              "  .colab-df-quickchart:hover {\n",
              "    background-color: var(--hover-bg-color);\n",
              "    box-shadow: 0 1px 2px rgba(60, 64, 67, 0.3), 0 1px 3px 1px rgba(60, 64, 67, 0.15);\n",
              "    fill: var(--button-hover-fill-color);\n",
              "  }\n",
              "\n",
              "  .colab-df-quickchart-complete:disabled,\n",
              "  .colab-df-quickchart-complete:disabled:hover {\n",
              "    background-color: var(--disabled-bg-color);\n",
              "    fill: var(--disabled-fill-color);\n",
              "    box-shadow: none;\n",
              "  }\n",
              "\n",
              "  .colab-df-spinner {\n",
              "    border: 2px solid var(--fill-color);\n",
              "    border-color: transparent;\n",
              "    border-bottom-color: var(--fill-color);\n",
              "    animation:\n",
              "      spin 1s steps(1) infinite;\n",
              "  }\n",
              "\n",
              "  @keyframes spin {\n",
              "    0% {\n",
              "      border-color: transparent;\n",
              "      border-bottom-color: var(--fill-color);\n",
              "      border-left-color: var(--fill-color);\n",
              "    }\n",
              "    20% {\n",
              "      border-color: transparent;\n",
              "      border-left-color: var(--fill-color);\n",
              "      border-top-color: var(--fill-color);\n",
              "    }\n",
              "    30% {\n",
              "      border-color: transparent;\n",
              "      border-left-color: var(--fill-color);\n",
              "      border-top-color: var(--fill-color);\n",
              "      border-right-color: var(--fill-color);\n",
              "    }\n",
              "    40% {\n",
              "      border-color: transparent;\n",
              "      border-right-color: var(--fill-color);\n",
              "      border-top-color: var(--fill-color);\n",
              "    }\n",
              "    60% {\n",
              "      border-color: transparent;\n",
              "      border-right-color: var(--fill-color);\n",
              "    }\n",
              "    80% {\n",
              "      border-color: transparent;\n",
              "      border-right-color: var(--fill-color);\n",
              "      border-bottom-color: var(--fill-color);\n",
              "    }\n",
              "    90% {\n",
              "      border-color: transparent;\n",
              "      border-bottom-color: var(--fill-color);\n",
              "    }\n",
              "  }\n",
              "</style>\n",
              "\n",
              "      <script>\n",
              "        async function quickchart(key) {\n",
              "          const quickchartButtonEl =\n",
              "            document.querySelector('#' + key + ' button');\n",
              "          quickchartButtonEl.disabled = true;  // To prevent multiple clicks.\n",
              "          quickchartButtonEl.classList.add('colab-df-spinner');\n",
              "          try {\n",
              "            const charts = await google.colab.kernel.invokeFunction(\n",
              "                'suggestCharts', [key], {});\n",
              "          } catch (error) {\n",
              "            console.error('Error during call to suggestCharts:', error);\n",
              "          }\n",
              "          quickchartButtonEl.classList.remove('colab-df-spinner');\n",
              "          quickchartButtonEl.classList.add('colab-df-quickchart-complete');\n",
              "        }\n",
              "        (() => {\n",
              "          let quickchartButtonEl =\n",
              "            document.querySelector('#df-ac271e17-614f-4f05-b9a0-24f21d38b9f7 button');\n",
              "          quickchartButtonEl.style.display =\n",
              "            google.colab.kernel.accessAllowed ? 'block' : 'none';\n",
              "        })();\n",
              "      </script>\n",
              "    </div>\n",
              "\n",
              "    </div>\n",
              "  </div>\n"
            ],
            "application/vnd.google.colaboratory.intrinsic+json": {
              "type": "dataframe",
              "variable_name": "tips",
              "summary": "{\n  \"name\": \"tips\",\n  \"rows\": 244,\n  \"fields\": [\n    {\n      \"column\": \"total_bill\",\n      \"properties\": {\n        \"dtype\": \"number\",\n        \"std\": 8.902411954856856,\n        \"min\": 3.07,\n        \"max\": 50.81,\n        \"num_unique_values\": 229,\n        \"samples\": [\n          22.12,\n          20.23,\n          14.78\n        ],\n        \"semantic_type\": \"\",\n        \"description\": \"\"\n      }\n    },\n    {\n      \"column\": \"tip\",\n      \"properties\": {\n        \"dtype\": \"number\",\n        \"std\": 1.3836381890011826,\n        \"min\": 1.0,\n        \"max\": 10.0,\n        \"num_unique_values\": 123,\n        \"samples\": [\n          3.35,\n          1.5,\n          6.73\n        ],\n        \"semantic_type\": \"\",\n        \"description\": \"\"\n      }\n    },\n    {\n      \"column\": \"sex\",\n      \"properties\": {\n        \"dtype\": \"category\",\n        \"num_unique_values\": 2,\n        \"samples\": [\n          \"Male\",\n          \"Female\"\n        ],\n        \"semantic_type\": \"\",\n        \"description\": \"\"\n      }\n    },\n    {\n      \"column\": \"smoker\",\n      \"properties\": {\n        \"dtype\": \"category\",\n        \"num_unique_values\": 2,\n        \"samples\": [\n          \"Yes\",\n          \"No\"\n        ],\n        \"semantic_type\": \"\",\n        \"description\": \"\"\n      }\n    },\n    {\n      \"column\": \"day\",\n      \"properties\": {\n        \"dtype\": \"category\",\n        \"num_unique_values\": 4,\n        \"samples\": [\n          \"Sat\",\n          \"Fri\"\n        ],\n        \"semantic_type\": \"\",\n        \"description\": \"\"\n      }\n    },\n    {\n      \"column\": \"time\",\n      \"properties\": {\n        \"dtype\": \"category\",\n        \"num_unique_values\": 2,\n        \"samples\": [\n          \"Lunch\",\n          \"Dinner\"\n        ],\n        \"semantic_type\": \"\",\n        \"description\": \"\"\n      }\n    },\n    {\n      \"column\": \"size\",\n      \"properties\": {\n        \"dtype\": \"number\",\n        \"std\": 0,\n        \"min\": 1,\n        \"max\": 6,\n        \"num_unique_values\": 6,\n        \"samples\": [\n          2,\n          3\n        ],\n        \"semantic_type\": \"\",\n        \"description\": \"\"\n      }\n    }\n  ]\n}"
            }
          },
          "metadata": {},
          "execution_count": 4
        }
      ]
    },
    {
      "cell_type": "markdown",
      "source": [
        "## ❓ Question 1:\n",
        "\n",
        "**What are the columns available in this dataset? Which ones are numerical and which are categorical?**"
      ],
      "metadata": {
        "id": "7t5qUdB7LhmE"
      }
    },
    {
      "cell_type": "code",
      "source": [],
      "metadata": {
        "colab": {
          "base_uri": "https://localhost:8080/"
        },
        "id": "rdXTnRUQLeVR",
        "outputId": "24934f16-afa7-49c7-d7c1-4b30da9ac43b"
      },
      "execution_count": 5,
      "outputs": [
        {
          "output_type": "stream",
          "name": "stdout",
          "text": [
            "Column Names: ['total_bill', 'tip', 'sex', 'smoker', 'day', 'time', 'size']\n",
            "\n",
            "Data Types:\n",
            "total_bill     float64\n",
            "tip            float64\n",
            "sex           category\n",
            "smoker        category\n",
            "day           category\n",
            "time          category\n",
            "size             int64\n",
            "dtype: object\n"
          ]
        }
      ]
    },
    {
      "cell_type": "markdown",
      "source": [
        "```\n",
        "Column Names: ['total_bill', 'tip', 'sex', 'smoker', 'day', 'time', 'size']\n",
        "\n",
        "Data Types:\n",
        "total_bill     float64\n",
        "tip            float64\n",
        "sex           category\n",
        "smoker        category\n",
        "day           category\n",
        "time          category\n",
        "size             int64\n",
        "dtype: object\n",
        "```"
      ],
      "metadata": {
        "id": "S-ZaZ9kaNSeZ"
      }
    },
    {
      "cell_type": "markdown",
      "source": [
        "## 📊 Step 2: Summary Statistics\n",
        "\n",
        "### ❓ Question 2:\n",
        "\n",
        "**Generate a summary of numerical features using `.describe()`. What do each of these values represent (mean, std, min, etc)?**"
      ],
      "metadata": {
        "id": "xxN7HJBhLsWy"
      }
    },
    {
      "cell_type": "code",
      "source": [],
      "metadata": {
        "colab": {
          "base_uri": "https://localhost:8080/",
          "height": 300
        },
        "id": "Dh_MRYFkLbwe",
        "outputId": "2b31d4f7-0fb2-495f-d9f7-2679675b1f73"
      },
      "execution_count": 6,
      "outputs": [
        {
          "output_type": "execute_result",
          "data": {
            "text/plain": [
              "       total_bill         tip        size\n",
              "count  244.000000  244.000000  244.000000\n",
              "mean    19.785943    2.998279    2.569672\n",
              "std      8.902412    1.383638    0.951100\n",
              "min      3.070000    1.000000    1.000000\n",
              "25%     13.347500    2.000000    2.000000\n",
              "50%     17.795000    2.900000    2.000000\n",
              "75%     24.127500    3.562500    3.000000\n",
              "max     50.810000   10.000000    6.000000"
            ],
            "text/html": [
              "\n",
              "  <div id=\"df-c1a43d59-e3d8-43c2-a1e9-b2d572854f0d\" class=\"colab-df-container\">\n",
              "    <div>\n",
              "<style scoped>\n",
              "    .dataframe tbody tr th:only-of-type {\n",
              "        vertical-align: middle;\n",
              "    }\n",
              "\n",
              "    .dataframe tbody tr th {\n",
              "        vertical-align: top;\n",
              "    }\n",
              "\n",
              "    .dataframe thead th {\n",
              "        text-align: right;\n",
              "    }\n",
              "</style>\n",
              "<table border=\"1\" class=\"dataframe\">\n",
              "  <thead>\n",
              "    <tr style=\"text-align: right;\">\n",
              "      <th></th>\n",
              "      <th>total_bill</th>\n",
              "      <th>tip</th>\n",
              "      <th>size</th>\n",
              "    </tr>\n",
              "  </thead>\n",
              "  <tbody>\n",
              "    <tr>\n",
              "      <th>count</th>\n",
              "      <td>244.000000</td>\n",
              "      <td>244.000000</td>\n",
              "      <td>244.000000</td>\n",
              "    </tr>\n",
              "    <tr>\n",
              "      <th>mean</th>\n",
              "      <td>19.785943</td>\n",
              "      <td>2.998279</td>\n",
              "      <td>2.569672</td>\n",
              "    </tr>\n",
              "    <tr>\n",
              "      <th>std</th>\n",
              "      <td>8.902412</td>\n",
              "      <td>1.383638</td>\n",
              "      <td>0.951100</td>\n",
              "    </tr>\n",
              "    <tr>\n",
              "      <th>min</th>\n",
              "      <td>3.070000</td>\n",
              "      <td>1.000000</td>\n",
              "      <td>1.000000</td>\n",
              "    </tr>\n",
              "    <tr>\n",
              "      <th>25%</th>\n",
              "      <td>13.347500</td>\n",
              "      <td>2.000000</td>\n",
              "      <td>2.000000</td>\n",
              "    </tr>\n",
              "    <tr>\n",
              "      <th>50%</th>\n",
              "      <td>17.795000</td>\n",
              "      <td>2.900000</td>\n",
              "      <td>2.000000</td>\n",
              "    </tr>\n",
              "    <tr>\n",
              "      <th>75%</th>\n",
              "      <td>24.127500</td>\n",
              "      <td>3.562500</td>\n",
              "      <td>3.000000</td>\n",
              "    </tr>\n",
              "    <tr>\n",
              "      <th>max</th>\n",
              "      <td>50.810000</td>\n",
              "      <td>10.000000</td>\n",
              "      <td>6.000000</td>\n",
              "    </tr>\n",
              "  </tbody>\n",
              "</table>\n",
              "</div>\n",
              "    <div class=\"colab-df-buttons\">\n",
              "\n",
              "  <div class=\"colab-df-container\">\n",
              "    <button class=\"colab-df-convert\" onclick=\"convertToInteractive('df-c1a43d59-e3d8-43c2-a1e9-b2d572854f0d')\"\n",
              "            title=\"Convert this dataframe to an interactive table.\"\n",
              "            style=\"display:none;\">\n",
              "\n",
              "  <svg xmlns=\"http://www.w3.org/2000/svg\" height=\"24px\" viewBox=\"0 -960 960 960\">\n",
              "    <path d=\"M120-120v-720h720v720H120Zm60-500h600v-160H180v160Zm220 220h160v-160H400v160Zm0 220h160v-160H400v160ZM180-400h160v-160H180v160Zm440 0h160v-160H620v160ZM180-180h160v-160H180v160Zm440 0h160v-160H620v160Z\"/>\n",
              "  </svg>\n",
              "    </button>\n",
              "\n",
              "  <style>\n",
              "    .colab-df-container {\n",
              "      display:flex;\n",
              "      gap: 12px;\n",
              "    }\n",
              "\n",
              "    .colab-df-convert {\n",
              "      background-color: #E8F0FE;\n",
              "      border: none;\n",
              "      border-radius: 50%;\n",
              "      cursor: pointer;\n",
              "      display: none;\n",
              "      fill: #1967D2;\n",
              "      height: 32px;\n",
              "      padding: 0 0 0 0;\n",
              "      width: 32px;\n",
              "    }\n",
              "\n",
              "    .colab-df-convert:hover {\n",
              "      background-color: #E2EBFA;\n",
              "      box-shadow: 0px 1px 2px rgba(60, 64, 67, 0.3), 0px 1px 3px 1px rgba(60, 64, 67, 0.15);\n",
              "      fill: #174EA6;\n",
              "    }\n",
              "\n",
              "    .colab-df-buttons div {\n",
              "      margin-bottom: 4px;\n",
              "    }\n",
              "\n",
              "    [theme=dark] .colab-df-convert {\n",
              "      background-color: #3B4455;\n",
              "      fill: #D2E3FC;\n",
              "    }\n",
              "\n",
              "    [theme=dark] .colab-df-convert:hover {\n",
              "      background-color: #434B5C;\n",
              "      box-shadow: 0px 1px 3px 1px rgba(0, 0, 0, 0.15);\n",
              "      filter: drop-shadow(0px 1px 2px rgba(0, 0, 0, 0.3));\n",
              "      fill: #FFFFFF;\n",
              "    }\n",
              "  </style>\n",
              "\n",
              "    <script>\n",
              "      const buttonEl =\n",
              "        document.querySelector('#df-c1a43d59-e3d8-43c2-a1e9-b2d572854f0d button.colab-df-convert');\n",
              "      buttonEl.style.display =\n",
              "        google.colab.kernel.accessAllowed ? 'block' : 'none';\n",
              "\n",
              "      async function convertToInteractive(key) {\n",
              "        const element = document.querySelector('#df-c1a43d59-e3d8-43c2-a1e9-b2d572854f0d');\n",
              "        const dataTable =\n",
              "          await google.colab.kernel.invokeFunction('convertToInteractive',\n",
              "                                                    [key], {});\n",
              "        if (!dataTable) return;\n",
              "\n",
              "        const docLinkHtml = 'Like what you see? Visit the ' +\n",
              "          '<a target=\"_blank\" href=https://colab.research.google.com/notebooks/data_table.ipynb>data table notebook</a>'\n",
              "          + ' to learn more about interactive tables.';\n",
              "        element.innerHTML = '';\n",
              "        dataTable['output_type'] = 'display_data';\n",
              "        await google.colab.output.renderOutput(dataTable, element);\n",
              "        const docLink = document.createElement('div');\n",
              "        docLink.innerHTML = docLinkHtml;\n",
              "        element.appendChild(docLink);\n",
              "      }\n",
              "    </script>\n",
              "  </div>\n",
              "\n",
              "\n",
              "    <div id=\"df-dfbc7716-7edf-46b5-903d-fcf45906b22d\">\n",
              "      <button class=\"colab-df-quickchart\" onclick=\"quickchart('df-dfbc7716-7edf-46b5-903d-fcf45906b22d')\"\n",
              "                title=\"Suggest charts\"\n",
              "                style=\"display:none;\">\n",
              "\n",
              "<svg xmlns=\"http://www.w3.org/2000/svg\" height=\"24px\"viewBox=\"0 0 24 24\"\n",
              "     width=\"24px\">\n",
              "    <g>\n",
              "        <path d=\"M19 3H5c-1.1 0-2 .9-2 2v14c0 1.1.9 2 2 2h14c1.1 0 2-.9 2-2V5c0-1.1-.9-2-2-2zM9 17H7v-7h2v7zm4 0h-2V7h2v10zm4 0h-2v-4h2v4z\"/>\n",
              "    </g>\n",
              "</svg>\n",
              "      </button>\n",
              "\n",
              "<style>\n",
              "  .colab-df-quickchart {\n",
              "      --bg-color: #E8F0FE;\n",
              "      --fill-color: #1967D2;\n",
              "      --hover-bg-color: #E2EBFA;\n",
              "      --hover-fill-color: #174EA6;\n",
              "      --disabled-fill-color: #AAA;\n",
              "      --disabled-bg-color: #DDD;\n",
              "  }\n",
              "\n",
              "  [theme=dark] .colab-df-quickchart {\n",
              "      --bg-color: #3B4455;\n",
              "      --fill-color: #D2E3FC;\n",
              "      --hover-bg-color: #434B5C;\n",
              "      --hover-fill-color: #FFFFFF;\n",
              "      --disabled-bg-color: #3B4455;\n",
              "      --disabled-fill-color: #666;\n",
              "  }\n",
              "\n",
              "  .colab-df-quickchart {\n",
              "    background-color: var(--bg-color);\n",
              "    border: none;\n",
              "    border-radius: 50%;\n",
              "    cursor: pointer;\n",
              "    display: none;\n",
              "    fill: var(--fill-color);\n",
              "    height: 32px;\n",
              "    padding: 0;\n",
              "    width: 32px;\n",
              "  }\n",
              "\n",
              "  .colab-df-quickchart:hover {\n",
              "    background-color: var(--hover-bg-color);\n",
              "    box-shadow: 0 1px 2px rgba(60, 64, 67, 0.3), 0 1px 3px 1px rgba(60, 64, 67, 0.15);\n",
              "    fill: var(--button-hover-fill-color);\n",
              "  }\n",
              "\n",
              "  .colab-df-quickchart-complete:disabled,\n",
              "  .colab-df-quickchart-complete:disabled:hover {\n",
              "    background-color: var(--disabled-bg-color);\n",
              "    fill: var(--disabled-fill-color);\n",
              "    box-shadow: none;\n",
              "  }\n",
              "\n",
              "  .colab-df-spinner {\n",
              "    border: 2px solid var(--fill-color);\n",
              "    border-color: transparent;\n",
              "    border-bottom-color: var(--fill-color);\n",
              "    animation:\n",
              "      spin 1s steps(1) infinite;\n",
              "  }\n",
              "\n",
              "  @keyframes spin {\n",
              "    0% {\n",
              "      border-color: transparent;\n",
              "      border-bottom-color: var(--fill-color);\n",
              "      border-left-color: var(--fill-color);\n",
              "    }\n",
              "    20% {\n",
              "      border-color: transparent;\n",
              "      border-left-color: var(--fill-color);\n",
              "      border-top-color: var(--fill-color);\n",
              "    }\n",
              "    30% {\n",
              "      border-color: transparent;\n",
              "      border-left-color: var(--fill-color);\n",
              "      border-top-color: var(--fill-color);\n",
              "      border-right-color: var(--fill-color);\n",
              "    }\n",
              "    40% {\n",
              "      border-color: transparent;\n",
              "      border-right-color: var(--fill-color);\n",
              "      border-top-color: var(--fill-color);\n",
              "    }\n",
              "    60% {\n",
              "      border-color: transparent;\n",
              "      border-right-color: var(--fill-color);\n",
              "    }\n",
              "    80% {\n",
              "      border-color: transparent;\n",
              "      border-right-color: var(--fill-color);\n",
              "      border-bottom-color: var(--fill-color);\n",
              "    }\n",
              "    90% {\n",
              "      border-color: transparent;\n",
              "      border-bottom-color: var(--fill-color);\n",
              "    }\n",
              "  }\n",
              "</style>\n",
              "\n",
              "      <script>\n",
              "        async function quickchart(key) {\n",
              "          const quickchartButtonEl =\n",
              "            document.querySelector('#' + key + ' button');\n",
              "          quickchartButtonEl.disabled = true;  // To prevent multiple clicks.\n",
              "          quickchartButtonEl.classList.add('colab-df-spinner');\n",
              "          try {\n",
              "            const charts = await google.colab.kernel.invokeFunction(\n",
              "                'suggestCharts', [key], {});\n",
              "          } catch (error) {\n",
              "            console.error('Error during call to suggestCharts:', error);\n",
              "          }\n",
              "          quickchartButtonEl.classList.remove('colab-df-spinner');\n",
              "          quickchartButtonEl.classList.add('colab-df-quickchart-complete');\n",
              "        }\n",
              "        (() => {\n",
              "          let quickchartButtonEl =\n",
              "            document.querySelector('#df-dfbc7716-7edf-46b5-903d-fcf45906b22d button');\n",
              "          quickchartButtonEl.style.display =\n",
              "            google.colab.kernel.accessAllowed ? 'block' : 'none';\n",
              "        })();\n",
              "      </script>\n",
              "    </div>\n",
              "\n",
              "    </div>\n",
              "  </div>\n"
            ],
            "application/vnd.google.colaboratory.intrinsic+json": {
              "type": "dataframe",
              "summary": "{\n  \"name\": \"tips\",\n  \"rows\": 8,\n  \"fields\": [\n    {\n      \"column\": \"total_bill\",\n      \"properties\": {\n        \"dtype\": \"number\",\n        \"std\": 80.57800601480773,\n        \"min\": 3.07,\n        \"max\": 244.0,\n        \"num_unique_values\": 8,\n        \"samples\": [\n          19.78594262295082,\n          17.795,\n          244.0\n        ],\n        \"semantic_type\": \"\",\n        \"description\": \"\"\n      }\n    },\n    {\n      \"column\": \"tip\",\n      \"properties\": {\n        \"dtype\": \"number\",\n        \"std\": 85.10953159599222,\n        \"min\": 1.0,\n        \"max\": 244.0,\n        \"num_unique_values\": 8,\n        \"samples\": [\n          2.99827868852459,\n          2.9,\n          244.0\n        ],\n        \"semantic_type\": \"\",\n        \"description\": \"\"\n      }\n    },\n    {\n      \"column\": \"size\",\n      \"properties\": {\n        \"dtype\": \"number\",\n        \"std\": 85.39686221774684,\n        \"min\": 0.9510998047322332,\n        \"max\": 244.0,\n        \"num_unique_values\": 7,\n        \"samples\": [\n          244.0,\n          2.569672131147541,\n          3.0\n        ],\n        \"semantic_type\": \"\",\n        \"description\": \"\"\n      }\n    }\n  ]\n}"
            }
          },
          "metadata": {},
          "execution_count": 6
        }
      ]
    },
    {
      "cell_type": "markdown",
      "source": [
        "```\n",
        "\ttotal_bill\ttip\tsize\n",
        "count\t244.000000\t244.000000\t244.000000\n",
        "mean\t19.785943\t2.998279\t2.569672\n",
        "std\t8.902412\t1.383638\t0.951100\n",
        "min\t3.070000\t1.000000\t1.000000\n",
        "25%\t13.347500\t2.000000\t2.000000\n",
        "50%\t17.795000\t2.900000\t2.000000\n",
        "75%\t24.127500\t3.562500\t3.000000\n",
        "max\t50.810000\t10.000000\t6.000000\n",
        "```"
      ],
      "metadata": {
        "id": "ZN6nzGCkNbyd"
      }
    },
    {
      "cell_type": "markdown",
      "source": [
        "## 🧮 Step 3: Central Tendency Measures\n",
        "\n",
        "### ❓ Question 3:\n",
        "\n",
        "**What is the average and median of the `total_bill` column? How do they compare?**"
      ],
      "metadata": {
        "id": "dWtCbzF_L3k7"
      }
    },
    {
      "cell_type": "code",
      "source": [],
      "metadata": {
        "colab": {
          "base_uri": "https://localhost:8080/"
        },
        "id": "xJWAMpu0Lys1",
        "outputId": "19f9cb23-b163-43c1-a2bf-f96919618de2"
      },
      "execution_count": 8,
      "outputs": [
        {
          "output_type": "stream",
          "name": "stdout",
          "text": [
            "Mean: 19.78594262295082\n",
            "Median: 17.795\n"
          ]
        }
      ]
    },
    {
      "cell_type": "markdown",
      "source": [
        "```\n",
        "Mean: 19.78594262295082\n",
        "Median: 17.795\n",
        "```"
      ],
      "metadata": {
        "id": "lHN7bsgnNiIs"
      }
    },
    {
      "cell_type": "markdown",
      "source": [
        "## 📈 Step 4: Dispersion Measures\n",
        "\n",
        "### ❓ Question 4:\n",
        "\n",
        "**How spread out is the data for `tip`? Calculate variance and standard deviation.**"
      ],
      "metadata": {
        "id": "Y4tGy6CNL6dH"
      }
    },
    {
      "cell_type": "code",
      "source": [],
      "metadata": {
        "colab": {
          "base_uri": "https://localhost:8080/"
        },
        "id": "bWjqBybnLwWM",
        "outputId": "f65f5b1f-c120-49f7-fecd-6b144a96eaed"
      },
      "execution_count": 9,
      "outputs": [
        {
          "output_type": "stream",
          "name": "stdout",
          "text": [
            "Variance: 1.9144546380624725\n",
            "Standard Deviation: 1.3836381890011826\n"
          ]
        }
      ]
    },
    {
      "cell_type": "markdown",
      "source": [
        "```\n",
        "Variance: 1.9144546380624725\n",
        "Standard Deviation: 1.3836381890011826\n",
        "```"
      ],
      "metadata": {
        "id": "svQy0zRNNmRX"
      }
    },
    {
      "cell_type": "markdown",
      "source": [
        "## 🧮 Step 5: Range and Interquartile Range (IQR)\n",
        "\n",
        "### ❓ Question 5:\n",
        "\n",
        "**What is the range and IQR of `total_bill`? Why are these important in understanding spread?**"
      ],
      "metadata": {
        "id": "7u3Y2Zu2MJEr"
      }
    },
    {
      "cell_type": "code",
      "source": [],
      "metadata": {
        "colab": {
          "base_uri": "https://localhost:8080/"
        },
        "id": "q3jNI2-vMIUS",
        "outputId": "dcdbd31b-b2e0-4b39-91a6-e54bdc0b0182"
      },
      "execution_count": 10,
      "outputs": [
        {
          "output_type": "stream",
          "name": "stdout",
          "text": [
            "Range: 47.74\n",
            "IQR: 10.779999999999998\n"
          ]
        }
      ]
    },
    {
      "cell_type": "markdown",
      "source": [
        "```\n",
        "Range: 47.74\n",
        "IQR: 10.779999999999998\n",
        "```"
      ],
      "metadata": {
        "id": "1pVMQUgMNqm0"
      }
    },
    {
      "cell_type": "markdown",
      "source": [
        "## 🧐 Step 6: Detecting Skewness and Kurtosis\n",
        "\n",
        "### ❓ Question 6:\n",
        "\n",
        "**Is the `tip` column skewed? What about its kurtosis?**"
      ],
      "metadata": {
        "id": "Z5ykRs7rMOi3"
      }
    },
    {
      "cell_type": "code",
      "source": [],
      "metadata": {
        "colab": {
          "base_uri": "https://localhost:8080/"
        },
        "id": "dmJRnQkcMN5B",
        "outputId": "a46a1196-f638-4b18-f763-cc5b52ddeb79"
      },
      "execution_count": 11,
      "outputs": [
        {
          "output_type": "stream",
          "name": "stdout",
          "text": [
            "Skewness: 1.4654510370979401\n",
            "Kurtosis: 3.648375873352852\n"
          ]
        }
      ]
    },
    {
      "cell_type": "markdown",
      "source": [
        "```\n",
        "Skewness: 1.4654510370979401\n",
        "Kurtosis: 3.648375873352852\n",
        "```"
      ],
      "metadata": {
        "id": "HI9eqw0QN015"
      }
    },
    {
      "cell_type": "markdown",
      "source": [
        "## 📊 Step 7: Visualizing Descriptive Stats\n",
        "\n",
        "### ❓ Question 7:\n",
        "\n",
        "**Plot a histogram and boxplot for `total_bill`. What do you observe?**"
      ],
      "metadata": {
        "id": "r-7ctTLVMWrX"
      }
    },
    {
      "cell_type": "code",
      "source": [],
      "metadata": {
        "colab": {
          "base_uri": "https://localhost:8080/",
          "height": 405
        },
        "id": "gNYTHQIjMSB4",
        "outputId": "e9732607-70db-4246-f0ee-a3bcc4abd7ee"
      },
      "execution_count": 12,
      "outputs": [
        {
          "output_type": "display_data",
          "data": {
            "text/plain": [
              "<Figure size 1200x500 with 2 Axes>"
            ],
            "image/png": "[encoded data removed]"
          },
          "metadata": {}
        }
      ]
    },
    {
      "cell_type": "markdown",
      "source": [
        "![image.png](data:image/png;base64,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)"
      ],
      "metadata": {
        "id": "3S0y5q2zN8WW"
      }
    },
    {
      "cell_type": "markdown",
      "source": [
        "## 🧠 Step 8: Group-wise Analysis\n",
        "\n",
        "### ❓ Question 8:\n",
        "\n",
        "**What’s the average tip by gender? Which gender tends to tip more?**"
      ],
      "metadata": {
        "id": "91IvdtH4M67t"
      }
    },
    {
      "cell_type": "code",
      "source": [],
      "metadata": {
        "colab": {
          "base_uri": "https://localhost:8080/"
        },
        "id": "u6nXEXF2Mfke",
        "outputId": "55b2a81f-1237-4ed6-c781-fd788055b813"
      },
      "execution_count": 16,
      "outputs": [
        {
          "output_type": "stream",
          "name": "stdout",
          "text": [
            "sex\n",
            "Male      3.089618\n",
            "Female    2.833448\n",
            "Name: tip, dtype: float64\n"
          ]
        },
        {
          "output_type": "stream",
          "name": "stderr",
          "text": [
            "/tmp/ipython-input-16-1428991872.py:1: FutureWarning: The default of observed=False is deprecated and will be changed to True in a future version of pandas. Pass observed=False to retain current behavior or observed=True to adopt the future default and silence this warning.\n",
            "  avg_tip_by_gender = tips.groupby('sex')['tip'].mean()\n"
          ]
        }
      ]
    },
    {
      "cell_type": "markdown",
      "source": [
        "```\n",
        "sex\n",
        "Male      3.089618\n",
        "Female    2.833448\n",
        "Name: tip, dtype: float64\n",
        "```"
      ],
      "metadata": {
        "id": "ETp9F_1JOL1s"
      }
    },
    {
      "cell_type": "markdown",
      "source": [
        "## 📋 Step 9: Correlation Matrix\n",
        "\n",
        "### ❓ Question 9:\n",
        "\n",
        "**Are `total_bill` and `tip` correlated?**"
      ],
      "metadata": {
        "id": "ynjMhJezMh5R"
      }
    },
    {
      "cell_type": "code",
      "source": [],
      "metadata": {
        "colab": {
          "base_uri": "https://localhost:8080/"
        },
        "id": "arcAJHGlMhK2",
        "outputId": "95ddce87-51f4-45b0-e5d9-f301a682b1d8"
      },
      "execution_count": 17,
      "outputs": [
        {
          "output_type": "stream",
          "name": "stdout",
          "text": [
            "            total_bill       tip\n",
            "total_bill    1.000000  0.675734\n",
            "tip           0.675734  1.000000\n"
          ]
        }
      ]
    },
    {
      "cell_type": "markdown",
      "source": [
        "```\n",
        "            total_bill       tip\n",
        "total_bill    1.000000  0.675734\n",
        "tip           0.675734  1.000000\n",
        "```"
      ],
      "metadata": {
        "id": "QqSx_UG7Ocyc"
      }
    },
    {
      "cell_type": "markdown",
      "source": [
        "### 🔍 Follow-up:\n",
        "\n",
        "**Plot the heatmap of the correlation matrix**"
      ],
      "metadata": {
        "id": "2p-2l6SHMvwt"
      }
    },
    {
      "cell_type": "code",
      "source": [],
      "metadata": {
        "colab": {
          "base_uri": "https://localhost:8080/",
          "height": 452
        },
        "id": "wG4DQpjJMnQd",
        "outputId": "4d634911-d9ec-437a-d7de-1c9693290c52"
      },
      "execution_count": 18,
      "outputs": [
        {
          "output_type": "display_data",
          "data": {
            "text/plain": [
              "<Figure size 640x480 with 2 Axes>"
            ],
            "image/png": "[encoded data removed]"
          },
          "metadata": {}
        }
      ]
    },
    {
      "cell_type": "markdown",
      "source": [
        "![image.png](data:image/png;base64,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)"
      ],
      "metadata": {
        "id": "Dl3QXxfYOi1X"
      }
    },
    {
      "cell_type": "code",
      "source": [],
      "metadata": {
        "id": "e0NoAor_Ogem"
      },
      "execution_count": null,
      "outputs": []
    }
  ]
}