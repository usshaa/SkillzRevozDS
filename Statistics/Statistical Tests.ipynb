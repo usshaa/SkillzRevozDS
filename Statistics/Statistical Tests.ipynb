{
 "cells": [
  {
   "cell_type": "markdown",
   "metadata": {},
   "source": [
    "### One-Sample T-test\n",
    "\n",
    "The one-sample t-test is used to determine whether the mean of a single sample differs significantly from a known or hypothesized population mean.\n",
    "\n",
    "#### When to Apply:\n",
    "- Use when you have one group of observations and you want to compare its mean to a known or hypothesized value.\n",
    "\n",
    "#### Code Sample:"
   ]
  },
  {
   "cell_type": "code",
   "execution_count": 2,
   "metadata": {},
   "outputs": [],
   "source": [
    "import numpy as np\n",
    "from scipy import stats"
   ]
  },
  {
   "cell_type": "code",
   "execution_count": 12,
   "metadata": {},
   "outputs": [
    {
     "data": {
      "text/plain": [
       "array([14.13847744,  8.51130873, 10.76301342,  8.15389352, 10.80776807,\n",
       "       12.07471374, 11.82758479, 12.24298422, 11.35386995,  8.71263928,\n",
       "       10.53061582, 13.6356925 , 11.67003486,  9.3772728 , 11.55588383,\n",
       "        9.15269299,  7.28008418,  6.97007295,  6.74660512,  8.07520447,\n",
       "        9.70096757, 10.16537656, 13.11903482, 11.12762602, 12.31883808,\n",
       "        9.4554467 , 11.06915818, 13.04106853,  9.82112348,  6.08792657,\n",
       "       10.87655977,  7.63359499,  8.07955384, 11.27889987, 12.20410083,\n",
       "       10.45596289,  8.49299958, 13.50109259, 12.42045815,  5.39056633,\n",
       "       12.20477402,  8.58373144,  8.01972275, 11.16061705,  9.53521536,\n",
       "        9.37970425,  6.91973087,  8.30849975,  7.98213748,  8.99594372,\n",
       "       13.10408774,  8.96512782,  8.4913333 ,  8.78241597, 10.69176743,\n",
       "       11.61655308,  7.1144428 , 12.0299466 ,  9.109632  ,  8.04515345,\n",
       "       12.91218481,  8.68743242, 10.19931155, 10.30559005,  8.6377382 ,\n",
       "       10.8023848 ,  9.75864923, 10.81804328,  7.59509095, 12.57564442,\n",
       "        8.23713684,  8.12587288,  8.26625509, 10.36745552,  8.26570027,\n",
       "       10.15334692, 12.15482404,  7.0204093 ,  8.16407284, 12.62465221,\n",
       "       12.58843057, 10.64738455, 10.9939083 , 12.30449321,  9.63109483,\n",
       "        9.2364666 ,  6.53626196,  8.67045327, 11.19758927, 11.40282409,\n",
       "        8.028916  , 14.56477046,  7.23216281, 10.45450016, 11.39376871,\n",
       "        8.25266181,  8.23891134, 10.60830262,  7.08729627, 12.81038803])"
      ]
     },
     "execution_count": 12,
     "metadata": {},
     "output_type": "execute_result"
    }
   ],
   "source": [
    "# Sample data\n",
    "sample_data = np.random.normal(loc=10, scale=2, size=100)\n",
    "# sample_data.std()\n",
    "sample_data"
   ]
  },
  {
   "cell_type": "code",
   "execution_count": 13,
   "metadata": {},
   "outputs": [],
   "source": [
    "# Hypothesized population mean\n",
    "pop_mean = 9"
   ]
  },
  {
   "cell_type": "code",
   "execution_count": 14,
   "metadata": {},
   "outputs": [
    {
     "data": {
      "text/plain": [
       "6.856568666890962e-06"
      ]
     },
     "execution_count": 14,
     "metadata": {},
     "output_type": "execute_result"
    }
   ],
   "source": [
    "# Perform one-sample t-test\n",
    "t_statistic, p_value = stats.ttest_1samp(sample_data, pop_mean)\n",
    "p_value"
   ]
  },
  {
   "cell_type": "code",
   "execution_count": 10,
   "metadata": {},
   "outputs": [
    {
     "name": "stdout",
     "output_type": "stream",
     "text": [
      "Reject the null hypothesis. The mean of the sample is significantly different from the population mean.\n"
     ]
    }
   ],
   "source": [
    "# Interpret results\n",
    "alpha = 0.05\n",
    "if p_value < alpha:\n",
    "    print(\"Reject the null hypothesis. The mean of the sample is significantly different from the population mean.\")\n",
    "else:\n",
    "    print(\"Fail to reject the null hypothesis. There is no significant difference in means.\")"
   ]
  },
  {
   "cell_type": "markdown",
   "metadata": {},
   "source": [
    "### Two-Sample T-test\n",
    "\n",
    "The two-sample t-test compares the means of two independent groups to determine if they are significantly different from each other.\n",
    "\n",
    "#### When to Apply:\n",
    "- Use when you have two independent groups of observations and you want to compare their means.\n",
    "\n",
    "#### Code Sample:"
   ]
  },
  {
   "cell_type": "code",
   "execution_count": 21,
   "metadata": {},
   "outputs": [
    {
     "data": {
      "text/plain": [
       "10.026935738490176"
      ]
     },
     "execution_count": 21,
     "metadata": {},
     "output_type": "execute_result"
    }
   ],
   "source": [
    "# Sample data for two groups\n",
    "group1 = np.random.normal(loc=10, scale=2, size=100)\n",
    "group2 = np.random.normal(loc=12, scale=2, size=100)\n",
    "group1.mean()"
   ]
  },
  {
   "cell_type": "code",
   "execution_count": 22,
   "metadata": {},
   "outputs": [
    {
     "data": {
      "text/plain": [
       "12.205749405809673"
      ]
     },
     "execution_count": 22,
     "metadata": {},
     "output_type": "execute_result"
    }
   ],
   "source": [
    "group2.mean()"
   ]
  },
  {
   "cell_type": "code",
   "execution_count": 18,
   "metadata": {},
   "outputs": [
    {
     "data": {
      "text/plain": [
       "1.6245199125611691e-12"
      ]
     },
     "execution_count": 18,
     "metadata": {},
     "output_type": "execute_result"
    }
   ],
   "source": [
    "# Perform two-sample t-test\n",
    "t_statistic, p_value = stats.ttest_ind(group1, group2)\n",
    "p_value"
   ]
  },
  {
   "cell_type": "code",
   "execution_count": 8,
   "metadata": {},
   "outputs": [
    {
     "name": "stdout",
     "output_type": "stream",
     "text": [
      "Reject the null hypothesis. The means of the two groups are significantly different.\n"
     ]
    }
   ],
   "source": [
    "# Interpret results\n",
    "if p_value < alpha:\n",
    "    print(\"Reject the null hypothesis. The means of the two groups are significantly different.\")\n",
    "else:\n",
    "    print(\"Fail to reject the null hypothesis. There is no significant difference in means.\")"
   ]
  },
  {
   "cell_type": "markdown",
   "metadata": {},
   "source": [
    "### F-test (Variance Ratio Test)\n",
    "\n",
    "The F-test compares the variances of two samples to determine if they are significantly different from each other.\n",
    "\n",
    "#### When to Apply:\n",
    "- Use when you want to compare the variances of two samples.\n",
    "\n",
    "#### Code Sample:"
   ]
  },
  {
   "cell_type": "code",
   "execution_count": 25,
   "metadata": {},
   "outputs": [
    {
     "data": {
      "text/plain": [
       "4.385625050093605"
      ]
     },
     "execution_count": 25,
     "metadata": {},
     "output_type": "execute_result"
    }
   ],
   "source": [
    "# Perform F-test\n",
    "F_statistic, p_value = stats.f_oneway(group1, group2)\n",
    "group1.var()"
   ]
  },
  {
   "cell_type": "code",
   "execution_count": 26,
   "metadata": {},
   "outputs": [
    {
     "data": {
      "text/plain": [
       "4.573971543400904"
      ]
     },
     "execution_count": 26,
     "metadata": {},
     "output_type": "execute_result"
    }
   ],
   "source": [
    "group2.var()"
   ]
  },
  {
   "cell_type": "code",
   "execution_count": 24,
   "metadata": {},
   "outputs": [
    {
     "name": "stdout",
     "output_type": "stream",
     "text": [
      "Reject the null hypothesis. The variances of the two groups are significantly different.\n"
     ]
    }
   ],
   "source": [
    "# Interpret results\n",
    "if p_value < alpha:\n",
    "    print(\"Reject the null hypothesis. The variances of the two groups are significantly different.\")\n",
    "else:\n",
    "    print(\"Fail to reject the null hypothesis. There is no significant difference in variances.\")"
   ]
  },
  {
   "cell_type": "markdown",
   "metadata": {},
   "source": [
    "### ANOVA (Analysis of Variance)\n",
    "\n",
    "ANOVA is used to compare the means of three or more independent groups to determine if at least one group is different from the others.\n",
    "\n",
    "#### When to Apply:\n",
    "- Use when you have three or more independent groups of observations and you want to compare their means.\n",
    "\n",
    "#### Code Sample:"
   ]
  },
  {
   "cell_type": "code",
   "execution_count": 32,
   "metadata": {},
   "outputs": [
    {
     "data": {
      "text/plain": [
       "4.249777240975971"
      ]
     },
     "execution_count": 32,
     "metadata": {},
     "output_type": "execute_result"
    }
   ],
   "source": [
    "# Sample data for three groups\n",
    "group3 = np.random.normal(loc=14, scale=2, size=100)\n",
    "group3.var()"
   ]
  },
  {
   "cell_type": "code",
   "execution_count": 33,
   "metadata": {},
   "outputs": [
    {
     "data": {
      "text/plain": [
       "3.0881881412105206e-31"
      ]
     },
     "execution_count": 33,
     "metadata": {},
     "output_type": "execute_result"
    }
   ],
   "source": [
    "# Perform ANOVA\n",
    "F_statistic, p_value = stats.f_oneway(group1, group2, group3)\n",
    "p_value"
   ]
  },
  {
   "cell_type": "code",
   "execution_count": 31,
   "metadata": {},
   "outputs": [
    {
     "name": "stdout",
     "output_type": "stream",
     "text": [
      "Reject the null hypothesis. At least one group mean is significantly different.\n"
     ]
    }
   ],
   "source": [
    "# Interpret results\n",
    "if p_value < alpha:\n",
    "    print(\"Reject the null hypothesis. At least one group mean is significantly different.\")\n",
    "else:\n",
    "    print(\"Fail to reject the null hypothesis. There is no significant difference in group means.\")"
   ]
  },
  {
   "cell_type": "markdown",
   "metadata": {},
   "source": [
    "### Chi-Square Test\n",
    "\n",
    "The Chi-Square test of independence is used to determine if there is a significant association between two categorical variables.\n",
    "\n",
    "#### When to Apply:\n",
    "- Use when you have categorical data and you want to test if there is a relationship between two variables.\n",
    "\n",
    "#### Code Sample:"
   ]
  },
  {
   "cell_type": "code",
   "execution_count": 44,
   "metadata": {},
   "outputs": [
    {
     "data": {
      "text/plain": [
       "array([[30, 20, 10],\n",
       "       [30, 20, 20]])"
      ]
     },
     "execution_count": 44,
     "metadata": {},
     "output_type": "execute_result"
    }
   ],
   "source": [
    "# Create contingency table\n",
    "observed = np.array([[30, 20, 10],\n",
    "                     [30, 20, 20]])\n",
    "observed"
   ]
  },
  {
   "cell_type": "code",
   "execution_count": 42,
   "metadata": {},
   "outputs": [
    {
     "data": {
      "text/plain": [
       "0.27535818451244715"
      ]
     },
     "execution_count": 42,
     "metadata": {},
     "output_type": "execute_result"
    }
   ],
   "source": [
    "# Perform Chi-Square test\n",
    "chi2_stat, p_value, dof, expected = stats.chi2_contingency(observed)\n",
    "p_value"
   ]
  },
  {
   "cell_type": "code",
   "execution_count": 43,
   "metadata": {},
   "outputs": [
    {
     "name": "stdout",
     "output_type": "stream",
     "text": [
      "Fail to reject the null hypothesis. There is no significant association.\n"
     ]
    }
   ],
   "source": [
    "# Interpret results\n",
    "if p_value < alpha:\n",
    "    print(\"Reject the null hypothesis. There is a significant association between the two variables.\")\n",
    "else:\n",
    "    print(\"Fail to reject the null hypothesis. There is no significant association.\")"
   ]
  },
  {
   "cell_type": "markdown",
   "metadata": {},
   "source": [
    "### Z-test\n",
    "\n",
    "The Z-test is used to compare a sample mean to a population mean when the population standard deviation is known.\n",
    "\n",
    "#### When to Apply:\n",
    "- Use when the population standard deviation is known and you want to compare a sample mean to the population mean.\n",
    "\n",
    "#### Code Sample:"
   ]
  },
  {
   "cell_type": "code",
   "execution_count": 45,
   "metadata": {},
   "outputs": [],
   "source": [
    "# Sample data\n",
    "sample_data = np.random.normal(loc=10, scale=2, size=100)"
   ]
  },
  {
   "cell_type": "code",
   "execution_count": 46,
   "metadata": {},
   "outputs": [],
   "source": [
    "# Population parameters\n",
    "pop_mean = 9\n",
    "pop_std = 2"
   ]
  },
  {
   "cell_type": "code",
   "execution_count": 47,
   "metadata": {},
   "outputs": [
    {
     "data": {
      "text/plain": [
       "5.163942582318182"
      ]
     },
     "execution_count": 47,
     "metadata": {},
     "output_type": "execute_result"
    }
   ],
   "source": [
    "# Perform Z-test\n",
    "z_score = (np.mean(sample_data) - pop_mean) / (pop_std / np.sqrt(len(sample_data)))\n",
    "z_score"
   ]
  },
  {
   "cell_type": "code",
   "execution_count": 48,
   "metadata": {},
   "outputs": [
    {
     "data": {
      "text/plain": [
       "1.2090094790443962e-07"
      ]
     },
     "execution_count": 48,
     "metadata": {},
     "output_type": "execute_result"
    }
   ],
   "source": [
    "# Calculate p-value\n",
    "p_value = stats.norm.sf(abs(z_score))\n",
    "p_value"
   ]
  },
  {
   "cell_type": "code",
   "execution_count": 39,
   "metadata": {},
   "outputs": [
    {
     "name": "stdout",
     "output_type": "stream",
     "text": [
      "Reject the null hypothesis. The mean of the sample is significantly different from the population mean.\n"
     ]
    }
   ],
   "source": [
    "# Interpret results\n",
    "if p_value < alpha:\n",
    "    print(\"Reject the null hypothesis. The mean of the sample is significantly different from the population mean.\")\n",
    "else:\n",
    "    print(\"Fail to reject the null hypothesis. There is no significant difference in means.\")"
   ]
  },
  {
   "cell_type": "markdown",
   "metadata": {},
   "source": [
    "### Step 1: Load the Dataset"
   ]
  },
  {
   "cell_type": "code",
   "execution_count": 49,
   "metadata": {},
   "outputs": [],
   "source": [
    "import pandas as pd"
   ]
  },
  {
   "cell_type": "code",
   "execution_count": 50,
   "metadata": {},
   "outputs": [],
   "source": [
    "# Load the dataset\n",
    "transport_data = pd.read_csv('synthetic_data.csv')"
   ]
  },
  {
   "cell_type": "code",
   "execution_count": 51,
   "metadata": {},
   "outputs": [
    {
     "data": {
      "text/html": [
       "<div>\n",
       "<style scoped>\n",
       "    .dataframe tbody tr th:only-of-type {\n",
       "        vertical-align: middle;\n",
       "    }\n",
       "\n",
       "    .dataframe tbody tr th {\n",
       "        vertical-align: top;\n",
       "    }\n",
       "\n",
       "    .dataframe thead th {\n",
       "        text-align: right;\n",
       "    }\n",
       "</style>\n",
       "<table border=\"1\" class=\"dataframe\">\n",
       "  <thead>\n",
       "    <tr style=\"text-align: right;\">\n",
       "      <th></th>\n",
       "      <th>Date</th>\n",
       "      <th>Time</th>\n",
       "      <th>Stop/Station</th>\n",
       "      <th>Passenger_Count</th>\n",
       "      <th>Vehicle_ID</th>\n",
       "      <th>Latitude</th>\n",
       "      <th>Longitude</th>\n",
       "      <th>Temperature (°C)</th>\n",
       "      <th>Precipitation (mm)</th>\n",
       "      <th>Humidity (%)</th>\n",
       "      <th>Age_Group</th>\n",
       "      <th>Gender</th>\n",
       "      <th>Feedback</th>\n",
       "    </tr>\n",
       "  </thead>\n",
       "  <tbody>\n",
       "    <tr>\n",
       "      <th>0</th>\n",
       "      <td>2023-11-16</td>\n",
       "      <td>12:03</td>\n",
       "      <td>Johor Bahru</td>\n",
       "      <td>46</td>\n",
       "      <td>TRAIN82</td>\n",
       "      <td>3.906935</td>\n",
       "      <td>106.068464</td>\n",
       "      <td>11</td>\n",
       "      <td>3</td>\n",
       "      <td>63</td>\n",
       "      <td>18-24</td>\n",
       "      <td>Male</td>\n",
       "      <td>Driver was friendly</td>\n",
       "    </tr>\n",
       "    <tr>\n",
       "      <th>1</th>\n",
       "      <td>2023-07-14</td>\n",
       "      <td>05:07</td>\n",
       "      <td>Cameron Highlands</td>\n",
       "      <td>17</td>\n",
       "      <td>TRAIN65</td>\n",
       "      <td>4.227106</td>\n",
       "      <td>118.407191</td>\n",
       "      <td>3</td>\n",
       "      <td>3</td>\n",
       "      <td>74</td>\n",
       "      <td>25-40</td>\n",
       "      <td>Female</td>\n",
       "      <td>Seats were uncomfortable</td>\n",
       "    </tr>\n",
       "    <tr>\n",
       "      <th>2</th>\n",
       "      <td>2023-09-22</td>\n",
       "      <td>14:11</td>\n",
       "      <td>Ipoh</td>\n",
       "      <td>91</td>\n",
       "      <td>TRAIN38</td>\n",
       "      <td>6.819556</td>\n",
       "      <td>101.272984</td>\n",
       "      <td>27</td>\n",
       "      <td>1</td>\n",
       "      <td>81</td>\n",
       "      <td>40-60</td>\n",
       "      <td>Male</td>\n",
       "      <td>Delay in departure</td>\n",
       "    </tr>\n",
       "    <tr>\n",
       "      <th>3</th>\n",
       "      <td>2022-07-12</td>\n",
       "      <td>09:11</td>\n",
       "      <td>Penang</td>\n",
       "      <td>41</td>\n",
       "      <td>BUS245</td>\n",
       "      <td>3.627521</td>\n",
       "      <td>106.226990</td>\n",
       "      <td>1</td>\n",
       "      <td>7</td>\n",
       "      <td>98</td>\n",
       "      <td>25-40</td>\n",
       "      <td>Female</td>\n",
       "      <td>Driver was friendly</td>\n",
       "    </tr>\n",
       "    <tr>\n",
       "      <th>4</th>\n",
       "      <td>2023-12-09</td>\n",
       "      <td>16:59</td>\n",
       "      <td>Kuching</td>\n",
       "      <td>53</td>\n",
       "      <td>BUS958</td>\n",
       "      <td>1.418952</td>\n",
       "      <td>117.050925</td>\n",
       "      <td>15</td>\n",
       "      <td>9</td>\n",
       "      <td>71</td>\n",
       "      <td>40-60</td>\n",
       "      <td>Male</td>\n",
       "      <td>Service was excellent</td>\n",
       "    </tr>\n",
       "  </tbody>\n",
       "</table>\n",
       "</div>"
      ],
      "text/plain": [
       "         Date   Time       Stop/Station  Passenger_Count Vehicle_ID  Latitude  \\\n",
       "0  2023-11-16  12:03        Johor Bahru               46    TRAIN82  3.906935   \n",
       "1  2023-07-14  05:07  Cameron Highlands               17    TRAIN65  4.227106   \n",
       "2  2023-09-22  14:11               Ipoh               91    TRAIN38  6.819556   \n",
       "3  2022-07-12  09:11             Penang               41     BUS245  3.627521   \n",
       "4  2023-12-09  16:59            Kuching               53     BUS958  1.418952   \n",
       "\n",
       "    Longitude  Temperature (°C)  Precipitation (mm)  Humidity (%) Age_Group  \\\n",
       "0  106.068464                11                   3            63     18-24   \n",
       "1  118.407191                 3                   3            74     25-40   \n",
       "2  101.272984                27                   1            81     40-60   \n",
       "3  106.226990                 1                   7            98     25-40   \n",
       "4  117.050925                15                   9            71     40-60   \n",
       "\n",
       "   Gender                  Feedback  \n",
       "0    Male       Driver was friendly  \n",
       "1  Female  Seats were uncomfortable  \n",
       "2    Male        Delay in departure  \n",
       "3  Female       Driver was friendly  \n",
       "4    Male     Service was excellent  "
      ]
     },
     "execution_count": 51,
     "metadata": {},
     "output_type": "execute_result"
    }
   ],
   "source": [
    "# Display the first few rows of the dataset\n",
    "# print(transport_data.head())\n",
    "transport_data.head()"
   ]
  },
  {
   "cell_type": "markdown",
   "metadata": {},
   "source": [
    "### Step 2: One-Sample T-test\n",
    "\n",
    "Let's test whether the mean of the 'Passenger_Count' column is significantly different from a specific value (e.g., 50)."
   ]
  },
  {
   "cell_type": "code",
   "execution_count": 56,
   "metadata": {},
   "outputs": [],
   "source": [
    "from scipy import stats"
   ]
  },
  {
   "cell_type": "code",
   "execution_count": 57,
   "metadata": {},
   "outputs": [
    {
     "data": {
      "text/plain": [
       "1.0"
      ]
     },
     "execution_count": 57,
     "metadata": {},
     "output_type": "execute_result"
    }
   ],
   "source": [
    "# One-sample t-test\n",
    "t_statistic, p_value = stats.ttest_1samp(transport_data['Passenger_Count'], 55.751)\n",
    "transport_data['Passenger_Count'].mean()\n",
    "p_value"
   ]
  },
  {
   "cell_type": "code",
   "execution_count": 58,
   "metadata": {},
   "outputs": [
    {
     "name": "stdout",
     "output_type": "stream",
     "text": [
      "Fail to reject the null hypothesis. There is no significant difference in means.\n"
     ]
    }
   ],
   "source": [
    "# Interpret results\n",
    "alpha = 0.05\n",
    "if p_value < alpha:\n",
    "    print(\"Reject the null hypothesis. The mean of Passenger_Count is significantly different from 50.\")\n",
    "else:\n",
    "    print(\"Fail to reject the null hypothesis. There is no significant difference in means.\")"
   ]
  },
  {
   "cell_type": "markdown",
   "metadata": {},
   "source": [
    "### Step 3: Two-Sample T-test\n",
    "\n",
    "Let's compare the mean 'Temperature (°C)' for two different 'Feedback' groups (e.g., \"Driver was friendly\" and \"Seats were uncomfortable\")."
   ]
  },
  {
   "cell_type": "code",
   "execution_count": 59,
   "metadata": {},
   "outputs": [],
   "source": [
    "# Separate data into two groups based on feedback\n",
    "group1 = transport_data[transport_data['Feedback'] == \"Driver was friendly\"]['Temperature (°C)']\n",
    "group2 = transport_data[transport_data['Feedback'] == \"Seats were uncomfortable\"]['Temperature (°C)']"
   ]
  },
  {
   "cell_type": "code",
   "execution_count": 62,
   "metadata": {},
   "outputs": [
    {
     "data": {
      "text/plain": [
       "14.754901960784315"
      ]
     },
     "execution_count": 62,
     "metadata": {},
     "output_type": "execute_result"
    }
   ],
   "source": [
    "# Perform two-sample t-test\n",
    "t_statistic, p_value = stats.ttest_ind(group1, group2)\n",
    "group1.mean()"
   ]
  },
  {
   "cell_type": "code",
   "execution_count": 63,
   "metadata": {},
   "outputs": [
    {
     "data": {
      "text/plain": [
       "14.236559139784946"
      ]
     },
     "execution_count": 63,
     "metadata": {},
     "output_type": "execute_result"
    }
   ],
   "source": [
    "group2.mean()"
   ]
  },
  {
   "cell_type": "code",
   "execution_count": 61,
   "metadata": {},
   "outputs": [
    {
     "name": "stdout",
     "output_type": "stream",
     "text": [
      "Fail to reject the null hypothesis. There is no significant difference in means.\n"
     ]
    }
   ],
   "source": [
    "# Interpret results\n",
    "if p_value < alpha:\n",
    "    print(\"Reject the null hypothesis. The means of the two feedback groups are significantly different.\")\n",
    "else:\n",
    "    print(\"Fail to reject the null hypothesis. There is no significant difference in means.\")"
   ]
  },
  {
   "cell_type": "markdown",
   "metadata": {},
   "source": [
    "### Step 4: F-test (Variance Ratio Test)\n",
    "\n",
    "Let's compare the variances of 'Passenger_Count' for two different 'Age_Group' categories (e.g., \"18-24\" and \"25-40\")."
   ]
  },
  {
   "cell_type": "code",
   "execution_count": 64,
   "metadata": {},
   "outputs": [],
   "source": [
    "# Separate data into two groups based on age group\n",
    "group1 = transport_data[transport_data['Age_Group'] == \"18-24\"]['Passenger_Count']\n",
    "group2 = transport_data[transport_data['Age_Group'] == \"25-40\"]['Passenger_Count']"
   ]
  },
  {
   "cell_type": "code",
   "execution_count": 72,
   "metadata": {},
   "outputs": [
    {
     "data": {
      "text/plain": [
       "652.189561176155"
      ]
     },
     "execution_count": 72,
     "metadata": {},
     "output_type": "execute_result"
    }
   ],
   "source": [
    "# Perform F-test\n",
    "F_statistic, p_value = stats.f_oneway(group1, group2)\n",
    "p_value\n",
    "group1.var()"
   ]
  },
  {
   "cell_type": "code",
   "execution_count": 74,
   "metadata": {},
   "outputs": [
    {
     "data": {
      "text/plain": [
       "0.5559826821515097"
      ]
     },
     "execution_count": 74,
     "metadata": {},
     "output_type": "execute_result"
    }
   ],
   "source": [
    "group2.var()\n",
    "p_value"
   ]
  },
  {
   "cell_type": "code",
   "execution_count": 75,
   "metadata": {},
   "outputs": [
    {
     "name": "stdout",
     "output_type": "stream",
     "text": [
      "Fail to reject the null hypothesis. There is no significant difference in variances.\n"
     ]
    }
   ],
   "source": [
    "# Interpret results\n",
    "if p_value < alpha:\n",
    "    print(\"Reject the null hypothesis. The variances of the two age groups are significantly different.\")\n",
    "else:\n",
    "    print(\"Fail to reject the null hypothesis. There is no significant difference in variances.\")"
   ]
  },
  {
   "cell_type": "markdown",
   "metadata": {},
   "source": [
    "### Step 5: ANOVA (Analysis of Variance)\n",
    "\n",
    "Let's compare the means of 'Temperature (°C)' for different 'Stop/Station' categories."
   ]
  },
  {
   "cell_type": "code",
   "execution_count": 82,
   "metadata": {},
   "outputs": [
    {
     "data": {
      "text/plain": [
       "0.6561408487926885"
      ]
     },
     "execution_count": 82,
     "metadata": {},
     "output_type": "execute_result"
    }
   ],
   "source": [
    "# Perform ANOVA\n",
    "F_statistic, p_value = stats.f_oneway(*[group['Temperature (°C)'] for name, group in transport_data.groupby('Stop/Station')])\n",
    "p_value"
   ]
  },
  {
   "cell_type": "code",
   "execution_count": 83,
   "metadata": {},
   "outputs": [
    {
     "name": "stdout",
     "output_type": "stream",
     "text": [
      "Fail to reject the null hypothesis. There is no significant difference in Stop/Station means.\n"
     ]
    }
   ],
   "source": [
    "# Interpret results\n",
    "if p_value < alpha:\n",
    "    print(\"Reject the null hypothesis. At least one Stop/Station mean is significantly different.\")\n",
    "else:\n",
    "    print(\"Fail to reject the null hypothesis. There is no significant difference in Stop/Station means.\")"
   ]
  },
  {
   "cell_type": "markdown",
   "metadata": {},
   "source": [
    "### Step 6: Chi-Square Test\n",
    "\n",
    "Let's test the association between 'Age_Group' and 'Gender'."
   ]
  },
  {
   "cell_type": "code",
   "execution_count": 84,
   "metadata": {},
   "outputs": [
    {
     "data": {
      "text/html": [
       "<div>\n",
       "<style scoped>\n",
       "    .dataframe tbody tr th:only-of-type {\n",
       "        vertical-align: middle;\n",
       "    }\n",
       "\n",
       "    .dataframe tbody tr th {\n",
       "        vertical-align: top;\n",
       "    }\n",
       "\n",
       "    .dataframe thead th {\n",
       "        text-align: right;\n",
       "    }\n",
       "</style>\n",
       "<table border=\"1\" class=\"dataframe\">\n",
       "  <thead>\n",
       "    <tr style=\"text-align: right;\">\n",
       "      <th>Gender</th>\n",
       "      <th>Female</th>\n",
       "      <th>Male</th>\n",
       "    </tr>\n",
       "    <tr>\n",
       "      <th>Age_Group</th>\n",
       "      <th></th>\n",
       "      <th></th>\n",
       "    </tr>\n",
       "  </thead>\n",
       "  <tbody>\n",
       "    <tr>\n",
       "      <th>18-24</th>\n",
       "      <td>149</td>\n",
       "      <td>186</td>\n",
       "    </tr>\n",
       "    <tr>\n",
       "      <th>25-40</th>\n",
       "      <td>144</td>\n",
       "      <td>159</td>\n",
       "    </tr>\n",
       "    <tr>\n",
       "      <th>40-60</th>\n",
       "      <td>173</td>\n",
       "      <td>189</td>\n",
       "    </tr>\n",
       "  </tbody>\n",
       "</table>\n",
       "</div>"
      ],
      "text/plain": [
       "Gender     Female  Male\n",
       "Age_Group              \n",
       "18-24         149   186\n",
       "25-40         144   159\n",
       "40-60         173   189"
      ]
     },
     "execution_count": 84,
     "metadata": {},
     "output_type": "execute_result"
    }
   ],
   "source": [
    "# Create contingency table\n",
    "contingency_table = pd.crosstab(transport_data['Age_Group'], transport_data['Gender'])\n",
    "contingency_table"
   ]
  },
  {
   "cell_type": "code",
   "execution_count": 86,
   "metadata": {},
   "outputs": [
    {
     "data": {
      "text/plain": [
       "0.6323697792457594"
      ]
     },
     "execution_count": 86,
     "metadata": {},
     "output_type": "execute_result"
    }
   ],
   "source": [
    "# Perform Chi-Square test\n",
    "chi2_stat, p_value, dof, expected = stats.chi2_contingency(contingency_table)\n",
    "p_value"
   ]
  },
  {
   "cell_type": "code",
   "execution_count": 85,
   "metadata": {},
   "outputs": [
    {
     "name": "stdout",
     "output_type": "stream",
     "text": [
      "Fail to reject the null hypothesis. There is no significant association.\n"
     ]
    }
   ],
   "source": [
    "# Interpret results\n",
    "if p_value < alpha:\n",
    "    print(\"Reject the null hypothesis. There is a significant association between Age_Group and Gender.\")\n",
    "else:\n",
    "    print(\"Fail to reject the null hypothesis. There is no significant association.\")"
   ]
  },
  {
   "cell_type": "markdown",
   "metadata": {},
   "source": [
    "### Step 7: Z-test\n",
    "\n",
    "Let's compare the mean 'Passenger_Count' to a population mean of 60, assuming a population standard deviation of 15."
   ]
  },
  {
   "cell_type": "code",
   "execution_count": 90,
   "metadata": {},
   "outputs": [
    {
     "name": "stdout",
     "output_type": "stream",
     "text": [
      "mean of sample data is 55.751 and length of sample data is 1000\n"
     ]
    }
   ],
   "source": [
    "# Sample data\n",
    "sample_data = transport_data['Passenger_Count']\n",
    "\n",
    "# Population parameters\n",
    "pop_mean = 60\n",
    "pop_std = 15\n",
    "m = transport_data['Passenger_Count'].mean()\n",
    "l = transport_data['Passenger_Count'].count()\n",
    "print(f\"mean of sample data is {m} and length of sample data is {l}\")"
   ]
  },
  {
   "cell_type": "code",
   "execution_count": 97,
   "metadata": {},
   "outputs": [
    {
     "data": {
      "text/plain": [
       "-8.957678518703634"
      ]
     },
     "execution_count": 97,
     "metadata": {},
     "output_type": "execute_result"
    }
   ],
   "source": [
    "# Perform Z-test\n",
    "z_score = (sample_data.mean() - pop_mean) / (pop_std / (len(sample_data) ** 0.5))\n",
    "(55.751-60)/(15/np.sqrt(1000))\n",
    "# z_score"
   ]
  },
  {
   "cell_type": "code",
   "execution_count": 98,
   "metadata": {},
   "outputs": [],
   "source": [
    "# Calculate p-value\n",
    "p_value = stats.norm.sf(abs(z_score))"
   ]
  },
  {
   "cell_type": "code",
   "execution_count": 99,
   "metadata": {},
   "outputs": [
    {
     "name": "stdout",
     "output_type": "stream",
     "text": [
      "Reject the null hypothesis. The mean of the sample is significantly different from the population mean.\n"
     ]
    }
   ],
   "source": [
    "# Interpret results\n",
    "if p_value < alpha:\n",
    "    print(\"Reject the null hypothesis. The mean of the sample is significantly different from the population mean.\")\n",
    "else:\n",
    "    print(\"Fail to reject the null hypothesis. There is no significant difference in means.\")"
   ]
  },
  {
   "cell_type": "code",
   "execution_count": null,
   "metadata": {},
   "outputs": [],
   "source": []
  }
 ],
 "metadata": {
  "kernelspec": {
   "display_name": "Python 3",
   "language": "python",
   "name": "python3"
  },
  "language_info": {
   "codemirror_mode": {
    "name": "ipython",
    "version": 3
   },
   "file_extension": ".py",
   "mimetype": "text/x-python",
   "name": "python",
   "nbconvert_exporter": "python",
   "pygments_lexer": "ipython3",
   "version": "3.7.4"
  }
 },
 "nbformat": 4,
 "nbformat_minor": 4
}
