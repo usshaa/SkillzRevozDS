{
 "cells": [
  {
   "cell_type": "markdown",
   "metadata": {},
   "source": [
    "### Step 1: Import Necessary Libraries"
   ]
  },
  {
   "cell_type": "code",
   "execution_count": 69,
   "metadata": {},
   "outputs": [],
   "source": [
    "import numpy as np\n",
    "import pandas as pd\n",
    "import matplotlib.pyplot as plt\n",
    "from scipy import stats\n",
    "import statistics\n",
    "from scipy.stats import gaussian_kde"
   ]
  },
  {
   "cell_type": "code",
   "execution_count": 70,
   "metadata": {},
   "outputs": [],
   "source": [
    "# Sample data\n",
    "data = [12, 15, 18, 28, 22, 25, 28, 30]"
   ]
  },
  {
   "cell_type": "code",
   "execution_count": 54,
   "metadata": {},
   "outputs": [],
   "source": [
    "# Measures of central tendency\n",
    "mean = statistics.mean(data)\n",
    "median = statistics.median(data)\n",
    "mode = statistics.mode(data)"
   ]
  },
  {
   "cell_type": "code",
   "execution_count": 55,
   "metadata": {},
   "outputs": [],
   "source": [
    "# Measures of dispersion\n",
    "variance = statistics.variance(data)\n",
    "standard_deviation = statistics.stdev(data)\n",
    "range_value = max(data) - min(data)"
   ]
  },
  {
   "cell_type": "code",
   "execution_count": null,
   "metadata": {},
   "outputs": [
    {
     "data": {
      "text/plain": [
       "28.0"
      ]
     },
     "execution_count": 67,
     "metadata": {},
     "output_type": "execute_result"
    }
   ],
   "source": [
    "# Interquartile Range (IQR)\n",
    "# Q1 = np.percentile(data, 25)\n",
    "Q1 = np.quantile(data,0.25)\n",
    "# Q3 = np.percentile(data, 75)\n",
    "Q3 = np.quantile(data,0.75)\n",
    "IQR = Q3 - Q1\n",
    "Q3"
   ]
  },
  {
   "cell_type": "code",
   "execution_count": 68,
   "metadata": {},
   "outputs": [
    {
     "name": "stdout",
     "output_type": "stream",
     "text": [
      "Measures of Central Tendency:\n",
      "Mean: 22.25\n",
      "Median: 23.5\n",
      "Mode: 28\n",
      "\n",
      "Measures of Dispersion:\n",
      "Variance: 44.214285714285715\n",
      "Standard Deviation: 6.649382355849731\n",
      "Range: 18\n",
      "\n",
      "Interquartile Range (IQR): 10.75\n"
     ]
    }
   ],
   "source": [
    "# Output\n",
    "print(\"Measures of Central Tendency:\")\n",
    "print(\"Mean:\", mean)\n",
    "print(\"Median:\", median)\n",
    "print(\"Mode:\", mode)\n",
    "print(\"\\nMeasures of Dispersion:\")\n",
    "print(\"Variance:\", variance)\n",
    "print(\"Standard Deviation:\", standard_deviation)\n",
    "print(\"Range:\", range_value)\n",
    "print(\"\\nInterquartile Range (IQR):\", IQR)"
   ]
  },
  {
   "cell_type": "code",
   "execution_count": 76,
   "metadata": {},
   "outputs": [
    {
     "data": {
      "image/png": "[encoded data removed]",
      "text/plain": [
       "<Figure size 576x360 with 1 Axes>"
      ]
     },
     "metadata": {
      "needs_background": "light"
     },
     "output_type": "display_data"
    }
   ],
   "source": [
    "# Create a density estimation function\n",
    "kde = gaussian_kde(data)\n",
    "\n",
    "\n",
    "# Create a range of values for plotting\n",
    "x = np.linspace(min(data), max(data), 1000)\n",
    "\n",
    "# Calculate the density estimate for the range of values\n",
    "density_estimation = kde(x)\n",
    "\n",
    "# Plot the KDE\n",
    "plt.figure(figsize=(8, 5))\n",
    "plt.plot(x, density_estimation, color='blue')\n",
    "plt.fill_between(x, density_estimation, color='skyblue', alpha=0.5)  # Fill area under the curve\n",
    "plt.xlabel('Value')\n",
    "plt.ylabel('Density')\n",
    "plt.title('Kernel Density Estimation (KDE) Plot')\n",
    "# plt.grid(True)\n",
    "plt.show()"
   ]
  },
  {
   "cell_type": "markdown",
   "metadata": {},
   "source": [
    "### Step 2: Load the Sample Data\n",
    "\n",
    "For demonstration purposes, let's create a simple DataFrame with sample data."
   ]
  },
  {
   "cell_type": "code",
   "execution_count": 23,
   "metadata": {},
   "outputs": [
    {
     "data": {
      "text/plain": [
       "{'Category': ['A', 'B', 'A', 'B', 'A'], 'Value': [10, 20, 30, 40, 50]}"
      ]
     },
     "execution_count": 23,
     "metadata": {},
     "output_type": "execute_result"
    }
   ],
   "source": [
    "# Sample data\n",
    "data = {\n",
    "    'Category': ['A', 'B', 'A', 'B', 'A'],\n",
    "    'Value': [10, 20, 30, 40, 50]\n",
    "}\n",
    "data"
   ]
  },
  {
   "cell_type": "code",
   "execution_count": 24,
   "metadata": {},
   "outputs": [
    {
     "data": {
      "text/html": [
       "<div>\n",
       "<style scoped>\n",
       "    .dataframe tbody tr th:only-of-type {\n",
       "        vertical-align: middle;\n",
       "    }\n",
       "\n",
       "    .dataframe tbody tr th {\n",
       "        vertical-align: top;\n",
       "    }\n",
       "\n",
       "    .dataframe thead th {\n",
       "        text-align: right;\n",
       "    }\n",
       "</style>\n",
       "<table border=\"1\" class=\"dataframe\">\n",
       "  <thead>\n",
       "    <tr style=\"text-align: right;\">\n",
       "      <th></th>\n",
       "      <th>Category</th>\n",
       "      <th>Value</th>\n",
       "    </tr>\n",
       "  </thead>\n",
       "  <tbody>\n",
       "    <tr>\n",
       "      <th>0</th>\n",
       "      <td>A</td>\n",
       "      <td>10</td>\n",
       "    </tr>\n",
       "    <tr>\n",
       "      <th>1</th>\n",
       "      <td>B</td>\n",
       "      <td>20</td>\n",
       "    </tr>\n",
       "    <tr>\n",
       "      <th>2</th>\n",
       "      <td>A</td>\n",
       "      <td>30</td>\n",
       "    </tr>\n",
       "    <tr>\n",
       "      <th>3</th>\n",
       "      <td>B</td>\n",
       "      <td>40</td>\n",
       "    </tr>\n",
       "    <tr>\n",
       "      <th>4</th>\n",
       "      <td>A</td>\n",
       "      <td>50</td>\n",
       "    </tr>\n",
       "  </tbody>\n",
       "</table>\n",
       "</div>"
      ],
      "text/plain": [
       "  Category  Value\n",
       "0        A     10\n",
       "1        B     20\n",
       "2        A     30\n",
       "3        B     40\n",
       "4        A     50"
      ]
     },
     "execution_count": 24,
     "metadata": {},
     "output_type": "execute_result"
    }
   ],
   "source": [
    "# Create DataFrame\n",
    "df = pd.DataFrame(data)\n",
    "df"
   ]
  },
  {
   "cell_type": "markdown",
   "metadata": {},
   "source": [
    "### Step 3: Data Aggregation with Pandas\n",
    "\n",
    "Let's aggregate the data by 'Category' and calculate the sum and mean for each category."
   ]
  },
  {
   "cell_type": "code",
   "execution_count": 25,
   "metadata": {},
   "outputs": [
    {
     "data": {
      "text/html": [
       "<div>\n",
       "<style scoped>\n",
       "    .dataframe tbody tr th:only-of-type {\n",
       "        vertical-align: middle;\n",
       "    }\n",
       "\n",
       "    .dataframe tbody tr th {\n",
       "        vertical-align: top;\n",
       "    }\n",
       "\n",
       "    .dataframe thead tr th {\n",
       "        text-align: left;\n",
       "    }\n",
       "\n",
       "    .dataframe thead tr:last-of-type th {\n",
       "        text-align: right;\n",
       "    }\n",
       "</style>\n",
       "<table border=\"1\" class=\"dataframe\">\n",
       "  <thead>\n",
       "    <tr>\n",
       "      <th></th>\n",
       "      <th colspan=\"2\" halign=\"left\">Value</th>\n",
       "    </tr>\n",
       "    <tr>\n",
       "      <th></th>\n",
       "      <th>sum</th>\n",
       "      <th>mean</th>\n",
       "    </tr>\n",
       "    <tr>\n",
       "      <th>Category</th>\n",
       "      <th></th>\n",
       "      <th></th>\n",
       "    </tr>\n",
       "  </thead>\n",
       "  <tbody>\n",
       "    <tr>\n",
       "      <th>A</th>\n",
       "      <td>90</td>\n",
       "      <td>30.0</td>\n",
       "    </tr>\n",
       "    <tr>\n",
       "      <th>B</th>\n",
       "      <td>60</td>\n",
       "      <td>30.0</td>\n",
       "    </tr>\n",
       "  </tbody>\n",
       "</table>\n",
       "</div>"
      ],
      "text/plain": [
       "         Value      \n",
       "           sum  mean\n",
       "Category            \n",
       "A           90  30.0\n",
       "B           60  30.0"
      ]
     },
     "execution_count": 25,
     "metadata": {},
     "output_type": "execute_result"
    }
   ],
   "source": [
    "# Group by 'Category' and calculate sum and mean\n",
    "aggregated_data = df.groupby('Category').agg({'Value': ['sum', 'mean']})\n",
    "aggregated_data "
   ]
  },
  {
   "cell_type": "code",
   "execution_count": 26,
   "metadata": {},
   "outputs": [],
   "source": [
    "# Reset index for better representation\n",
    "aggregated_data.reset_index(inplace=True)"
   ]
  },
  {
   "cell_type": "code",
   "execution_count": 27,
   "metadata": {},
   "outputs": [
    {
     "data": {
      "text/html": [
       "<div>\n",
       "<style scoped>\n",
       "    .dataframe tbody tr th:only-of-type {\n",
       "        vertical-align: middle;\n",
       "    }\n",
       "\n",
       "    .dataframe tbody tr th {\n",
       "        vertical-align: top;\n",
       "    }\n",
       "\n",
       "    .dataframe thead tr th {\n",
       "        text-align: left;\n",
       "    }\n",
       "</style>\n",
       "<table border=\"1\" class=\"dataframe\">\n",
       "  <thead>\n",
       "    <tr>\n",
       "      <th></th>\n",
       "      <th>Category</th>\n",
       "      <th colspan=\"2\" halign=\"left\">Value</th>\n",
       "    </tr>\n",
       "    <tr>\n",
       "      <th></th>\n",
       "      <th></th>\n",
       "      <th>sum</th>\n",
       "      <th>mean</th>\n",
       "    </tr>\n",
       "  </thead>\n",
       "  <tbody>\n",
       "    <tr>\n",
       "      <th>0</th>\n",
       "      <td>A</td>\n",
       "      <td>90</td>\n",
       "      <td>30.0</td>\n",
       "    </tr>\n",
       "    <tr>\n",
       "      <th>1</th>\n",
       "      <td>B</td>\n",
       "      <td>60</td>\n",
       "      <td>30.0</td>\n",
       "    </tr>\n",
       "  </tbody>\n",
       "</table>\n",
       "</div>"
      ],
      "text/plain": [
       "  Category Value      \n",
       "             sum  mean\n",
       "0        A    90  30.0\n",
       "1        B    60  30.0"
      ]
     },
     "execution_count": 27,
     "metadata": {},
     "output_type": "execute_result"
    }
   ],
   "source": [
    "# Display aggregated data\n",
    "aggregated_data"
   ]
  },
  {
   "cell_type": "markdown",
   "metadata": {},
   "source": [
    "### Step 4: Descriptive Statistics with Pandas\n",
    "\n",
    "Let's use the `describe()` function to compute summary statistics for the 'Value' column."
   ]
  },
  {
   "cell_type": "code",
   "execution_count": 28,
   "metadata": {},
   "outputs": [],
   "source": [
    "# Descriptive statistics\n",
    "summary_statistics = df['Value'].describe()"
   ]
  },
  {
   "cell_type": "code",
   "execution_count": 29,
   "metadata": {},
   "outputs": [
    {
     "data": {
      "text/plain": [
       "count     5.000000\n",
       "mean     30.000000\n",
       "std      15.811388\n",
       "min      10.000000\n",
       "25%      20.000000\n",
       "50%      30.000000\n",
       "75%      40.000000\n",
       "max      50.000000\n",
       "Name: Value, dtype: float64"
      ]
     },
     "execution_count": 29,
     "metadata": {},
     "output_type": "execute_result"
    }
   ],
   "source": [
    "# Display summary statistics\n",
    "summary_statistics"
   ]
  },
  {
   "cell_type": "markdown",
   "metadata": {},
   "source": [
    "### Step 5: Descriptive Statistics with stats module\n",
    "\n",
    "Let's use the `describe()` function from the `stats` module to compute additional summary statistics."
   ]
  },
  {
   "cell_type": "code",
   "execution_count": 30,
   "metadata": {},
   "outputs": [],
   "source": [
    "# Additional descriptive statistics using stats module\n",
    "skewness = stats.skew(df['Value'])\n",
    "kurtosis = stats.kurtosis(df['Value'])"
   ]
  },
  {
   "cell_type": "code",
   "execution_count": 31,
   "metadata": {},
   "outputs": [
    {
     "name": "stdout",
     "output_type": "stream",
     "text": [
      "Skewness: 0.0\n",
      "Kurtosis: -1.3\n"
     ]
    }
   ],
   "source": [
    "# Display additional summary statistics\n",
    "print(\"Skewness:\", skewness)\n",
    "print(\"Kurtosis:\", kurtosis)"
   ]
  },
  {
   "cell_type": "markdown",
   "metadata": {},
   "source": [
    "### Step 6: Data Aggregation and Descriptive Statistics with NumPy\n",
    "\n",
    "Let's use NumPy to compute additional summary statistics."
   ]
  },
  {
   "cell_type": "code",
   "execution_count": 32,
   "metadata": {},
   "outputs": [],
   "source": [
    "# Additional descriptive statistics using NumPy\n",
    "median = np.median(df['Value'])\n",
    "variance = np.var(df['Value'])"
   ]
  },
  {
   "cell_type": "code",
   "execution_count": 33,
   "metadata": {},
   "outputs": [
    {
     "name": "stdout",
     "output_type": "stream",
     "text": [
      "Median: 30.0\n",
      "Variance: 200.0\n"
     ]
    }
   ],
   "source": [
    "# Display additional summary statistics\n",
    "print(\"Median:\", median)\n",
    "print(\"Variance:\", variance)"
   ]
  },
  {
   "cell_type": "markdown",
   "metadata": {},
   "source": [
    "### Step 1: Import Necessary Libraries"
   ]
  },
  {
   "cell_type": "code",
   "execution_count": 34,
   "metadata": {},
   "outputs": [],
   "source": [
    "import pandas as pd\n",
    "import numpy as np\n",
    "from scipy import stats"
   ]
  },
  {
   "cell_type": "markdown",
   "metadata": {},
   "source": [
    "### Step 2: Load the Sample Transport Data\n",
    "\n",
    "Let's load the sample transportation data from a CSV file."
   ]
  },
  {
   "cell_type": "code",
   "execution_count": 35,
   "metadata": {},
   "outputs": [],
   "source": [
    "# Load the sample transport data\n",
    "transport_data = pd.read_csv('synthetic_data.csv')"
   ]
  },
  {
   "cell_type": "code",
   "execution_count": 36,
   "metadata": {},
   "outputs": [
    {
     "data": {
      "text/html": [
       "<div>\n",
       "<style scoped>\n",
       "    .dataframe tbody tr th:only-of-type {\n",
       "        vertical-align: middle;\n",
       "    }\n",
       "\n",
       "    .dataframe tbody tr th {\n",
       "        vertical-align: top;\n",
       "    }\n",
       "\n",
       "    .dataframe thead th {\n",
       "        text-align: right;\n",
       "    }\n",
       "</style>\n",
       "<table border=\"1\" class=\"dataframe\">\n",
       "  <thead>\n",
       "    <tr style=\"text-align: right;\">\n",
       "      <th></th>\n",
       "      <th>Date</th>\n",
       "      <th>Time</th>\n",
       "      <th>Stop/Station</th>\n",
       "      <th>Passenger_Count</th>\n",
       "      <th>Vehicle_ID</th>\n",
       "      <th>Latitude</th>\n",
       "      <th>Longitude</th>\n",
       "      <th>Temperature (°C)</th>\n",
       "      <th>Precipitation (mm)</th>\n",
       "      <th>Humidity (%)</th>\n",
       "      <th>Age_Group</th>\n",
       "      <th>Gender</th>\n",
       "      <th>Feedback</th>\n",
       "    </tr>\n",
       "  </thead>\n",
       "  <tbody>\n",
       "    <tr>\n",
       "      <th>0</th>\n",
       "      <td>2023-11-16</td>\n",
       "      <td>12:03</td>\n",
       "      <td>Johor Bahru</td>\n",
       "      <td>46</td>\n",
       "      <td>TRAIN82</td>\n",
       "      <td>3.906935</td>\n",
       "      <td>106.068464</td>\n",
       "      <td>11</td>\n",
       "      <td>3</td>\n",
       "      <td>63</td>\n",
       "      <td>18-24</td>\n",
       "      <td>Male</td>\n",
       "      <td>Driver was friendly</td>\n",
       "    </tr>\n",
       "    <tr>\n",
       "      <th>1</th>\n",
       "      <td>2023-07-14</td>\n",
       "      <td>05:07</td>\n",
       "      <td>Cameron Highlands</td>\n",
       "      <td>17</td>\n",
       "      <td>TRAIN65</td>\n",
       "      <td>4.227106</td>\n",
       "      <td>118.407191</td>\n",
       "      <td>3</td>\n",
       "      <td>3</td>\n",
       "      <td>74</td>\n",
       "      <td>25-40</td>\n",
       "      <td>Female</td>\n",
       "      <td>Seats were uncomfortable</td>\n",
       "    </tr>\n",
       "    <tr>\n",
       "      <th>2</th>\n",
       "      <td>2023-09-22</td>\n",
       "      <td>14:11</td>\n",
       "      <td>Ipoh</td>\n",
       "      <td>91</td>\n",
       "      <td>TRAIN38</td>\n",
       "      <td>6.819556</td>\n",
       "      <td>101.272984</td>\n",
       "      <td>27</td>\n",
       "      <td>1</td>\n",
       "      <td>81</td>\n",
       "      <td>40-60</td>\n",
       "      <td>Male</td>\n",
       "      <td>Delay in departure</td>\n",
       "    </tr>\n",
       "    <tr>\n",
       "      <th>3</th>\n",
       "      <td>2022-07-12</td>\n",
       "      <td>09:11</td>\n",
       "      <td>Penang</td>\n",
       "      <td>41</td>\n",
       "      <td>BUS245</td>\n",
       "      <td>3.627521</td>\n",
       "      <td>106.226990</td>\n",
       "      <td>1</td>\n",
       "      <td>7</td>\n",
       "      <td>98</td>\n",
       "      <td>25-40</td>\n",
       "      <td>Female</td>\n",
       "      <td>Driver was friendly</td>\n",
       "    </tr>\n",
       "    <tr>\n",
       "      <th>4</th>\n",
       "      <td>2023-12-09</td>\n",
       "      <td>16:59</td>\n",
       "      <td>Kuching</td>\n",
       "      <td>53</td>\n",
       "      <td>BUS958</td>\n",
       "      <td>1.418952</td>\n",
       "      <td>117.050925</td>\n",
       "      <td>15</td>\n",
       "      <td>9</td>\n",
       "      <td>71</td>\n",
       "      <td>40-60</td>\n",
       "      <td>Male</td>\n",
       "      <td>Service was excellent</td>\n",
       "    </tr>\n",
       "  </tbody>\n",
       "</table>\n",
       "</div>"
      ],
      "text/plain": [
       "         Date   Time       Stop/Station  Passenger_Count Vehicle_ID  Latitude  \\\n",
       "0  2023-11-16  12:03        Johor Bahru               46    TRAIN82  3.906935   \n",
       "1  2023-07-14  05:07  Cameron Highlands               17    TRAIN65  4.227106   \n",
       "2  2023-09-22  14:11               Ipoh               91    TRAIN38  6.819556   \n",
       "3  2022-07-12  09:11             Penang               41     BUS245  3.627521   \n",
       "4  2023-12-09  16:59            Kuching               53     BUS958  1.418952   \n",
       "\n",
       "    Longitude  Temperature (°C)  Precipitation (mm)  Humidity (%) Age_Group  \\\n",
       "0  106.068464                11                   3            63     18-24   \n",
       "1  118.407191                 3                   3            74     25-40   \n",
       "2  101.272984                27                   1            81     40-60   \n",
       "3  106.226990                 1                   7            98     25-40   \n",
       "4  117.050925                15                   9            71     40-60   \n",
       "\n",
       "   Gender                  Feedback  \n",
       "0    Male       Driver was friendly  \n",
       "1  Female  Seats were uncomfortable  \n",
       "2    Male        Delay in departure  \n",
       "3  Female       Driver was friendly  \n",
       "4    Male     Service was excellent  "
      ]
     },
     "execution_count": 36,
     "metadata": {},
     "output_type": "execute_result"
    }
   ],
   "source": [
    "# Display the first few rows of the dataset\n",
    "transport_data.head()"
   ]
  },
  {
   "cell_type": "markdown",
   "metadata": {},
   "source": [
    "### Step 3: Data Aggregation with Pandas\n",
    "\n",
    "Let's aggregate the data by 'Stop/Station' and calculate the sum and mean of 'Passenger_Count' for each stop/station."
   ]
  },
  {
   "cell_type": "code",
   "execution_count": 37,
   "metadata": {},
   "outputs": [
    {
     "data": {
      "text/html": [
       "<div>\n",
       "<style scoped>\n",
       "    .dataframe tbody tr th:only-of-type {\n",
       "        vertical-align: middle;\n",
       "    }\n",
       "\n",
       "    .dataframe tbody tr th {\n",
       "        vertical-align: top;\n",
       "    }\n",
       "\n",
       "    .dataframe thead tr th {\n",
       "        text-align: left;\n",
       "    }\n",
       "\n",
       "    .dataframe thead tr:last-of-type th {\n",
       "        text-align: right;\n",
       "    }\n",
       "</style>\n",
       "<table border=\"1\" class=\"dataframe\">\n",
       "  <thead>\n",
       "    <tr>\n",
       "      <th></th>\n",
       "      <th colspan=\"2\" halign=\"left\">Passenger_Count</th>\n",
       "    </tr>\n",
       "    <tr>\n",
       "      <th></th>\n",
       "      <th>sum</th>\n",
       "      <th>mean</th>\n",
       "    </tr>\n",
       "    <tr>\n",
       "      <th>Stop/Station</th>\n",
       "      <th></th>\n",
       "      <th></th>\n",
       "    </tr>\n",
       "  </thead>\n",
       "  <tbody>\n",
       "    <tr>\n",
       "      <th>Cameron Highlands</th>\n",
       "      <td>5328</td>\n",
       "      <td>59.865169</td>\n",
       "    </tr>\n",
       "    <tr>\n",
       "      <th>Georgetown</th>\n",
       "      <td>4426</td>\n",
       "      <td>54.641975</td>\n",
       "    </tr>\n",
       "    <tr>\n",
       "      <th>Ipoh</th>\n",
       "      <td>5506</td>\n",
       "      <td>56.183673</td>\n",
       "    </tr>\n",
       "    <tr>\n",
       "      <th>Johor Bahru</th>\n",
       "      <td>4882</td>\n",
       "      <td>53.648352</td>\n",
       "    </tr>\n",
       "    <tr>\n",
       "      <th>Kota Kinabalu</th>\n",
       "      <td>5342</td>\n",
       "      <td>57.440860</td>\n",
       "    </tr>\n",
       "    <tr>\n",
       "      <th>Kuala Lumpur</th>\n",
       "      <td>5218</td>\n",
       "      <td>52.180000</td>\n",
       "    </tr>\n",
       "    <tr>\n",
       "      <th>Kuching</th>\n",
       "      <td>5242</td>\n",
       "      <td>54.041237</td>\n",
       "    </tr>\n",
       "    <tr>\n",
       "      <th>Langkawi</th>\n",
       "      <td>4276</td>\n",
       "      <td>49.720930</td>\n",
       "    </tr>\n",
       "    <tr>\n",
       "      <th>Malacca</th>\n",
       "      <td>5837</td>\n",
       "      <td>60.175258</td>\n",
       "    </tr>\n",
       "    <tr>\n",
       "      <th>Penang</th>\n",
       "      <td>4837</td>\n",
       "      <td>59.716049</td>\n",
       "    </tr>\n",
       "    <tr>\n",
       "      <th>Port Dickson</th>\n",
       "      <td>4857</td>\n",
       "      <td>55.827586</td>\n",
       "    </tr>\n",
       "  </tbody>\n",
       "</table>\n",
       "</div>"
      ],
      "text/plain": [
       "                  Passenger_Count           \n",
       "                              sum       mean\n",
       "Stop/Station                                \n",
       "Cameron Highlands            5328  59.865169\n",
       "Georgetown                   4426  54.641975\n",
       "Ipoh                         5506  56.183673\n",
       "Johor Bahru                  4882  53.648352\n",
       "Kota Kinabalu                5342  57.440860\n",
       "Kuala Lumpur                 5218  52.180000\n",
       "Kuching                      5242  54.041237\n",
       "Langkawi                     4276  49.720930\n",
       "Malacca                      5837  60.175258\n",
       "Penang                       4837  59.716049\n",
       "Port Dickson                 4857  55.827586"
      ]
     },
     "execution_count": 37,
     "metadata": {},
     "output_type": "execute_result"
    }
   ],
   "source": [
    "# Group by 'Stop/Station' and calculate sum and mean of 'Passenger_Count'\n",
    "aggregated_data = transport_data.groupby('Stop/Station').agg({'Passenger_Count': ['sum', 'mean']})\n",
    "aggregated_data"
   ]
  },
  {
   "cell_type": "code",
   "execution_count": 38,
   "metadata": {},
   "outputs": [],
   "source": [
    "# Reset index for better representation\n",
    "aggregated_data.reset_index(inplace=True)"
   ]
  },
  {
   "cell_type": "code",
   "execution_count": 39,
   "metadata": {},
   "outputs": [
    {
     "data": {
      "text/html": [
       "<div>\n",
       "<style scoped>\n",
       "    .dataframe tbody tr th:only-of-type {\n",
       "        vertical-align: middle;\n",
       "    }\n",
       "\n",
       "    .dataframe tbody tr th {\n",
       "        vertical-align: top;\n",
       "    }\n",
       "\n",
       "    .dataframe thead tr th {\n",
       "        text-align: left;\n",
       "    }\n",
       "</style>\n",
       "<table border=\"1\" class=\"dataframe\">\n",
       "  <thead>\n",
       "    <tr>\n",
       "      <th></th>\n",
       "      <th>Stop/Station</th>\n",
       "      <th colspan=\"2\" halign=\"left\">Passenger_Count</th>\n",
       "    </tr>\n",
       "    <tr>\n",
       "      <th></th>\n",
       "      <th></th>\n",
       "      <th>sum</th>\n",
       "      <th>mean</th>\n",
       "    </tr>\n",
       "  </thead>\n",
       "  <tbody>\n",
       "    <tr>\n",
       "      <th>0</th>\n",
       "      <td>Cameron Highlands</td>\n",
       "      <td>5328</td>\n",
       "      <td>59.865169</td>\n",
       "    </tr>\n",
       "    <tr>\n",
       "      <th>1</th>\n",
       "      <td>Georgetown</td>\n",
       "      <td>4426</td>\n",
       "      <td>54.641975</td>\n",
       "    </tr>\n",
       "    <tr>\n",
       "      <th>2</th>\n",
       "      <td>Ipoh</td>\n",
       "      <td>5506</td>\n",
       "      <td>56.183673</td>\n",
       "    </tr>\n",
       "    <tr>\n",
       "      <th>3</th>\n",
       "      <td>Johor Bahru</td>\n",
       "      <td>4882</td>\n",
       "      <td>53.648352</td>\n",
       "    </tr>\n",
       "    <tr>\n",
       "      <th>4</th>\n",
       "      <td>Kota Kinabalu</td>\n",
       "      <td>5342</td>\n",
       "      <td>57.440860</td>\n",
       "    </tr>\n",
       "    <tr>\n",
       "      <th>5</th>\n",
       "      <td>Kuala Lumpur</td>\n",
       "      <td>5218</td>\n",
       "      <td>52.180000</td>\n",
       "    </tr>\n",
       "    <tr>\n",
       "      <th>6</th>\n",
       "      <td>Kuching</td>\n",
       "      <td>5242</td>\n",
       "      <td>54.041237</td>\n",
       "    </tr>\n",
       "    <tr>\n",
       "      <th>7</th>\n",
       "      <td>Langkawi</td>\n",
       "      <td>4276</td>\n",
       "      <td>49.720930</td>\n",
       "    </tr>\n",
       "    <tr>\n",
       "      <th>8</th>\n",
       "      <td>Malacca</td>\n",
       "      <td>5837</td>\n",
       "      <td>60.175258</td>\n",
       "    </tr>\n",
       "    <tr>\n",
       "      <th>9</th>\n",
       "      <td>Penang</td>\n",
       "      <td>4837</td>\n",
       "      <td>59.716049</td>\n",
       "    </tr>\n",
       "    <tr>\n",
       "      <th>10</th>\n",
       "      <td>Port Dickson</td>\n",
       "      <td>4857</td>\n",
       "      <td>55.827586</td>\n",
       "    </tr>\n",
       "  </tbody>\n",
       "</table>\n",
       "</div>"
      ],
      "text/plain": [
       "         Stop/Station Passenger_Count           \n",
       "                                  sum       mean\n",
       "0   Cameron Highlands            5328  59.865169\n",
       "1          Georgetown            4426  54.641975\n",
       "2                Ipoh            5506  56.183673\n",
       "3         Johor Bahru            4882  53.648352\n",
       "4       Kota Kinabalu            5342  57.440860\n",
       "5        Kuala Lumpur            5218  52.180000\n",
       "6             Kuching            5242  54.041237\n",
       "7            Langkawi            4276  49.720930\n",
       "8             Malacca            5837  60.175258\n",
       "9              Penang            4837  59.716049\n",
       "10       Port Dickson            4857  55.827586"
      ]
     },
     "execution_count": 39,
     "metadata": {},
     "output_type": "execute_result"
    }
   ],
   "source": [
    "# Display aggregated data\n",
    "aggregated_data"
   ]
  },
  {
   "cell_type": "markdown",
   "metadata": {},
   "source": [
    "### Step 4: Descriptive Statistics with Pandas\n",
    "\n",
    "Let's use the `describe()` function to compute summary statistics for the 'Passenger_Count' column."
   ]
  },
  {
   "cell_type": "code",
   "execution_count": 40,
   "metadata": {},
   "outputs": [],
   "source": [
    "# Descriptive statistics for 'Passenger_Count'\n",
    "passenger_count_stats = transport_data['Passenger_Count'].describe()"
   ]
  },
  {
   "cell_type": "code",
   "execution_count": 41,
   "metadata": {},
   "outputs": [
    {
     "data": {
      "text/plain": [
       "count    1000.000000\n",
       "mean       55.751000\n",
       "std        25.775519\n",
       "min        10.000000\n",
       "25%        34.000000\n",
       "50%        56.000000\n",
       "75%        77.000000\n",
       "max        99.000000\n",
       "Name: Passenger_Count, dtype: float64"
      ]
     },
     "execution_count": 41,
     "metadata": {},
     "output_type": "execute_result"
    }
   ],
   "source": [
    "# Display summary statistics\n",
    "passenger_count_stats"
   ]
  },
  {
   "cell_type": "markdown",
   "metadata": {},
   "source": [
    "### Step 5: Descriptive Statistics with stats module\n",
    "\n",
    "Let's use the `describe()` function from the `stats` module to compute additional summary statistics."
   ]
  },
  {
   "cell_type": "code",
   "execution_count": 42,
   "metadata": {},
   "outputs": [],
   "source": [
    "# Additional descriptive statistics using stats module\n",
    "skewness = stats.skew(transport_data['Passenger_Count'])\n",
    "kurtosis = stats.kurtosis(transport_data['Passenger_Count'])"
   ]
  },
  {
   "cell_type": "code",
   "execution_count": 43,
   "metadata": {},
   "outputs": [
    {
     "name": "stdout",
     "output_type": "stream",
     "text": [
      "Skewness: -0.057070966822577326\n",
      "Kurtosis: -1.121943886983903\n"
     ]
    }
   ],
   "source": [
    "# Display additional summary statistics\n",
    "print(\"Skewness:\", skewness)\n",
    "print(\"Kurtosis:\", kurtosis)"
   ]
  },
  {
   "cell_type": "markdown",
   "metadata": {},
   "source": [
    "### Step 6: Data Aggregation and Descriptive Statistics with NumPy\n",
    "\n",
    "Let's use NumPy to compute additional summary statistics."
   ]
  },
  {
   "cell_type": "code",
   "execution_count": 44,
   "metadata": {},
   "outputs": [],
   "source": [
    "# Additional descriptive statistics using NumPy\n",
    "median = np.median(transport_data['Passenger_Count'])\n",
    "variance = np.var(transport_data['Passenger_Count'])"
   ]
  },
  {
   "cell_type": "code",
   "execution_count": 45,
   "metadata": {},
   "outputs": [
    {
     "name": "stdout",
     "output_type": "stream",
     "text": [
      "Median: 56.0\n",
      "Variance: 663.712999\n"
     ]
    }
   ],
   "source": [
    "# Display additional summary statistics\n",
    "print(\"Median:\", median)\n",
    "print(\"Variance:\", variance)"
   ]
  },
  {
   "cell_type": "code",
   "execution_count": 46,
   "metadata": {},
   "outputs": [
    {
     "data": {
      "image/png": "[encoded data removed]",
      "text/plain": [
       "<Figure size 720x432 with 1 Axes>"
      ]
     },
     "metadata": {
      "needs_background": "light"
     },
     "output_type": "display_data"
    }
   ],
   "source": [
    "import pandas as pd\n",
    "import matplotlib.pyplot as plt\n",
    "\n",
    "\n",
    "# Visualization 1: Histogram of Passenger Counts\n",
    "plt.figure(figsize=(10, 6))\n",
    "plt.hist(transport_data['Passenger_Count'], bins=20, color='skyblue', edgecolor='black')\n",
    "plt.xlabel('Passenger Count')\n",
    "plt.ylabel('Frequency')\n",
    "plt.title('Histogram of Passenger Counts')\n",
    "plt.show()"
   ]
  },
  {
   "cell_type": "code",
   "execution_count": 47,
   "metadata": {},
   "outputs": [
    {
     "data": {
      "image/png": "[encoded data removed]",
      "text/plain": [
       "<Figure size 720x432 with 1 Axes>"
      ]
     },
     "metadata": {
      "needs_background": "light"
     },
     "output_type": "display_data"
    }
   ],
   "source": [
    "# Visualization 2: Bar Plot of Passenger Counts by Age Group\n",
    "plt.figure(figsize=(10, 6))\n",
    "transport_data.groupby('Age_Group')['Passenger_Count'].sum().plot(kind='bar', color='lightgreen')\n",
    "plt.xlabel('Age Group')\n",
    "plt.ylabel('Total Passenger Count')\n",
    "plt.title('Total Passenger Count by Age Group')\n",
    "plt.xticks(rotation=45)\n",
    "plt.show()"
   ]
  },
  {
   "cell_type": "code",
   "execution_count": 48,
   "metadata": {},
   "outputs": [
    {
     "data": {
      "image/png": "[encoded data removed]",
      "text/plain": [
       "<Figure size 720x432 with 1 Axes>"
      ]
     },
     "metadata": {
      "needs_background": "light"
     },
     "output_type": "display_data"
    }
   ],
   "source": [
    "# Visualization 3: Scatter Plot of Passenger Counts vs. Temperature\n",
    "plt.figure(figsize=(10, 6))\n",
    "plt.scatter(transport_data['Temperature (°C)'], transport_data['Passenger_Count'], color='orange')\n",
    "plt.xlabel('Temperature (°C)')\n",
    "plt.ylabel('Passenger Count')\n",
    "plt.title('Passenger Count vs. Temperature')\n",
    "plt.show()"
   ]
  },
  {
   "cell_type": "code",
   "execution_count": 49,
   "metadata": {},
   "outputs": [
    {
     "data": {
      "text/plain": [
       "<Figure size 720x432 with 0 Axes>"
      ]
     },
     "metadata": {},
     "output_type": "display_data"
    },
    {
     "data": {
      "image/png": "[encoded data removed]",
      "text/plain": [
       "<Figure size 432x288 with 1 Axes>"
      ]
     },
     "metadata": {
      "needs_background": "light"
     },
     "output_type": "display_data"
    }
   ],
   "source": [
    "# Visualization 4: Box Plot of Passenger Counts by Gender\n",
    "plt.figure(figsize=(10, 6))\n",
    "transport_data.boxplot(column='Passenger_Count', by='Gender')\n",
    "plt.xlabel('Gender')\n",
    "plt.ylabel('Passenger Count')\n",
    "plt.title('Passenger Count by Gender')\n",
    "plt.xticks([1, 2], ['Female', 'Male'])\n",
    "plt.tight_layout()\n",
    "plt.show()"
   ]
  },
  {
   "cell_type": "markdown",
   "metadata": {},
   "source": [
    "### Pandas Where Function\n",
    "Suppose we have a DataFrame with 'Name', 'Age', and 'Gender' columns, and we want to create a new column called 'Status', where the status is 'Adult' if the person's age is greater than or equal to 18, and 'Minor' otherwise. We can use the `where` function to achieve this."
   ]
  },
  {
   "cell_type": "code",
   "execution_count": 50,
   "metadata": {},
   "outputs": [],
   "source": [
    "import pandas as pd\n",
    "\n",
    "# Sample data\n",
    "data = {\n",
    "    'Name': ['Alice', 'Bob', 'Charlie', 'David'],\n",
    "    'Age': [25, 17, 32, 15],\n",
    "    'Gender': ['Female', 'Male', 'Male', 'Male']\n",
    "}\n",
    "df = pd.DataFrame(data)"
   ]
  },
  {
   "cell_type": "markdown",
   "metadata": {},
   "source": [
    "In this example:\n",
    "- We use the `where` function to check if the age is greater than or equal to 18 (`df['Age'] >= 18`).\n",
    "- If the condition is true, the original age value is kept.\n",
    "- If the condition is false, the value 'Minor' is used as the replacement (`other='Minor'`).\n",
    "- The result is stored in a new column called 'Status'.\n",
    "\n",
    "As a result, we get a DataFrame with the 'Status' column indicating whether each person is an adult or a minor based on their age."
   ]
  },
  {
   "cell_type": "code",
   "execution_count": 51,
   "metadata": {},
   "outputs": [
    {
     "name": "stdout",
     "output_type": "stream",
     "text": [
      "      Name  Age  Gender Status\n",
      "0    Alice   25  Female     25\n",
      "1      Bob   17    Male  Minor\n",
      "2  Charlie   32    Male     32\n",
      "3    David   15    Male  Minor\n"
     ]
    }
   ],
   "source": [
    "# Use where function to create the 'Status' column\n",
    "df['Status'] = df['Age'].where(df['Age'] >= 18, other='Minor')\n",
    "\n",
    "print(df)"
   ]
  }
 ],
 "metadata": {
  "kernelspec": {
   "display_name": "Python 3 (ipykernel)",
   "language": "python",
   "name": "python3"
  },
  "language_info": {
   "codemirror_mode": {
    "name": "ipython",
    "version": 3
   },
   "file_extension": ".py",
   "mimetype": "text/x-python",
   "name": "python",
   "nbconvert_exporter": "python",
   "pygments_lexer": "ipython3",
   "version": "3.11.5"
  }
 },
 "nbformat": 4,
 "nbformat_minor": 4
}
