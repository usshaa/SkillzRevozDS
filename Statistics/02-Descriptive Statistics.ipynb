{
 "cells": [
  {
   "cell_type": "markdown",
   "metadata": {},
   "source": [
    "### Generating the CSV File\n",
    "\n",
    "You can create the CSV file by writing the following data to a file named `data.csv`."
   ]
  },
  {
   "cell_type": "code",
   "execution_count": 1,
   "metadata": {},
   "outputs": [],
   "source": [
    "import pandas as pd\n",
    "\n",
    "# Creating a DataFrame\n",
    "data = {\n",
    "    'category': ['A', 'A', 'A', 'B', 'B', 'B', 'C', 'C', 'C', 'C'],\n",
    "    'value1': [10, 15, 14, 10, 11, 12, 14, 16, 20, 23],\n",
    "    'value2': [100, 150, 140, 110, 115, 120, 130, 135, 160, 180]\n",
    "}\n",
    "\n",
    "df = pd.DataFrame(data)\n",
    "\n",
    "# Saving to CSV\n",
    "df.to_csv('data.csv', index=False)"
   ]
  },
  {
   "cell_type": "markdown",
   "metadata": {},
   "source": [
    "### Step-by-Step Data Aggregation and Descriptive Statistics in Python\n",
    "\n",
    "Data aggregation and descriptive statistics are crucial parts of exploratory data analysis (EDA). Here’s a step-by-step guide to performing these tasks using Python."
   ]
  },
  {
   "cell_type": "markdown",
   "metadata": {},
   "source": [
    "#### Step 1: Load the Necessary Libraries\n",
    "\n",
    "First, import the libraries you'll need. Typically, `pandas` and `numpy` are the go-to libraries for data manipulation and analysis."
   ]
  },
  {
   "cell_type": "code",
   "execution_count": 2,
   "metadata": {},
   "outputs": [],
   "source": [
    "import pandas as pd\n",
    "import numpy as np"
   ]
  },
  {
   "cell_type": "markdown",
   "metadata": {},
   "source": [
    "#### Step 2: Load the Dataset\n",
    "\n",
    "Load your dataset into a pandas DataFrame. For this example, let's assume you have a CSV file named `data.csv`."
   ]
  },
  {
   "cell_type": "code",
   "execution_count": 3,
   "metadata": {},
   "outputs": [],
   "source": [
    "df = pd.read_csv('data.csv')"
   ]
  },
  {
   "cell_type": "markdown",
   "metadata": {},
   "source": [
    "#### Step 3: Explore the Dataset\n",
    "\n",
    "Before aggregation and statistics, get a basic understanding of your data."
   ]
  },
  {
   "cell_type": "code",
   "execution_count": 4,
   "metadata": {},
   "outputs": [
    {
     "name": "stdout",
     "output_type": "stream",
     "text": [
      "  category  value1  value2\n",
      "0        A      10     100\n",
      "1        A      15     150\n",
      "2        A      14     140\n",
      "3        B      10     110\n",
      "4        B      11     115\n"
     ]
    }
   ],
   "source": [
    "# Display the first few rows of the dataset\n",
    "print(df.head())"
   ]
  },
  {
   "cell_type": "code",
   "execution_count": 5,
   "metadata": {},
   "outputs": [
    {
     "name": "stdout",
     "output_type": "stream",
     "text": [
      "<class 'pandas.core.frame.DataFrame'>\n",
      "RangeIndex: 10 entries, 0 to 9\n",
      "Data columns (total 3 columns):\n",
      " #   Column    Non-Null Count  Dtype \n",
      "---  ------    --------------  ----- \n",
      " 0   category  10 non-null     object\n",
      " 1   value1    10 non-null     int64 \n",
      " 2   value2    10 non-null     int64 \n",
      "dtypes: int64(2), object(1)\n",
      "memory usage: 368.0+ bytes\n",
      "None\n"
     ]
    }
   ],
   "source": [
    "# Display the basic information about the dataset\n",
    "print(df.info())"
   ]
  },
  {
   "cell_type": "code",
   "execution_count": 16,
   "metadata": {},
   "outputs": [
    {
     "name": "stdout",
     "output_type": "stream",
     "text": [
      "          value1      value2\n",
      "count  10.000000   10.000000\n",
      "mean   14.500000  134.000000\n",
      "std     4.275252   24.472206\n",
      "min    10.000000  100.000000\n",
      "25%    11.250000  116.250000\n",
      "50%    14.000000  132.500000\n",
      "75%    15.750000  147.500000\n",
      "max    23.000000  180.000000\n"
     ]
    }
   ],
   "source": [
    "# Display summary statistics for numerical columns\n",
    "print(df.describe(include=[np.number]))"
   ]
  },
  {
   "cell_type": "markdown",
   "metadata": {},
   "source": [
    "#### Step 4: Data Aggregation\n",
    "\n",
    "Data aggregation involves summarizing data, often using group by operations. Let's group data by a categorical variable and compute aggregate statistics.\n",
    "\n",
    "For example, if you have a dataset with columns `category`, `value1`, and `value2`, and you want to compute the mean and sum of `value1` and `value2` for each category:"
   ]
  },
  {
   "cell_type": "code",
   "execution_count": 17,
   "metadata": {},
   "outputs": [],
   "source": [
    "# Group by 'category' and calculate mean and sum for 'value1' and 'value2'\n",
    "aggregated_data = df.groupby('category').agg({\n",
    "    'value1': ['mean', 'sum','min'],\n",
    "    'value2': ['mean', 'sum']\n",
    "})"
   ]
  },
  {
   "cell_type": "code",
   "execution_count": 18,
   "metadata": {},
   "outputs": [
    {
     "name": "stdout",
     "output_type": "stream",
     "text": [
      "         value1          value2     \n",
      "           mean sum min    mean  sum\n",
      "category                            \n",
      "A         13.00  39  10  130.00  390\n",
      "B         11.00  33  10  115.00  345\n",
      "C         18.25  73  14  151.25  605\n"
     ]
    }
   ],
   "source": [
    "print(aggregated_data)"
   ]
  },
  {
   "cell_type": "markdown",
   "metadata": {},
   "source": [
    "#### Step 5: Descriptive Statistics\n",
    "\n",
    "Descriptive statistics summarize the central tendency, dispersion, and shape of a dataset’s distribution. Use pandas to compute these statistics."
   ]
  },
  {
   "cell_type": "markdown",
   "metadata": {},
   "source": [
    "##### Mean, Median, and Mode"
   ]
  },
  {
   "cell_type": "code",
   "execution_count": 19,
   "metadata": {},
   "outputs": [
    {
     "name": "stdout",
     "output_type": "stream",
     "text": [
      "Mean of value1: 14.5\n"
     ]
    }
   ],
   "source": [
    "# Mean\n",
    "mean_value1 = df['value1'].mean()\n",
    "print(f'Mean of value1: {mean_value1}')"
   ]
  },
  {
   "cell_type": "code",
   "execution_count": 20,
   "metadata": {},
   "outputs": [
    {
     "name": "stdout",
     "output_type": "stream",
     "text": [
      "Median of value1: 14.0\n"
     ]
    }
   ],
   "source": [
    "# Median\n",
    "median_value1 = df['value1'].median()\n",
    "print(f'Median of value1: {median_value1}')"
   ]
  },
  {
   "cell_type": "code",
   "execution_count": 21,
   "metadata": {},
   "outputs": [
    {
     "name": "stdout",
     "output_type": "stream",
     "text": [
      "Mode of value1: 10\n"
     ]
    }
   ],
   "source": [
    "# Mode\n",
    "mode_value1 = df['value1'].mode()[0]\n",
    "print(f'Mode of value1: {mode_value1}')"
   ]
  },
  {
   "cell_type": "markdown",
   "metadata": {},
   "source": [
    "##### Standard Deviation and Variance"
   ]
  },
  {
   "cell_type": "code",
   "execution_count": 22,
   "metadata": {},
   "outputs": [
    {
     "name": "stdout",
     "output_type": "stream",
     "text": [
      "Standard Deviation of value1: 4.27525177946022\n"
     ]
    }
   ],
   "source": [
    "# Standard Deviation\n",
    "std_value1 = df['value1'].std()\n",
    "print(f'Standard Deviation of value1: {std_value1}')"
   ]
  },
  {
   "cell_type": "code",
   "execution_count": 23,
   "metadata": {},
   "outputs": [
    {
     "name": "stdout",
     "output_type": "stream",
     "text": [
      "Variance of value1: 18.27777777777778\n"
     ]
    }
   ],
   "source": [
    "# Variance\n",
    "var_value1 = df['value1'].var()\n",
    "print(f'Variance of value1: {var_value1}')"
   ]
  },
  {
   "cell_type": "markdown",
   "metadata": {},
   "source": [
    "##### Min, Max, and Range"
   ]
  },
  {
   "cell_type": "code",
   "execution_count": 24,
   "metadata": {},
   "outputs": [
    {
     "name": "stdout",
     "output_type": "stream",
     "text": [
      "Minimum of value1: 10\n"
     ]
    }
   ],
   "source": [
    "# Minimum\n",
    "min_value1 = df['value1'].min()\n",
    "print(f'Minimum of value1: {min_value1}')"
   ]
  },
  {
   "cell_type": "code",
   "execution_count": 25,
   "metadata": {},
   "outputs": [
    {
     "name": "stdout",
     "output_type": "stream",
     "text": [
      "Maximum of value1: 23\n"
     ]
    }
   ],
   "source": [
    "# Maximum\n",
    "max_value1 = df['value1'].max()\n",
    "print(f'Maximum of value1: {max_value1}')"
   ]
  },
  {
   "cell_type": "code",
   "execution_count": 26,
   "metadata": {},
   "outputs": [
    {
     "name": "stdout",
     "output_type": "stream",
     "text": [
      "Range of value1: 13\n"
     ]
    }
   ],
   "source": [
    "# Range\n",
    "range_value1 = max_value1 - min_value1\n",
    "print(f'Range of value1: {range_value1}')"
   ]
  },
  {
   "cell_type": "markdown",
   "metadata": {},
   "source": [
    "##### Percentiles"
   ]
  },
  {
   "cell_type": "code",
   "execution_count": 28,
   "metadata": {},
   "outputs": [
    {
     "name": "stdout",
     "output_type": "stream",
     "text": [
      "Percentiles of value1:\n",
      "0.25    11.25\n",
      "0.50    14.00\n",
      "0.75    15.75\n",
      "Name: value1, dtype: float64\n"
     ]
    }
   ],
   "source": [
    "# 25th, 50th, and 75th percentiles\n",
    "percentiles_value1 = df['value1'].quantile([0.25, 0.5, 0.75])\n",
    "print(f'Percentiles of value1:\\n{percentiles_value1}')"
   ]
  },
  {
   "cell_type": "markdown",
   "metadata": {},
   "source": [
    "#### Step 6: Correlation and Covariance\n",
    "\n",
    "Assess the relationships between variables using correlation and covariance."
   ]
  },
  {
   "cell_type": "code",
   "execution_count": 30,
   "metadata": {},
   "outputs": [
    {
     "name": "stdout",
     "output_type": "stream",
     "text": [
      "Covariance matrix:\n",
      "            value1      value2\n",
      "value1   18.277778  100.555556\n",
      "value2  100.555556  598.888889\n"
     ]
    }
   ],
   "source": [
    "# Covariance matrix\n",
    "covariance_matrix = df.cov()\n",
    "print(f'Covariance matrix:\\n{covariance_matrix}')"
   ]
  },
  {
   "cell_type": "markdown",
   "metadata": {},
   "source": [
    "#### Step 7: Visualization (Optional but Recommended)\n",
    "\n",
    "Visualizations can help understand data distributions and relationships. Use libraries like `matplotlib` and `seaborn`."
   ]
  },
  {
   "cell_type": "code",
   "execution_count": 31,
   "metadata": {},
   "outputs": [],
   "source": [
    "import matplotlib.pyplot as plt\n",
    "import seaborn as sns"
   ]
  },
  {
   "cell_type": "code",
   "execution_count": 21,
   "metadata": {},
   "outputs": [
    {
     "data": {
      "image/png": "[encoded data removed]",
      "text/plain": [
       "<Figure size 432x288 with 1 Axes>"
      ]
     },
     "metadata": {
      "needs_background": "light"
     },
     "output_type": "display_data"
    }
   ],
   "source": [
    "# Histogram\n",
    "sns.histplot(df['value1'], kde=True)\n",
    "plt.title('Distribution of Value1')\n",
    "plt.show()"
   ]
  },
  {
   "cell_type": "code",
   "execution_count": 22,
   "metadata": {},
   "outputs": [
    {
     "data": {
      "image/png": "[encoded data removed]",
      "text/plain": [
       "<Figure size 432x288 with 1 Axes>"
      ]
     },
     "metadata": {
      "needs_background": "light"
     },
     "output_type": "display_data"
    }
   ],
   "source": [
    "# Boxplot\n",
    "sns.boxplot(x='category', y='value1', data=df)\n",
    "plt.title('Boxplot of Value1 by Category')\n",
    "plt.show()"
   ]
  },
  {
   "cell_type": "code",
   "execution_count": 29,
   "metadata": {},
   "outputs": [
    {
     "name": "stdout",
     "output_type": "stream",
     "text": [
      "Correlation matrix:\n",
      "          value1    value2\n",
      "value1  1.000000  0.961106\n",
      "value2  0.961106  1.000000\n"
     ]
    }
   ],
   "source": [
    "# Correlation matrix\n",
    "correlation_matrix = df.corr()\n",
    "print(f'Correlation matrix:\\n{correlation_matrix}')"
   ]
  },
  {
   "cell_type": "code",
   "execution_count": 33,
   "metadata": {},
   "outputs": [
    {
     "data": {
      "image/png": "[encoded data removed]",
      "text/plain": [
       "<Figure size 432x288 with 2 Axes>"
      ]
     },
     "metadata": {
      "needs_background": "light"
     },
     "output_type": "display_data"
    }
   ],
   "source": [
    "# Heatmap for correlation matrix\n",
    "sns.heatmap(correlation_matrix, annot=True, cmap='coolwarm')\n",
    "plt.title('Correlation Matrix Heatmap')\n",
    "plt.show()"
   ]
  },
  {
   "cell_type": "code",
   "execution_count": null,
   "metadata": {},
   "outputs": [],
   "source": []
  }
 ],
 "metadata": {
  "kernelspec": {
   "display_name": "Python 3",
   "language": "python",
   "name": "python3"
  },
  "language_info": {
   "codemirror_mode": {
    "name": "ipython",
    "version": 3
   },
   "file_extension": ".py",
   "mimetype": "text/x-python",
   "name": "python",
   "nbconvert_exporter": "python",
   "pygments_lexer": "ipython3",
   "version": "3.7.4"
  }
 },
 "nbformat": 4,
 "nbformat_minor": 4
}
