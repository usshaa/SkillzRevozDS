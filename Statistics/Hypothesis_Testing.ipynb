{
  "nbformat": 4,
  "nbformat_minor": 0,
  "metadata": {
    "colab": {
      "provenance": []
    },
    "kernelspec": {
      "name": "python3",
      "display_name": "Python 3"
    },
    "language_info": {
      "name": "python"
    }
  },
  "cells": [
    {
      "cell_type": "markdown",
      "source": [
        "### 📘 Hypothesis Testing in Python – A Complete Walkthrough\n",
        "\n",
        "## 1. What is Hypothesis Testing?\n",
        "\n",
        "In statistics, **hypothesis testing** is a method to make inferences about a population based on sample data.\n",
        "\n",
        "* **Null Hypothesis (H₀):** Assumes no effect or no difference.\n",
        "* **Alternative Hypothesis (H₁ or Ha):** What you want to prove — assumes a significant effect or difference.\n",
        "\n",
        "### Steps in Hypothesis Testing:\n",
        "\n",
        "1. Define H₀ and H₁.\n",
        "2. Choose a significance level (α, typically 0.05).\n",
        "3. Select an appropriate test (t-test, chi-square, etc.).\n",
        "4. Calculate the test statistic and p-value.\n",
        "5. Compare the p-value with α.\n",
        "6. Conclude (Reject or Fail to Reject H₀).\n",
        "\n",
        "---\n",
        "\n",
        "## 2. Types of Hypothesis Tests\n",
        "\n",
        "| Test                  | When to Use                                      |\n",
        "| --------------------- | ------------------------------------------------ |\n",
        "| **One-sample t-test** | Compare sample mean to a known value             |\n",
        "| **Two-sample t-test** | Compare means of two independent groups          |\n",
        "| **Paired t-test**     | Compare means of same group at two times         |\n",
        "| **Chi-square test**   | Test relationships between categorical variables |\n",
        "| **ANOVA**             | Compare means of more than two groups            |\n",
        "\n",
        "---\n",
        "\n",
        "## 3. Example 1 – One Sample t-test\n",
        "\n",
        "Let’s test if the average height of students is significantly different from 170 cm."
      ],
      "metadata": {
        "id": "cPfw5s9-AQ3t"
      }
    },
    {
      "cell_type": "code",
      "execution_count": 1,
      "metadata": {
        "id": "R1y6giLE_3xT"
      },
      "outputs": [],
      "source": [
        "import numpy as np\n",
        "from scipy import stats"
      ]
    },
    {
      "cell_type": "code",
      "source": [
        "# Sample height data (in cm)\n",
        "heights = [168, 170, 172, 171, 169, 167, 173, 175, 174, 166]"
      ],
      "metadata": {
        "id": "jjKDJcIjAi78"
      },
      "execution_count": 2,
      "outputs": []
    },
    {
      "cell_type": "code",
      "source": [
        "# H₀: μ = 170\n",
        "# H₁: μ ≠ 170"
      ],
      "metadata": {
        "id": "f6sY7WDGAkzX"
      },
      "execution_count": 3,
      "outputs": []
    },
    {
      "cell_type": "code",
      "source": [
        "# One sample t-test\n",
        "t_stat, p_val = stats.ttest_1samp(heights, 170)"
      ],
      "metadata": {
        "id": "GsGMoGZKAmpa"
      },
      "execution_count": 4,
      "outputs": []
    },
    {
      "cell_type": "code",
      "source": [
        "print(\"t-statistic:\", round(t_stat, 3))\n",
        "print(\"p-value:\", round(p_val, 3))"
      ],
      "metadata": {
        "colab": {
          "base_uri": "https://localhost:8080/"
        },
        "id": "G0aafJ7xAoCG",
        "outputId": "6b7f323d-f1e7-4827-f06a-e56b2a5023f6"
      },
      "execution_count": 5,
      "outputs": [
        {
          "output_type": "stream",
          "name": "stdout",
          "text": [
            "t-statistic: 0.522\n",
            "p-value: 0.614\n"
          ]
        }
      ]
    },
    {
      "cell_type": "code",
      "source": [
        "alpha = 0.05\n",
        "if p_val < alpha:\n",
        "    print(\"Reject the null hypothesis – the mean height is significantly different from 170 cm.\")\n",
        "else:\n",
        "    print(\"Fail to reject the null – no significant difference.\")"
      ],
      "metadata": {
        "colab": {
          "base_uri": "https://localhost:8080/"
        },
        "id": "1zd4avL3ApV4",
        "outputId": "42a3e7d4-b7a9-47ef-a4d7-72ea955e61db"
      },
      "execution_count": 6,
      "outputs": [
        {
          "output_type": "stream",
          "name": "stdout",
          "text": [
            "Fail to reject the null – no significant difference.\n"
          ]
        }
      ]
    },
    {
      "cell_type": "markdown",
      "source": [
        "## 4. Example 2 – Two Sample t-test\n",
        "\n",
        "Let's test if the average scores of students in two classes differ."
      ],
      "metadata": {
        "id": "JNYPpUsZAu64"
      }
    },
    {
      "cell_type": "code",
      "source": [
        "# Class A and Class B test scores\n",
        "class_A = [85, 87, 86, 88, 84, 85, 89, 90]\n",
        "class_B = [80, 82, 81, 83, 79, 78, 82, 81]"
      ],
      "metadata": {
        "id": "KC51_B2BArgK"
      },
      "execution_count": 7,
      "outputs": []
    },
    {
      "cell_type": "code",
      "source": [
        "# H₀: μA = μB\n",
        "# H₁: μA ≠ μB"
      ],
      "metadata": {
        "id": "CZ-H3KZ0AzSh"
      },
      "execution_count": 8,
      "outputs": []
    },
    {
      "cell_type": "code",
      "source": [
        "t_stat, p_val = stats.ttest_ind(class_A, class_B)"
      ],
      "metadata": {
        "id": "4BXe4dGTA0yK"
      },
      "execution_count": 9,
      "outputs": []
    },
    {
      "cell_type": "code",
      "source": [
        "print(\"t-statistic:\", round(t_stat, 3))\n",
        "print(\"p-value:\", round(p_val, 3))"
      ],
      "metadata": {
        "colab": {
          "base_uri": "https://localhost:8080/"
        },
        "id": "cGLWgN6RA2BA",
        "outputId": "c2381b7a-dbec-4e0d-961d-63fec5d973ea"
      },
      "execution_count": 10,
      "outputs": [
        {
          "output_type": "stream",
          "name": "stdout",
          "text": [
            "t-statistic: 6.287\n",
            "p-value: 0.0\n"
          ]
        }
      ]
    },
    {
      "cell_type": "code",
      "source": [
        "if p_val < alpha:\n",
        "    print(\"Reject the null hypothesis – the two classes have significantly different average scores.\")\n",
        "else:\n",
        "    print(\"Fail to reject the null – no significant difference in average scores.\")"
      ],
      "metadata": {
        "colab": {
          "base_uri": "https://localhost:8080/"
        },
        "id": "xKJyqZs6A3OH",
        "outputId": "b6e3f4fa-d43a-4217-cfaf-2f995bdfdfb2"
      },
      "execution_count": 11,
      "outputs": [
        {
          "output_type": "stream",
          "name": "stdout",
          "text": [
            "Reject the null hypothesis – the two classes have significantly different average scores.\n"
          ]
        }
      ]
    },
    {
      "cell_type": "markdown",
      "source": [
        "## 5. Example 3 – Paired t-test\n",
        "\n",
        "Before and after training test scores of the same group.\n",
        "\n"
      ],
      "metadata": {
        "id": "hIul2XRLA9CK"
      }
    },
    {
      "cell_type": "code",
      "source": [
        "# Before and after scores\n",
        "before = [70, 72, 68, 65, 74, 71, 69]\n",
        "after = [75, 74, 70, 67, 78, 73, 72]"
      ],
      "metadata": {
        "id": "MH6LkpyzA40F"
      },
      "execution_count": 12,
      "outputs": []
    },
    {
      "cell_type": "code",
      "source": [
        "# H₀: μdiff = 0\n",
        "# H₁: μdiff ≠ 0"
      ],
      "metadata": {
        "id": "aiEIeMAyA-89"
      },
      "execution_count": 13,
      "outputs": []
    },
    {
      "cell_type": "code",
      "source": [
        "t_stat, p_val = stats.ttest_rel(before, after)"
      ],
      "metadata": {
        "id": "lfxAVjuIBAKz"
      },
      "execution_count": 14,
      "outputs": []
    },
    {
      "cell_type": "code",
      "source": [
        "print(\"t-statistic:\", round(t_stat, 3))\n",
        "print(\"p-value:\", round(p_val, 3))"
      ],
      "metadata": {
        "colab": {
          "base_uri": "https://localhost:8080/"
        },
        "id": "JVGg9kE5BBPl",
        "outputId": "090a3831-be83-40a9-ecc7-7e1eb2da5073"
      },
      "execution_count": 15,
      "outputs": [
        {
          "output_type": "stream",
          "name": "stdout",
          "text": [
            "t-statistic: -6.222\n",
            "p-value: 0.001\n"
          ]
        }
      ]
    },
    {
      "cell_type": "code",
      "source": [
        "if p_val < alpha:\n",
        "    print(\"Reject the null – training significantly improved scores.\")\n",
        "else:\n",
        "    print(\"Fail to reject the null – no significant improvement.\")"
      ],
      "metadata": {
        "colab": {
          "base_uri": "https://localhost:8080/"
        },
        "id": "3jx_vHakBCbb",
        "outputId": "7dd71c9b-ffa1-46c5-f238-ab2d6c26302a"
      },
      "execution_count": 16,
      "outputs": [
        {
          "output_type": "stream",
          "name": "stdout",
          "text": [
            "Reject the null – training significantly improved scores.\n"
          ]
        }
      ]
    },
    {
      "cell_type": "markdown",
      "source": [
        "## 6. Example 4 – Chi-Square Test for Independence\n",
        "\n",
        "Do gender and preferred learning style relate?"
      ],
      "metadata": {
        "id": "-Of49YwnBGwY"
      }
    },
    {
      "cell_type": "code",
      "source": [
        "import pandas as pd\n",
        "from scipy.stats import chi2_contingency"
      ],
      "metadata": {
        "id": "VkjUSluxBD6b"
      },
      "execution_count": 17,
      "outputs": []
    },
    {
      "cell_type": "code",
      "source": [
        "# Contingency table: Gender vs Learning Style\n",
        "data = pd.DataFrame({\n",
        "    'Visual': [30, 25],  # Male, Female\n",
        "    'Auditory': [20, 30],\n",
        "    'Kinesthetic': [10, 15]\n",
        "}, index=['Male', 'Female'])"
      ],
      "metadata": {
        "id": "ZIyD-dGhBJaN"
      },
      "execution_count": 18,
      "outputs": []
    },
    {
      "cell_type": "code",
      "source": [
        "# Chi-square test\n",
        "chi2, p, dof, expected = chi2_contingency(data)"
      ],
      "metadata": {
        "id": "b3oxm_9ABLAH"
      },
      "execution_count": 19,
      "outputs": []
    },
    {
      "cell_type": "code",
      "source": [
        "print(\"Chi-square Statistic:\", round(chi2, 3))\n",
        "print(\"p-value:\", round(p, 3))"
      ],
      "metadata": {
        "colab": {
          "base_uri": "https://localhost:8080/"
        },
        "id": "oPCII58mBMds",
        "outputId": "487adc2b-0110-41dd-8e72-dec829202354"
      },
      "execution_count": 20,
      "outputs": [
        {
          "output_type": "stream",
          "name": "stdout",
          "text": [
            "Chi-square Statistic: 2.701\n",
            "p-value: 0.259\n"
          ]
        }
      ]
    },
    {
      "cell_type": "code",
      "source": [
        "if p < alpha:\n",
        "    print(\"Reject the null – gender and learning style are related.\")\n",
        "else:\n",
        "    print(\"Fail to reject the null – no relationship.\")"
      ],
      "metadata": {
        "colab": {
          "base_uri": "https://localhost:8080/"
        },
        "id": "fVex4kP7BN4R",
        "outputId": "749e388b-ce37-4114-902f-ff458d8456ec"
      },
      "execution_count": 21,
      "outputs": [
        {
          "output_type": "stream",
          "name": "stdout",
          "text": [
            "Fail to reject the null – no relationship.\n"
          ]
        }
      ]
    },
    {
      "cell_type": "markdown",
      "source": [
        "## 7. Visualize p-value Distribution"
      ],
      "metadata": {
        "id": "STSV5NSjBT9T"
      }
    },
    {
      "cell_type": "code",
      "source": [
        "import matplotlib.pyplot as plt\n",
        "import seaborn as sns"
      ],
      "metadata": {
        "id": "QFHx9IgkBX6y"
      },
      "execution_count": 22,
      "outputs": []
    },
    {
      "cell_type": "code",
      "source": [
        "# Simulated normal distributions under H0 and H1\n",
        "x = np.linspace(-4, 4, 1000)\n",
        "h0 = stats.norm.pdf(x, 0, 1)\n",
        "h1 = stats.norm.pdf(x, 1, 1)"
      ],
      "metadata": {
        "id": "aZx2OsTgBauY"
      },
      "execution_count": 23,
      "outputs": []
    },
    {
      "cell_type": "code",
      "source": [
        "plt.plot(x, h0, label='H₀ Distribution', color='blue')\n",
        "plt.plot(x, h1, label='H₁ Distribution', color='red')\n",
        "plt.fill_between(x, 0, h0, where=(x > 1.96), color='blue', alpha=0.3, label='Rejection Region (α=0.05)')\n",
        "plt.axvline(1.96, linestyle='--', color='gray')\n",
        "plt.title(\"Hypothesis Testing – Normal Distributions\")\n",
        "plt.legend()\n",
        "plt.show()"
      ],
      "metadata": {
        "colab": {
          "base_uri": "https://localhost:8080/",
          "height": 452
        },
        "id": "bMdyOx2NBPlL",
        "outputId": "f5f54c50-b749-494d-d0ae-2e28eb977862"
      },
      "execution_count": 24,
      "outputs": [
        {
          "output_type": "display_data",
          "data": {
            "text/plain": [
              "<Figure size 640x480 with 1 Axes>"
            ],
            "image/png": "[encoded data removed]"
          },
          "metadata": {}
        }
      ]
    },
    {
      "cell_type": "markdown",
      "source": [
        "## 8. F-Test – Comparing Two Variances\n",
        "\n",
        "Used to test whether **two populations have equal variances**.\n",
        "\n",
        "### Example: Variance in scores of two teaching methods\n",
        "\n"
      ],
      "metadata": {
        "id": "ppKqG9y9DTiU"
      }
    },
    {
      "cell_type": "code",
      "source": [
        "import numpy as np\n",
        "from scipy.stats import f"
      ],
      "metadata": {
        "id": "n8smGfgNBdUN"
      },
      "execution_count": 25,
      "outputs": []
    },
    {
      "cell_type": "code",
      "source": [
        "# Scores from two teaching methods\n",
        "method1 = [85, 87, 90, 88, 86]\n",
        "method2 = [78, 75, 77, 80, 82]"
      ],
      "metadata": {
        "id": "Ek6S3mZtDVD5"
      },
      "execution_count": 26,
      "outputs": []
    },
    {
      "cell_type": "code",
      "source": [
        "# Calculate sample variances\n",
        "var1 = np.var(method1, ddof=1)\n",
        "var2 = np.var(method2, ddof=1)"
      ],
      "metadata": {
        "id": "gALOT6a4DWRe"
      },
      "execution_count": 27,
      "outputs": []
    },
    {
      "cell_type": "code",
      "source": [
        "# F-statistic: Larger variance / Smaller variance\n",
        "f_stat = max(var1, var2) / min(var1, var2)"
      ],
      "metadata": {
        "id": "IJw-8YwkDXlR"
      },
      "execution_count": 28,
      "outputs": []
    },
    {
      "cell_type": "code",
      "source": [
        "# Degrees of freedom\n",
        "df1 = len(method1) - 1\n",
        "df2 = len(method2) - 1"
      ],
      "metadata": {
        "id": "QtJOlZ6mDY8_"
      },
      "execution_count": 29,
      "outputs": []
    },
    {
      "cell_type": "code",
      "source": [
        "# p-value (two-tailed)\n",
        "p_value = 2 * min(f.cdf(f_stat, df1, df2), 1 - f.cdf(f_stat, df1, df2))"
      ],
      "metadata": {
        "id": "63OzfqaoDaVy"
      },
      "execution_count": 30,
      "outputs": []
    },
    {
      "cell_type": "code",
      "source": [
        "print(\"F-statistic:\", round(f_stat, 3))\n",
        "print(\"p-value:\", round(p_value, 3))"
      ],
      "metadata": {
        "colab": {
          "base_uri": "https://localhost:8080/"
        },
        "id": "-xe_y3HgDblc",
        "outputId": "884ccef0-c616-46c9-8fca-58c68f7231f5"
      },
      "execution_count": 31,
      "outputs": [
        {
          "output_type": "stream",
          "name": "stdout",
          "text": [
            "F-statistic: 1.973\n",
            "p-value: 0.527\n"
          ]
        }
      ]
    },
    {
      "cell_type": "code",
      "source": [
        "alpha = 0.05\n",
        "if p_value < alpha:\n",
        "    print(\"Reject H₀ – Variances are significantly different.\")\n",
        "else:\n",
        "    print(\"Fail to reject H₀ – No significant difference in variances.\")"
      ],
      "metadata": {
        "colab": {
          "base_uri": "https://localhost:8080/"
        },
        "id": "3rI0hpZtDc7M",
        "outputId": "5e160e6e-c97a-47f6-e38b-305661f2d96c"
      },
      "execution_count": 32,
      "outputs": [
        {
          "output_type": "stream",
          "name": "stdout",
          "text": [
            "Fail to reject H₀ – No significant difference in variances.\n"
          ]
        }
      ]
    },
    {
      "cell_type": "markdown",
      "source": [
        "## 9. One-Way ANOVA – Comparing Means of 3+ Groups\n",
        "\n",
        "Used when comparing **one independent variable with 3 or more groups**.\n",
        "\n",
        "### Example: Exam scores of 3 classes\n"
      ],
      "metadata": {
        "id": "IyXsZrIlDh4l"
      }
    },
    {
      "cell_type": "code",
      "source": [
        "from scipy.stats import f_oneway"
      ],
      "metadata": {
        "id": "cP-YHRnkDeep"
      },
      "execution_count": 33,
      "outputs": []
    },
    {
      "cell_type": "code",
      "source": [
        "class_A = [88, 92, 85, 90, 87]\n",
        "class_B = [78, 75, 80, 82, 79]\n",
        "class_C = [90, 88, 92, 94, 91]"
      ],
      "metadata": {
        "id": "JaUneu14DlOj"
      },
      "execution_count": 34,
      "outputs": []
    },
    {
      "cell_type": "code",
      "source": [
        "# H₀: All group means are equal\n",
        "# H₁: At least one group mean is different"
      ],
      "metadata": {
        "id": "hCu80_YRDm3d"
      },
      "execution_count": 35,
      "outputs": []
    },
    {
      "cell_type": "code",
      "source": [
        "f_stat, p_val = f_oneway(class_A, class_B, class_C)"
      ],
      "metadata": {
        "id": "FFs9rBB2DoD5"
      },
      "execution_count": 36,
      "outputs": []
    },
    {
      "cell_type": "code",
      "source": [
        "print(\"F-statistic:\", round(f_stat, 3))\n",
        "print(\"p-value:\", round(p_val, 3))"
      ],
      "metadata": {
        "colab": {
          "base_uri": "https://localhost:8080/"
        },
        "id": "vgJkd8AsDpOw",
        "outputId": "b77ad29d-5380-4c53-de16-dca923a376b7"
      },
      "execution_count": 37,
      "outputs": [
        {
          "output_type": "stream",
          "name": "stdout",
          "text": [
            "F-statistic: 32.6\n",
            "p-value: 0.0\n"
          ]
        }
      ]
    },
    {
      "cell_type": "code",
      "source": [
        "if p_val < alpha:\n",
        "    print(\"Reject H₀ – At least one class has a different mean score.\")\n",
        "else:\n",
        "    print(\"Fail to reject H₀ – No significant difference among class means.\")"
      ],
      "metadata": {
        "colab": {
          "base_uri": "https://localhost:8080/"
        },
        "id": "zBnrTZwrDqXg",
        "outputId": "6fc7622a-ad2f-40c8-b61b-70bfaa2115e3"
      },
      "execution_count": 38,
      "outputs": [
        {
          "output_type": "stream",
          "name": "stdout",
          "text": [
            "Reject H₀ – At least one class has a different mean score.\n"
          ]
        }
      ]
    },
    {
      "cell_type": "markdown",
      "source": [
        "## 10. Two-Way ANOVA – With Interaction Effect\n",
        "\n",
        "Used when studying **two categorical independent variables** and **one numerical dependent variable**.\n",
        "\n",
        "### Example: Does test score depend on `teaching method` and `gender`?\n",
        "\n"
      ],
      "metadata": {
        "id": "5vA_rvV8DvP8"
      }
    },
    {
      "cell_type": "code",
      "source": [
        "import pandas as pd\n",
        "import statsmodels.api as sm\n",
        "from statsmodels.formula.api import ols"
      ],
      "metadata": {
        "id": "r4MNqUb6DrhU"
      },
      "execution_count": 39,
      "outputs": []
    },
    {
      "cell_type": "code",
      "source": [
        "# Sample data\n",
        "data = pd.DataFrame({\n",
        "    'score': [80, 82, 84, 78, 75, 77, 90, 92, 89, 85, 88, 87],\n",
        "    'method': ['A', 'A', 'A', 'B', 'B', 'B', 'A', 'A', 'A', 'B', 'B', 'B'],\n",
        "    'gender': ['M', 'F', 'M', 'F', 'M', 'F', 'M', 'F', 'M', 'F', 'M', 'F']\n",
        "})"
      ],
      "metadata": {
        "id": "IDfbAmTmDw7D"
      },
      "execution_count": 40,
      "outputs": []
    },
    {
      "cell_type": "code",
      "source": [
        "# Two-way ANOVA with interaction\n",
        "model = ols('score ~ C(method) + C(gender) + C(method):C(gender)', data=data).fit()\n",
        "anova_table = sm.stats.anova_lm(model, typ=2)"
      ],
      "metadata": {
        "id": "zVXJdN-9DyYq"
      },
      "execution_count": 41,
      "outputs": []
    },
    {
      "cell_type": "code",
      "source": [
        "print(anova_table)"
      ],
      "metadata": {
        "colab": {
          "base_uri": "https://localhost:8080/"
        },
        "id": "yTWhjH0sDz5p",
        "outputId": "e7f89074-cf3c-4ab7-f48c-f9dee934421d"
      },
      "execution_count": 42,
      "outputs": [
        {
          "output_type": "stream",
          "name": "stdout",
          "text": [
            "                         sum_sq   df         F    PR(>F)\n",
            "C(method)             60.166667  1.0  1.756691  0.221637\n",
            "C(gender)              1.500000  1.0  0.043796  0.839465\n",
            "C(method):C(gender)    0.666667  1.0  0.019465  0.892491\n",
            "Residual             274.000000  8.0       NaN       NaN\n"
          ]
        }
      ]
    },
    {
      "cell_type": "markdown",
      "source": [
        "* `C(method)`: main effect of teaching method\n",
        "* `C(gender)`: main effect of gender\n",
        "* `C(method):C(gender)`: interaction effect\n",
        "\n"
      ],
      "metadata": {
        "id": "I8fi6sokD8Be"
      }
    },
    {
      "cell_type": "markdown",
      "source": [
        "## ✅ Summary Table of Tests\n",
        "\n",
        "| Test              | Use Case                                                  |\n",
        "| ----------------- | --------------------------------------------------------- |\n",
        "| Hypothesis Testing | Test assumptions about populations using sample data |\n",
        "| p-value            | Small p → evidence against H₀                        |\n",
        "| α (alpha)          | Significance level, often 0.05                       |\n",
        "| Common Tests       | t-test, paired t-test, chi-square, ANOVA             |\n",
        "| **t-tests**       | Compare means (1 or 2 groups)                             |\n",
        "| **Chi-square**    | Compare proportions (categorical)                         |\n",
        "| **F-test**        | Compare two variances                                     |\n",
        "| **One-Way ANOVA** | Compare >2 group means (one factor)                       |\n",
        "| **Two-Way ANOVA** | Compare means for two independent variables + interaction |\n"
      ],
      "metadata": {
        "id": "kLokHZYbD95F"
      }
    },
    {
      "cell_type": "code",
      "source": [],
      "metadata": {
        "id": "kbJlCG8sD2UX"
      },
      "execution_count": null,
      "outputs": []
    }
  ]
}