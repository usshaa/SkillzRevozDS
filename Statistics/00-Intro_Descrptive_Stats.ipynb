{
  "cells": [
    {
      "cell_type": "markdown",
      "metadata": {
        "colab_type": "text",
        "id": "view-in-github"
      },
      "source": [
        "<a href=\"https://colab.research.google.com/github/usshaa/ASAP/blob/main/2-Intro_Descrptive_Stats.ipynb\" target=\"_parent\"><img src=\"https://colab.research.google.com/assets/colab-badge.svg\" alt=\"Open In Colab\"/></a>"
      ]
    },
    {
      "cell_type": "markdown",
      "metadata": {
        "id": "l4WVpbHGWR0j"
      },
      "source": [
        "# ===========================\n",
        "#  Types of Data\n",
        "# ===========================\n",
        "<img src=\"https://150906855.v2.pressablecdn.com/wp-content/uploads/2024/09/Types-of-data.webp\">\n",
        "\n",
        "# **Types of Data**\n",
        "1. **Qualitative (Categorical Data)**: Non-numeric values\n",
        "   - Example: Colors (Red, Blue, Green), Gender (Male, Female)\n",
        "   \n",
        "2. **Quantitative (Numerical Data)**: Numeric values\n",
        "   - Discrete: Countable (e.g., Number of students in a class)\n",
        "   - Continuous: Measurable (e.g., Height, Weight)\n",
        "\n",
        "## **Example in Python**\n"
      ]
    },
    {
      "cell_type": "code",
      "execution_count": null,
      "metadata": {
        "colab": {
          "base_uri": "https://localhost:8080/"
        },
        "id": "DT0M961MWGFU",
        "outputId": "8a936528-fcb3-4b17-c909-3154dd414237"
      },
      "outputs": [
        {
          "name": "stdout",
          "output_type": "stream",
          "text": [
            "Structured Data:\n",
            "       Name  Age  Salary\n",
            "0    Alice   25   50000\n",
            "1      Bob   30   60000\n",
            "2  Charlie   35   70000\n",
            "\n",
            "Unstructured Data:\n",
            " Alice is 25 years old, Bob is 30 years old, and Charlie is 35 years old.\n"
          ]
        }
      ],
      "source": [
        "# Example: Structured vs Unstructured Data\n",
        "import pandas as pd\n",
        "\n",
        "# Structured Data (Tabular Format)\n",
        "structured_data = pd.DataFrame({\n",
        "    'Name': ['Alice', 'Bob', 'Charlie'],\n",
        "    'Age': [25, 30, 35],\n",
        "    'Salary': [50000, 60000, 70000]\n",
        "})\n",
        "print(\"Structured Data:\\n\", structured_data)\n",
        "\n",
        "# Unstructured Data (Text Data)\n",
        "unstructured_data = \"Alice is 25 years old, Bob is 30 years old, and Charlie is 35 years old.\"\n",
        "print(\"\\nUnstructured Data:\\n\", unstructured_data)"
      ]
    },
    {
      "cell_type": "markdown",
      "metadata": {
        "id": "aDuErLfRWmH9"
      },
      "source": [
        "# ===========================\n",
        "#  Measures of Central Tendency\n",
        "# ===========================\n",
        "\n",
        "\"\"\"\n",
        "# **Measures of Central Tendency**\n",
        "The three main measures:\n",
        "1. **Mean (Average)**: Sum of values divided by count\n",
        "2. **Median (Middle value when sorted)**\n",
        "3. **Mode (Most frequently occurring value)**\n",
        "\"\"\"\n",
        "<img src=\"https://miro.medium.com/v2/resize:fit:1400/1*Q_RBlyegohDwkfAdoRCyKg.png\">"
      ]
    },
    {
      "cell_type": "code",
      "execution_count": null,
      "metadata": {
        "id": "JGwfFZkqWpdr"
      },
      "outputs": [],
      "source": [
        "import statistics as stats"
      ]
    },
    {
      "cell_type": "code",
      "execution_count": null,
      "metadata": {
        "id": "GNll4SQEWu-y"
      },
      "outputs": [],
      "source": [
        "# Sample dataset\n",
        "data = [12, 15, 14, 10, 10, 18, 22, 20, 10, 17]"
      ]
    },
    {
      "cell_type": "code",
      "execution_count": null,
      "metadata": {
        "colab": {
          "base_uri": "https://localhost:8080/"
        },
        "id": "yrKdtOE7WwfA",
        "outputId": "ad006fab-4e7b-4b68-850c-fe9acd456c74"
      },
      "outputs": [
        {
          "name": "stdout",
          "output_type": "stream",
          "text": [
            "Mean: 14.8\n"
          ]
        }
      ],
      "source": [
        "# Mean Calculation\n",
        "mean_value = stats.mean(data)\n",
        "print(f\"Mean: {mean_value}\")"
      ]
    },
    {
      "cell_type": "code",
      "execution_count": null,
      "metadata": {
        "colab": {
          "base_uri": "https://localhost:8080/"
        },
        "id": "TTLoU6t0WyZf",
        "outputId": "077ec44e-c945-43b4-ff90-75fa4385a0dd"
      },
      "outputs": [
        {
          "name": "stdout",
          "output_type": "stream",
          "text": [
            "Median: 14.5\n"
          ]
        }
      ],
      "source": [
        "# Median Calculation\n",
        "median_value = stats.median(data)\n",
        "print(f\"Median: {median_value}\")"
      ]
    },
    {
      "cell_type": "code",
      "execution_count": null,
      "metadata": {
        "colab": {
          "base_uri": "https://localhost:8080/"
        },
        "id": "7KkUlizmW0aN",
        "outputId": "4a5cf22d-4f24-4444-c1e1-44fe816c251d"
      },
      "outputs": [
        {
          "name": "stdout",
          "output_type": "stream",
          "text": [
            "Mode: 10\n"
          ]
        }
      ],
      "source": [
        "# Mode Calculation\n",
        "mode_value = stats.mode(data)\n",
        "print(f\"Mode: {mode_value}\")"
      ]
    },
    {
      "cell_type": "markdown",
      "metadata": {
        "id": "zHssZcZAW-Tu"
      },
      "source": [
        "\"\"\"\n",
        "## **Interpreting the Results**\n",
        "- Mean is affected by extreme values (outliers).\n",
        "- Median is useful when there are outliers.\n",
        "- Mode is useful for categorical data.\n",
        "\"\"\"\n",
        "\n",
        "# ===========================\n",
        "#  Visualizing Central Tendency\n",
        "# ==========================="
      ]
    },
    {
      "cell_type": "code",
      "execution_count": null,
      "metadata": {
        "id": "7_IHorBuW8UX"
      },
      "outputs": [],
      "source": [
        "import matplotlib.pyplot as plt"
      ]
    },
    {
      "cell_type": "code",
      "execution_count": null,
      "metadata": {
        "colab": {
          "base_uri": "https://localhost:8080/",
          "height": 472
        },
        "id": "wEFkCW6xXCR1",
        "outputId": "705bb321-cbde-4333-d7ed-aed5a057cd6f"
      },
      "outputs": [
        {
          "data": {
            "image/png": "[encoded data removed]",
            "text/plain": [
              "<Figure size 640x480 with 1 Axes>"
            ]
          },
          "metadata": {},
          "output_type": "display_data"
        }
      ],
      "source": [
        "# Plotting the dataset\n",
        "plt.hist(data, bins=5, alpha=0.5, color=\"blue\", edgecolor=\"black\", label=\"Data\")\n",
        "\n",
        "# Plot mean, median, mode\n",
        "plt.axvline(mean_value, color='r', linestyle='dashed', linewidth=2, label=f'Mean: {mean_value}')\n",
        "plt.axvline(median_value, color='g', linestyle='dashed', linewidth=2, label=f'Median: {median_value}')\n",
        "plt.axvline(mode_value, color='y', linestyle='dashed', linewidth=2, label=f'Mode: {mode_value}')\n",
        "\n",
        "plt.legend()\n",
        "plt.xlabel(\"Values\")\n",
        "plt.ylabel(\"Frequency\")\n",
        "plt.title(\"Measures of Central Tendency\")\n",
        "plt.show()"
      ]
    },
    {
      "cell_type": "markdown",
      "metadata": {
        "id": "bRkXe5a6agzU"
      },
      "source": [
        "**The Iris dataset** is a classic dataset in machine learning and statistics. It contains measurements of sepal length, sepal width, petal length, and petal width for 150 iris flowers, with 50 flowers from each of three species: setosa, versicolor, and virginica.  This dataset is often used for classification tasks to demonstrate various machine learning algorithms."
      ]
    },
    {
      "cell_type": "code",
      "execution_count": null,
      "metadata": {
        "id": "cVtDh5CGg5Tc"
      },
      "outputs": [],
      "source": [
        "import pandas as pd\n",
        "import statistics as stats\n",
        "import matplotlib.pyplot as plt"
      ]
    },
    {
      "cell_type": "code",
      "execution_count": null,
      "metadata": {
        "id": "My83jozDX9a5"
      },
      "outputs": [],
      "source": [
        "# Sample dataset (replace with your Kaggle dataset)\n",
        "# Dataset URL: (Example - you'll need to find an appropriate dataset)\n",
        "# https://www.kaggle.com/datasets/uciml/iris  (Iris dataset)\n",
        "\n",
        "# Load the dataset (replace with actual dataset URL)\n",
        "try:\n",
        "    data = pd.read_csv('https://raw.githubusercontent.com/mwaskom/seaborn-data/master/iris.csv')\n",
        "    # Assume 'sepal_length' column for demonstration\n",
        "    data_column = data['sepal_length']\n",
        "\n",
        "except Exception as e:\n",
        "    print(f\"Error loading dataset: {e}\")\n",
        "    print(\"Please replace the example URL with a valid Kaggle dataset URL.\")\n",
        "    exit()"
      ]
    },
    {
      "cell_type": "markdown",
      "metadata": {
        "id": "UH6HxSe2YJh-"
      },
      "source": [
        "#### 1. What is the typical sepal length of Iris flowers in this dataset?\n",
        "####    - **Answer:** Use the mean (average)."
      ]
    },
    {
      "cell_type": "code",
      "execution_count": null,
      "metadata": {
        "colab": {
          "base_uri": "https://localhost:8080/"
        },
        "id": "YPOxFbwJX_kJ",
        "outputId": "d43131ab-bb51-40e7-f4d3-e45e1ed7cf91"
      },
      "outputs": [
        {
          "name": "stdout",
          "output_type": "stream",
          "text": [
            "Mean: 5.843333333333334\n"
          ]
        }
      ],
      "source": [
        "# Measures of central tendency\n",
        "mean = stats.mean(data_column)\n",
        "print(\"Mean:\", mean)"
      ]
    },
    {
      "cell_type": "markdown",
      "metadata": {
        "id": "mZO0NxY2Ydzo"
      },
      "source": [
        "#### 2. What sepal length divides the Iris flowers into two equal halves?\n",
        "####    - **Answer:** Use the median."
      ]
    },
    {
      "cell_type": "code",
      "execution_count": null,
      "metadata": {
        "colab": {
          "base_uri": "https://localhost:8080/"
        },
        "id": "3LnruKSdYUYS",
        "outputId": "9d8a7a45-3cdc-4903-ced2-73d173f6353e"
      },
      "outputs": [
        {
          "name": "stdout",
          "output_type": "stream",
          "text": [
            "Median: 5.8\n"
          ]
        }
      ],
      "source": [
        "median = stats.median(data_column)\n",
        "print(\"Median:\", median)"
      ]
    },
    {
      "cell_type": "markdown",
      "metadata": {
        "id": "v9stOQAQZXpS"
      },
      "source": [
        "#### 3. What is the most frequent sepal length observed in the Iris flowers?\n",
        "####    - **Answer:** Use the mode."
      ]
    },
    {
      "cell_type": "code",
      "execution_count": null,
      "metadata": {
        "colab": {
          "base_uri": "https://localhost:8080/"
        },
        "id": "RqnsjUo3YapD",
        "outputId": "133fce3e-2f2e-456a-8b0a-b060644a93bd"
      },
      "outputs": [
        {
          "name": "stdout",
          "output_type": "stream",
          "text": [
            "Mode: 5.0\n"
          ]
        }
      ],
      "source": [
        "mode = stats.mode(data_column)\n",
        "\n",
        "print(\"Mode:\", mode)"
      ]
    },
    {
      "cell_type": "markdown",
      "metadata": {
        "id": "P_3h9gVHY9-V"
      },
      "source": [
        "#### 4. A new Iris flower is observed with sepal length of 7.5 cm.\n",
        "#### Is this sepal length typical or unusual considering the data?\n",
        "####    - **Answer:** Compare 7.5 with the mean, median, and observe the distribution"
      ]
    },
    {
      "cell_type": "code",
      "execution_count": null,
      "metadata": {
        "colab": {
          "base_uri": "https://localhost:8080/",
          "height": 472
        },
        "id": "1hoiC2kIYBkD",
        "outputId": "5b543891-a372-48c9-ecaf-2bbe09677dd3"
      },
      "outputs": [
        {
          "data": {
            "image/png": "[encoded data removed]",
            "text/plain": [
              "<Figure size 640x480 with 1 Axes>"
            ]
          },
          "metadata": {},
          "output_type": "display_data"
        }
      ],
      "source": [
        "# Visualization\n",
        "plt.hist(data_column, bins=10, alpha=0.5, color=\"blue\", edgecolor=\"black\", label=\"Sepal Length\")\n",
        "plt.axvline(mean, color='r', linestyle='dashed', linewidth=2, label=f'Mean: {mean:.2f}')\n",
        "plt.axvline(median, color='g', linestyle='dashed', linewidth=2, label=f'Median: {median:.2f}')\n",
        "plt.axvline(mode, color='y', linestyle='dashed', linewidth=2, label=f'Mode: {mode:.2f}')\n",
        "plt.legend()\n",
        "plt.xlabel(\"Sepal Length (cm)\")\n",
        "plt.ylabel(\"Frequency\")\n",
        "plt.title(\"Distribution of Sepal Length in Iris Dataset\")\n",
        "plt.show()\n"
      ]
    },
    {
      "cell_type": "markdown",
      "metadata": {
        "id": "VHkDa6M2q22K"
      },
      "source": [
        "### **Choosing the Best Measure**  \n",
        "| **Data Type** | **Best Measure** | **Why?** |\n",
        "|--------------|-----------------|---------|\n",
        "| **Symmetric (Normal Distribution)** | **Mean** | Uses all data, best representative |\n",
        "| **Skewed Distribution** | **Median** | Not affected by extreme values |\n",
        "| **Categorical Data** | **Mode** | Shows most frequent category |"
      ]
    },
    {
      "cell_type": "code",
      "execution_count": null,
      "metadata": {
        "id": "-M3WGpMNZBp1"
      },
      "outputs": [],
      "source": []
    }
  ],
  "metadata": {
    "colab": {
      "authorship_tag": "ABX9TyPmqc/2dGyPr/qfPxtVYoe+",
      "include_colab_link": true,
      "provenance": []
    },
    "kernelspec": {
      "display_name": "Python 3",
      "name": "python3"
    },
    "language_info": {
      "name": "python"
    }
  },
  "nbformat": 4,
  "nbformat_minor": 0
}
